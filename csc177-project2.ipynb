{
 "cells": [
  {
   "cell_type": "markdown",
   "metadata": {},
   "source": [
    "## CSUS - CSc 177-02 Data Warehousing and Data Mining - Project 1: Clustering  \n",
    "### 2016 U.S. presidential election Twitter analysis  \n",
    "\n",
    "**Group members: Aaron Enberg, Nima Sarrafzadeh, Kyne Liu**  \n",
    "**Professor: Haiquan (Victor) Chen**"
   ]
  },
  {
   "cell_type": "code",
   "execution_count": 236,
   "metadata": {
    "scrolled": true
   },
   "outputs": [],
   "source": [
    "import pandas as pd\n",
    "import numpy as np\n",
    "import matplotlib.pyplot as plt\n",
    "from sklearn import (\n",
    "    preprocessing,  \n",
    "    cluster as sk_cluster,\n",
    "    metrics\n",
    ")\n",
    "from sklearn.feature_selection import VarianceThreshold\n",
    "from sklearn.svm import SVC\n",
    "from sklearn.tree import DecisionTreeClassifier\n",
    "from sklearn.neighbors import KNeighborsClassifier\n",
    "from sklearn.linear_model import LogisticRegression\n",
    "from sklearn.model_selection import (\n",
    "    cross_val_score,\n",
    "    train_test_split,\n",
    "    GridSearchCV\n",
    ")\n",
    "import sklearn.feature_extraction.text as sk_text\n",
    "import gc\n",
    "\n",
    "%matplotlib inline\n",
    "pd.set_option('display.max_colwidth', -1)"
   ]
  },
  {
   "cell_type": "code",
   "execution_count": 237,
   "metadata": {
    "scrolled": true
   },
   "outputs": [],
   "source": [
    "column_names = ['name', 'screen_name', 'user_id', \n",
    "                'followers_count', 'friends_count', \n",
    "                'location', 'description', 'created_at', \n",
    "                'status_id', 'language', 'place', \n",
    "                'retweet_count', 'favorite_count', 'text']\n",
    "\n",
    "tweets = pd.read_table('data/clinton_trump_tweets.txt', names=column_names, encoding='ISO-8859-1')"
   ]
  },
  {
   "cell_type": "code",
   "execution_count": 238,
   "metadata": {
    "scrolled": true
   },
   "outputs": [
    {
     "name": "stdout",
     "output_type": "stream",
     "text": [
      "(5250980, 14)\n",
      "name               object\n",
      "screen_name        object\n",
      "user_id            int64 \n",
      "followers_count    int64 \n",
      "friends_count      int64 \n",
      "location           object\n",
      "description        object\n",
      "created_at         object\n",
      "status_id          int64 \n",
      "language           object\n",
      "place              object\n",
      "retweet_count      int64 \n",
      "favorite_count     int64 \n",
      "text               object\n",
      "dtype: object\n"
     ]
    }
   ],
   "source": [
    "print(tweets.shape)\n",
    "print(tweets.dtypes)"
   ]
  },
  {
   "cell_type": "markdown",
   "metadata": {},
   "source": [
    "## Preprocessing"
   ]
  },
  {
   "cell_type": "code",
   "execution_count": 239,
   "metadata": {},
   "outputs": [
    {
     "data": {
      "text/html": [
       "<div>\n",
       "<style scoped>\n",
       "    .dataframe tbody tr th:only-of-type {\n",
       "        vertical-align: middle;\n",
       "    }\n",
       "\n",
       "    .dataframe tbody tr th {\n",
       "        vertical-align: top;\n",
       "    }\n",
       "\n",
       "    .dataframe thead th {\n",
       "        text-align: right;\n",
       "    }\n",
       "</style>\n",
       "<table border=\"1\" class=\"dataframe\">\n",
       "  <thead>\n",
       "    <tr style=\"text-align: right;\">\n",
       "      <th></th>\n",
       "      <th>user_id</th>\n",
       "      <th>text</th>\n",
       "    </tr>\n",
       "  </thead>\n",
       "  <tbody>\n",
       "    <tr>\n",
       "      <th>0</th>\n",
       "      <td>1519696717</td>\n",
       "      <td>@NWAJimmy I've read it now though brother. Was pretty spot on Lots of bright spots but a lot to work on. Exactly as an exhibition should be!</td>\n",
       "    </tr>\n",
       "    <tr>\n",
       "      <th>1</th>\n",
       "      <td>109945090</td>\n",
       "      <td>RT @wikileaks: New poll puts Pirate Party on course to win Iceland's national elections on Saturday. https://t.co/edTqjeJaQ6</td>\n",
       "    </tr>\n",
       "    <tr>\n",
       "      <th>2</th>\n",
       "      <td>1450086582</td>\n",
       "      <td>@gaystoner821 I think New Orleans spoiled me with food. I need to try and branch out in BR.</td>\n",
       "    </tr>\n",
       "    <tr>\n",
       "      <th>3</th>\n",
       "      <td>167177185</td>\n",
       "      <td>RT @LOLGOP: ACA needs fixes but know da facts:  *70% can get covered in marketplaces for under $75/month  *Hikes affect 3% *GOP will uninsu</td>\n",
       "    </tr>\n",
       "    <tr>\n",
       "      <th>4</th>\n",
       "      <td>1191022351</td>\n",
       "      <td>RT @FastCompany: Alphabet shares soar on better-than-expected earnings as mobile video strategy pays off https://t.co/bokbXngMJt https://t.</td>\n",
       "    </tr>\n",
       "  </tbody>\n",
       "</table>\n",
       "</div>"
      ],
      "text/plain": [
       "      user_id  \\\n",
       "0  1519696717   \n",
       "1  109945090    \n",
       "2  1450086582   \n",
       "3  167177185    \n",
       "4  1191022351   \n",
       "\n",
       "                                                                                                                                           text  \n",
       "0  @NWAJimmy I've read it now though brother. Was pretty spot on Lots of bright spots but a lot to work on. Exactly as an exhibition should be!  \n",
       "1  RT @wikileaks: New poll puts Pirate Party on course to win Iceland's national elections on Saturday. https://t.co/edTqjeJaQ6                  \n",
       "2  @gaystoner821 I think New Orleans spoiled me with food. I need to try and branch out in BR.                                                   \n",
       "3  RT @LOLGOP: ACA needs fixes but know da facts:  *70% can get covered in marketplaces for under $75/month  *Hikes affect 3% *GOP will uninsu   \n",
       "4  RT @FastCompany: Alphabet shares soar on better-than-expected earnings as mobile video strategy pays off https://t.co/bokbXngMJt https://t.   "
      ]
     },
     "execution_count": 239,
     "metadata": {},
     "output_type": "execute_result"
    }
   ],
   "source": [
    "tweets.drop(['name', 'screen_name', \n",
    "            'followers_count', \n",
    "            'friends_count', \n",
    "            'location', \n",
    "            'description', \n",
    "            'created_at',\n",
    "            'status_id', \n",
    "            'language', \n",
    "            'place', \n",
    "            'retweet_count', \n",
    "            'favorite_count'], axis=1, inplace=True)\n",
    "tweets.head()"
   ]
  },
  {
   "cell_type": "markdown",
   "metadata": {},
   "source": [
    "### Remove all retweets"
   ]
  },
  {
   "cell_type": "code",
   "execution_count": 240,
   "metadata": {
    "scrolled": true
   },
   "outputs": [],
   "source": [
    "# lines that start with \"RT\" followed by a space\n",
    "pattern = r'^RT\\s'\n",
    " \n",
    "# matches retweets and removes them\n",
    "tweets = tweets[tweets.text.str.match(pattern) == False]"
   ]
  },
  {
   "cell_type": "code",
   "execution_count": 241,
   "metadata": {
    "scrolled": true
   },
   "outputs": [
    {
     "data": {
      "text/plain": [
       "(2416818, 2)"
      ]
     },
     "execution_count": 241,
     "metadata": {},
     "output_type": "execute_result"
    }
   ],
   "source": [
    "tweets.shape"
   ]
  },
  {
   "cell_type": "markdown",
   "metadata": {},
   "source": [
    "### Extract all handles and hashtags"
   ]
  },
  {
   "cell_type": "code",
   "execution_count": 242,
   "metadata": {
    "scrolled": false
   },
   "outputs": [
    {
     "data": {
      "text/plain": [
       "119"
      ]
     },
     "execution_count": 242,
     "metadata": {},
     "output_type": "execute_result"
    }
   ],
   "source": [
    "# match all hashtags and handles in a tweet, ignoring possible email addresses\n",
    "pattern = r'(?<=^|(?<=[^a-zA-Z0-9-\\.]))@([A-Za-z_]+[A-Za-z0-9_]+)|(?<=^|(?<=[^a-zA-Z0-9-\\.]))#([A-Za-z_]+[A-Za-z0-9_]+)'\n",
    "\n",
    "\"\"\" returns a DataFrame with a MultiIndex:\n",
    "    First index is our original index. Second index is \"match\" which is a running\n",
    "    total of the number of occurences of hashtags and mentions for a particular \n",
    "    tweet. \"\"\"\n",
    "handles_hashtags = tweets.text.str.extractall(pattern)\n",
    "\n",
    "# make the dataframe look nice \n",
    "handles_hashtags.columns = ['handles', 'hashtags']\n",
    "handles_hashtags = handles_hashtags.reset_index().set_index('level_0')\n",
    "del handles_hashtags.index.name\n",
    "handles_hashtags.drop(['match'], axis=1, inplace=True)\n",
    "\n",
    "# stack handles and hashtags into one column\n",
    "handles_hashtags = pd.concat(\n",
    "    [handles_hashtags.handles, \n",
    "     handles_hashtags.hashtags]\n",
    ").dropna().to_frame(name='handles_hashtags')\n",
    "\n",
    "tweets = tweets.join(handles_hashtags, how='inner').reset_index()\n",
    "tweets.drop(['text'], axis=1, inplace=True)\n",
    "\n",
    "del handles_hashtags\n",
    "gc.collect()"
   ]
  },
  {
   "cell_type": "markdown",
   "metadata": {},
   "source": [
    "### keep active users with at least 20 distinct hashtags/handles"
   ]
  },
  {
   "cell_type": "code",
   "execution_count": 243,
   "metadata": {},
   "outputs": [
    {
     "data": {
      "text/plain": [
       "7"
      ]
     },
     "execution_count": 243,
     "metadata": {},
     "output_type": "execute_result"
    }
   ],
   "source": [
    "# returns users along with the distinct hashtags/handles they've used\n",
    "handles_hashtags_distinct = tweets.groupby('user_id')['handles_hashtags'].unique().to_frame()\n",
    "# retrieve only those who have used 20 or more distinct handles/hashtags\n",
    "users_active = handles_hashtags_distinct[handles_hashtags_distinct.handles_hashtags.str.len() > 19]\n",
    "\n",
    "del handles_hashtags_distinct\n",
    "gc.collect()"
   ]
  },
  {
   "cell_type": "code",
   "execution_count": 244,
   "metadata": {},
   "outputs": [
    {
     "data": {
      "text/plain": [
       "30"
      ]
     },
     "execution_count": 244,
     "metadata": {},
     "output_type": "execute_result"
    }
   ],
   "source": [
    "''' returns users along with all the hashtags and handles (including duplicates) they've used \n",
    "    (each occurrence of a hashtag/handle will also show up in the list) '''\n",
    "handles_hashtags_all = tweets.reset_index().groupby('user_id')['handles_hashtags'].apply(list).to_frame()\n",
    "\n",
    "users_active = users_active.join(\n",
    "    handles_hashtags_all, \n",
    "    lsuffix='_distinct', \n",
    "    rsuffix='_all', \n",
    "    how='inner')\n",
    "\n",
    "del handles_hashtags_all\n",
    "gc.collect()"
   ]
  },
  {
   "cell_type": "code",
   "execution_count": 245,
   "metadata": {},
   "outputs": [],
   "source": [
    "# convert each list of handles/hashtags into a string\n",
    "users_active['handles_hashtags_stringified'] = users_active['handles_hashtags_all'].apply(\n",
    "    lambda x: ' '.join(map(str, x)))\n",
    "\n",
    "# list of strings, each containing all of the handles and hashtags for a user\n",
    "corpus = list(users_active['handles_hashtags_stringified'])"
   ]
  },
  {
   "cell_type": "markdown",
   "metadata": {},
   "source": [
    "### hashtags/handles that have been used by at least 20 distinct users (min_df=20)"
   ]
  },
  {
   "cell_type": "code",
   "execution_count": 246,
   "metadata": {},
   "outputs": [],
   "source": [
    "# constructs a dataframe with only the handles/hashtags \n",
    "#(relevant to the 2016 U.S. Election) used by 20 users \n",
    "irrelevant_terms = ['amazon', 'art', 'biz', 'borisjohnson', 'brexit', \n",
    "              'business', 'etsy', 'facebook', 'fashion', 'flythew', \n",
    "              'free', 'health', 'ibmwow', 'indians', 'iran', 'jewelry', \n",
    "              'hiac', 'rallytogether', 'entrepreneur', 'quote', 'ebay', \n",
    "              'marketing', 'sales', 'nowplaying', 'socialmedia', 'spotify', \n",
    "              'mplusplaces', 'nfl', 'twitter', 'worldseries', 'youtube', \n",
    "              'business', 'cubs', 'indians', 'vine', 'halloween', 'tech', \n",
    "              'download', 'potus', 'abc', 'giveaway', 'cbsnews', 'music',\n",
    "              'news', 'vip', 'vote', 'win', 'us', 'usa', 'leadership', \n",
    "              'nyc', 'women', 'startup', 'newyork', 'fbi', 'mplusrewards']\n",
    "vectorizer = sk_text.CountVectorizer(min_df=20, \n",
    "                                     max_features=86, \n",
    "                                     lowercase=True, \n",
    "                                     encoding='ISO-8859-1', \n",
    "                                     stop_words=irrelevant_terms)\n",
    "matrix = vectorizer.fit_transform(corpus)"
   ]
  },
  {
   "cell_type": "raw",
   "metadata": {},
   "source": [
    "vectorizer.vocabulary_"
   ]
  },
  {
   "cell_type": "code",
   "execution_count": 247,
   "metadata": {},
   "outputs": [],
   "source": [
    "df = pd.DataFrame(matrix.toarray(), \n",
    "                  index=users_active.index, \n",
    "                  columns=vectorizer.get_feature_names())"
   ]
  },
  {
   "cell_type": "code",
   "execution_count": 248,
   "metadata": {},
   "outputs": [
    {
     "data": {
      "text/html": [
       "<div>\n",
       "<style scoped>\n",
       "    .dataframe tbody tr th:only-of-type {\n",
       "        vertical-align: middle;\n",
       "    }\n",
       "\n",
       "    .dataframe tbody tr th {\n",
       "        vertical-align: top;\n",
       "    }\n",
       "\n",
       "    .dataframe thead th {\n",
       "        text-align: right;\n",
       "    }\n",
       "</style>\n",
       "<table border=\"1\" class=\"dataframe\">\n",
       "  <thead>\n",
       "    <tr style=\"text-align: right;\">\n",
       "      <th></th>\n",
       "      <th>ap</th>\n",
       "      <th>barackobama</th>\n",
       "      <th>breitbartnews</th>\n",
       "      <th>c0nvey</th>\n",
       "      <th>cernovich</th>\n",
       "      <th>chrislhayes</th>\n",
       "      <th>clinton</th>\n",
       "      <th>cnn</th>\n",
       "      <th>cnnpolitics</th>\n",
       "      <th>comey</th>\n",
       "      <th>...</th>\n",
       "      <th>trump</th>\n",
       "      <th>trump2016</th>\n",
       "      <th>trumppence16</th>\n",
       "      <th>trumptrain</th>\n",
       "      <th>usatoday</th>\n",
       "      <th>walshfreedom</th>\n",
       "      <th>washingtonpost</th>\n",
       "      <th>wdfx2eu7</th>\n",
       "      <th>wikileaks</th>\n",
       "      <th>wsj</th>\n",
       "    </tr>\n",
       "    <tr>\n",
       "      <th>user_id</th>\n",
       "      <th></th>\n",
       "      <th></th>\n",
       "      <th></th>\n",
       "      <th></th>\n",
       "      <th></th>\n",
       "      <th></th>\n",
       "      <th></th>\n",
       "      <th></th>\n",
       "      <th></th>\n",
       "      <th></th>\n",
       "      <th></th>\n",
       "      <th></th>\n",
       "      <th></th>\n",
       "      <th></th>\n",
       "      <th></th>\n",
       "      <th></th>\n",
       "      <th></th>\n",
       "      <th></th>\n",
       "      <th></th>\n",
       "      <th></th>\n",
       "      <th></th>\n",
       "    </tr>\n",
       "  </thead>\n",
       "  <tbody>\n",
       "    <tr>\n",
       "      <th>1644</th>\n",
       "      <td>0</td>\n",
       "      <td>0</td>\n",
       "      <td>0</td>\n",
       "      <td>0</td>\n",
       "      <td>0</td>\n",
       "      <td>0</td>\n",
       "      <td>0</td>\n",
       "      <td>0</td>\n",
       "      <td>0</td>\n",
       "      <td>0</td>\n",
       "      <td>...</td>\n",
       "      <td>0</td>\n",
       "      <td>0</td>\n",
       "      <td>0</td>\n",
       "      <td>0</td>\n",
       "      <td>0</td>\n",
       "      <td>0</td>\n",
       "      <td>0</td>\n",
       "      <td>0</td>\n",
       "      <td>0</td>\n",
       "      <td>0</td>\n",
       "    </tr>\n",
       "    <tr>\n",
       "      <th>1737</th>\n",
       "      <td>0</td>\n",
       "      <td>0</td>\n",
       "      <td>0</td>\n",
       "      <td>0</td>\n",
       "      <td>0</td>\n",
       "      <td>0</td>\n",
       "      <td>0</td>\n",
       "      <td>0</td>\n",
       "      <td>0</td>\n",
       "      <td>0</td>\n",
       "      <td>...</td>\n",
       "      <td>0</td>\n",
       "      <td>0</td>\n",
       "      <td>0</td>\n",
       "      <td>0</td>\n",
       "      <td>0</td>\n",
       "      <td>0</td>\n",
       "      <td>0</td>\n",
       "      <td>0</td>\n",
       "      <td>0</td>\n",
       "      <td>0</td>\n",
       "    </tr>\n",
       "    <tr>\n",
       "      <th>2391</th>\n",
       "      <td>0</td>\n",
       "      <td>0</td>\n",
       "      <td>0</td>\n",
       "      <td>0</td>\n",
       "      <td>0</td>\n",
       "      <td>0</td>\n",
       "      <td>0</td>\n",
       "      <td>0</td>\n",
       "      <td>0</td>\n",
       "      <td>0</td>\n",
       "      <td>...</td>\n",
       "      <td>0</td>\n",
       "      <td>0</td>\n",
       "      <td>0</td>\n",
       "      <td>0</td>\n",
       "      <td>0</td>\n",
       "      <td>0</td>\n",
       "      <td>0</td>\n",
       "      <td>0</td>\n",
       "      <td>0</td>\n",
       "      <td>0</td>\n",
       "    </tr>\n",
       "    <tr>\n",
       "      <th>2426</th>\n",
       "      <td>0</td>\n",
       "      <td>0</td>\n",
       "      <td>0</td>\n",
       "      <td>0</td>\n",
       "      <td>0</td>\n",
       "      <td>0</td>\n",
       "      <td>0</td>\n",
       "      <td>0</td>\n",
       "      <td>0</td>\n",
       "      <td>0</td>\n",
       "      <td>...</td>\n",
       "      <td>0</td>\n",
       "      <td>0</td>\n",
       "      <td>0</td>\n",
       "      <td>0</td>\n",
       "      <td>0</td>\n",
       "      <td>0</td>\n",
       "      <td>0</td>\n",
       "      <td>0</td>\n",
       "      <td>0</td>\n",
       "      <td>0</td>\n",
       "    </tr>\n",
       "    <tr>\n",
       "      <th>14763</th>\n",
       "      <td>0</td>\n",
       "      <td>0</td>\n",
       "      <td>0</td>\n",
       "      <td>0</td>\n",
       "      <td>0</td>\n",
       "      <td>0</td>\n",
       "      <td>0</td>\n",
       "      <td>0</td>\n",
       "      <td>0</td>\n",
       "      <td>0</td>\n",
       "      <td>...</td>\n",
       "      <td>0</td>\n",
       "      <td>0</td>\n",
       "      <td>0</td>\n",
       "      <td>0</td>\n",
       "      <td>0</td>\n",
       "      <td>0</td>\n",
       "      <td>0</td>\n",
       "      <td>0</td>\n",
       "      <td>0</td>\n",
       "      <td>0</td>\n",
       "    </tr>\n",
       "  </tbody>\n",
       "</table>\n",
       "<p>5 rows × 86 columns</p>\n",
       "</div>"
      ],
      "text/plain": [
       "         ap  barackobama  breitbartnews  c0nvey  cernovich  chrislhayes  \\\n",
       "user_id                                                                   \n",
       "1644     0   0            0              0       0          0             \n",
       "1737     0   0            0              0       0          0             \n",
       "2391     0   0            0              0       0          0             \n",
       "2426     0   0            0              0       0          0             \n",
       "14763    0   0            0              0       0          0             \n",
       "\n",
       "         clinton  cnn  cnnpolitics  comey ...   trump  trump2016  \\\n",
       "user_id                                   ...                      \n",
       "1644     0        0    0            0     ...   0      0           \n",
       "1737     0        0    0            0     ...   0      0           \n",
       "2391     0        0    0            0     ...   0      0           \n",
       "2426     0        0    0            0     ...   0      0           \n",
       "14763    0        0    0            0     ...   0      0           \n",
       "\n",
       "         trumppence16  trumptrain  usatoday  walshfreedom  washingtonpost  \\\n",
       "user_id                                                                     \n",
       "1644     0             0           0         0             0                \n",
       "1737     0             0           0         0             0                \n",
       "2391     0             0           0         0             0                \n",
       "2426     0             0           0         0             0                \n",
       "14763    0             0           0         0             0                \n",
       "\n",
       "         wdfx2eu7  wikileaks  wsj  \n",
       "user_id                            \n",
       "1644     0         0          0    \n",
       "1737     0         0          0    \n",
       "2391     0         0          0    \n",
       "2426     0         0          0    \n",
       "14763    0         0          0    \n",
       "\n",
       "[5 rows x 86 columns]"
      ]
     },
     "execution_count": 248,
     "metadata": {},
     "output_type": "execute_result"
    }
   ],
   "source": [
    "# rows are users, columns are hashtags/handles\n",
    "# values are frequency of a handle/hashtag\n",
    "df.head()"
   ]
  },
  {
   "cell_type": "code",
   "execution_count": 249,
   "metadata": {},
   "outputs": [
    {
     "data": {
      "text/plain": [
       "(17066, 86)"
      ]
     },
     "execution_count": 249,
     "metadata": {},
     "output_type": "execute_result"
    }
   ],
   "source": [
    "df.shape"
   ]
  },
  {
   "cell_type": "code",
   "execution_count": 250,
   "metadata": {},
   "outputs": [
    {
     "data": {
      "text/plain": [
       "(5223, 86)"
      ]
     },
     "execution_count": 250,
     "metadata": {},
     "output_type": "execute_result"
    }
   ],
   "source": [
    "# only keep users that used a TOP 100 hashtag/handle at least 3 times\n",
    "df = df[(df.T > 2).any()]\n",
    "df.shape"
   ]
  },
  {
   "cell_type": "code",
   "execution_count": 251,
   "metadata": {},
   "outputs": [
    {
     "data": {
      "text/plain": [
       "115"
      ]
     },
     "execution_count": 251,
     "metadata": {},
     "output_type": "execute_result"
    }
   ],
   "source": [
    "labels = pd.read_table('./data/clinton_trump_user_classes.txt', \n",
    "                       names=['user_id', 'label'])\n",
    "labels.set_index('user_id', inplace=True)\n",
    "df = labels.join(df, how='inner')\n",
    "y = df['label']\n",
    "df.drop('label', axis=1, inplace=True)\n",
    "del labels\n",
    "gc.collect()"
   ]
  },
  {
   "cell_type": "code",
   "execution_count": 252,
   "metadata": {},
   "outputs": [],
   "source": [
    "X_train, X_test, y_train, y_test = train_test_split(df, y, \n",
    "                                                    test_size=0.2, \n",
    "                                                    random_state=42)"
   ]
  },
  {
   "cell_type": "code",
   "execution_count": 253,
   "metadata": {},
   "outputs": [
    {
     "name": "stdout",
     "output_type": "stream",
     "text": [
      "(4178, 86)\n",
      "(1045, 86)\n",
      "(4178,)\n",
      "(1045,)\n"
     ]
    }
   ],
   "source": [
    "print(X_train.shape)\n",
    "print(X_test.shape)\n",
    "print(y_train.shape)\n",
    "print(y_test.shape)"
   ]
  },
  {
   "cell_type": "code",
   "execution_count": 254,
   "metadata": {},
   "outputs": [],
   "source": [
    "std_scaler = preprocessing.StandardScaler()\n",
    "X_train_scaled = std_scaler.fit_transform(X_train)\n",
    "X_test_scaled = std_scaler.fit_transform(X_test)"
   ]
  },
  {
   "cell_type": "markdown",
   "metadata": {},
   "source": [
    "#### SVM Classification"
   ]
  },
  {
   "cell_type": "code",
   "execution_count": 255,
   "metadata": {},
   "outputs": [
    {
     "data": {
      "text/plain": [
       "SVC(C=5, cache_size=200, class_weight=None, coef0=0.0,\n",
       "  decision_function_shape='ovr', degree=3, gamma=0.005, kernel='rbf',\n",
       "  max_iter=-1, probability=False, random_state=42, shrinking=True,\n",
       "  tol=0.001, verbose=False)"
      ]
     },
     "execution_count": 255,
     "metadata": {},
     "output_type": "execute_result"
    }
   ],
   "source": [
    "svm_clf = SVC(C=5, kernel='rbf', degree=3, \n",
    "              gamma=.005, coef0=0.0, shrinking=True, \n",
    "              probability=False, tol=0.001, cache_size=200, \n",
    "              class_weight=None, verbose=False, max_iter=-1, \n",
    "              decision_function_shape='ovr', random_state=42)\n",
    "svm_clf.fit(X_train_scaled, y_train)"
   ]
  },
  {
   "cell_type": "code",
   "execution_count": 256,
   "metadata": {},
   "outputs": [
    {
     "name": "stdout",
     "output_type": "stream",
     "text": [
      "Support Vector Machine classification results\n",
      "\n",
      " F1-Score \n",
      " 0.8486772486772486\n",
      "\n",
      " Precision \n",
      " 0.8302277432712215\n",
      "\n",
      " Recall \n",
      " 0.8679653679653679\n",
      "\n",
      " Confusion Matrix \n",
      " [[501  82]\n",
      " [ 61 401]]\n"
     ]
    }
   ],
   "source": [
    "y_pred = svm_clf.predict(X_test_scaled)\n",
    "print(\"Support Vector Machine classification results\")\n",
    "print(\"\\n F1-Score \\n\", metrics.f1_score(y_test, y_pred))\n",
    "print(\"\\n Precision \\n\", metrics.precision_score(y_test, y_pred))\n",
    "print(\"\\n Recall \\n\", metrics.recall_score(y_test, y_pred))\n",
    "print(\"\\n Confusion Matrix \\n\", metrics.confusion_matrix(y_test, y_pred))"
   ]
  },
  {
   "cell_type": "markdown",
   "metadata": {},
   "source": [
    "#### Decision Tree Classification"
   ]
  },
  {
   "cell_type": "code",
   "execution_count": 257,
   "metadata": {},
   "outputs": [
    {
     "data": {
      "text/plain": [
       "DecisionTreeClassifier(class_weight='balanced', criterion='entropy',\n",
       "            max_depth=None, max_features=None, max_leaf_nodes=23,\n",
       "            min_impurity_decrease=0.0, min_impurity_split=None,\n",
       "            min_samples_leaf=1, min_samples_split=2,\n",
       "            min_weight_fraction_leaf=0.0, presort=False, random_state=42,\n",
       "            splitter='best')"
      ]
     },
     "execution_count": 257,
     "metadata": {},
     "output_type": "execute_result"
    }
   ],
   "source": [
    "tree_clf = DecisionTreeClassifier(criterion='entropy', \n",
    "                                  splitter='best', \n",
    "                                  max_depth=None, \n",
    "                                  min_samples_split=2, \n",
    "                                  min_samples_leaf=1, \n",
    "                                  min_weight_fraction_leaf=0.0, \n",
    "                                  max_features=None, \n",
    "                                  random_state=42, \n",
    "                                  max_leaf_nodes=23, \n",
    "                                  min_impurity_decrease=0.0, \n",
    "                                  min_impurity_split=None, \n",
    "                                  class_weight='balanced', \n",
    "                                  presort=False)\n",
    "tree_clf.fit(X_train_scaled, y_train)"
   ]
  },
  {
   "cell_type": "code",
   "execution_count": 258,
   "metadata": {},
   "outputs": [
    {
     "name": "stdout",
     "output_type": "stream",
     "text": [
      "Decision Tree classification results\n",
      "\n",
      " F1-Score \n",
      " 0.781190019193858\n",
      "\n",
      " Precision \n",
      " 0.7017241379310345\n",
      "\n",
      " Recall \n",
      " 0.8809523809523809\n",
      "\n",
      " Confusion Matrix \n",
      " [[410 173]\n",
      " [ 55 407]]\n"
     ]
    }
   ],
   "source": [
    "y_pred = tree_clf.predict(X_test_scaled)\n",
    "print(\"Decision Tree classification results\")\n",
    "print(\"\\n F1-Score \\n\", metrics.f1_score(y_test, y_pred))\n",
    "print(\"\\n Precision \\n\", metrics.precision_score(y_test, y_pred))\n",
    "print(\"\\n Recall \\n\", metrics.recall_score(y_test, y_pred))\n",
    "print(\"\\n Confusion Matrix \\n\", metrics.confusion_matrix(y_test, y_pred))"
   ]
  },
  {
   "cell_type": "markdown",
   "metadata": {},
   "source": [
    "#### Logistic Regression Classification"
   ]
  },
  {
   "cell_type": "code",
   "execution_count": 259,
   "metadata": {},
   "outputs": [
    {
     "data": {
      "text/plain": [
       "LogisticRegression(C=0.0094, class_weight=None, dual=False,\n",
       "          fit_intercept=True, intercept_scaling=1, max_iter=100,\n",
       "          multi_class='ovr', n_jobs=1, penalty='l2', random_state=42,\n",
       "          solver='liblinear', tol=0.0001, verbose=0, warm_start=False)"
      ]
     },
     "execution_count": 259,
     "metadata": {},
     "output_type": "execute_result"
    }
   ],
   "source": [
    "# lowered C for stronger regularization\n",
    "log_reg = LogisticRegression(penalty='l2', dual=False, \n",
    "                             tol=0.0001, C=.0094, \n",
    "                             fit_intercept=True, \n",
    "                             intercept_scaling=1, \n",
    "                             class_weight=None, \n",
    "                             random_state=42, \n",
    "                             solver='liblinear', \n",
    "                             max_iter=100, \n",
    "                             multi_class='ovr', \n",
    "                             verbose=0, \n",
    "                             warm_start=False, n_jobs=1)\n",
    "log_reg.fit(X_train_scaled, y_train)"
   ]
  },
  {
   "cell_type": "code",
   "execution_count": 260,
   "metadata": {},
   "outputs": [
    {
     "name": "stdout",
     "output_type": "stream",
     "text": [
      "Logistic Regression classification results\n",
      "\n",
      " F1-Score \n",
      " 0.8224917309812569\n",
      "\n",
      " Precision \n",
      " 0.8382022471910112\n",
      "\n",
      " Recall \n",
      " 0.8073593073593074\n",
      "\n",
      " Confusion Matrix \n",
      " [[511  72]\n",
      " [ 89 373]]\n"
     ]
    }
   ],
   "source": [
    "y_pred = log_reg.predict(X_test_scaled)\n",
    "print(\"Logistic Regression classification results\")\n",
    "print(\"\\n F1-Score \\n\", metrics.f1_score(y_test, y_pred))\n",
    "print(\"\\n Precision \\n\", metrics.precision_score(y_test, y_pred))\n",
    "print(\"\\n Recall \\n\", metrics.recall_score(y_test, y_pred))\n",
    "print(\"\\n Confusion Matrix \\n\", metrics.confusion_matrix(y_test, y_pred))"
   ]
  },
  {
   "cell_type": "markdown",
   "metadata": {},
   "source": [
    "#### kNN Classification with grid search for best k and 5-fold cross-validation"
   ]
  },
  {
   "cell_type": "code",
   "execution_count": 261,
   "metadata": {},
   "outputs": [
    {
     "name": "stdout",
     "output_type": "stream",
     "text": [
      "Fitting 5 folds for each of 79 candidates, totalling 395 fits\n"
     ]
    },
    {
     "name": "stderr",
     "output_type": "stream",
     "text": [
      "[Parallel(n_jobs=-1)]: Done  34 tasks      | elapsed:   16.9s\n",
      "[Parallel(n_jobs=-1)]: Done 184 tasks      | elapsed:  1.5min\n",
      "[Parallel(n_jobs=-1)]: Done 395 out of 395 | elapsed:  3.2min finished\n"
     ]
    },
    {
     "data": {
      "text/plain": [
       "GridSearchCV(cv=5, error_score='raise',\n",
       "       estimator=KNeighborsClassifier(algorithm='auto', leaf_size=30, metric='minkowski',\n",
       "           metric_params=None, n_jobs=1, n_neighbors=1, p=2,\n",
       "           weights='uniform'),\n",
       "       fit_params=None, iid=True, n_jobs=-1,\n",
       "       param_grid={'n_neighbors': [1, 2, 3, 4, 5, 6, 7, 8, 9, 10, 11, 12, 13, 14, 15, 16, 17, 18, 19, 20, 21, 22, 23, 24, 25, 26, 27, 28, 29, 30, 31, 32, 33, 34, 35, 36, 37, 38, 39, 40, 41, 42, 43, 44, 45, 46, 47, 48, 49, 50, 51, 52, 53, 54, 55, 56, 57, 58, 59, 60, 61, 62, 63, 64, 65, 66, 67, 68, 69, 70, 71, 72, 73, 74, 75, 76, 77, 78, 79]},\n",
       "       pre_dispatch='2*n_jobs', refit=True, return_train_score='warn',\n",
       "       scoring='f1_weighted', verbose=1)"
      ]
     },
     "execution_count": 261,
     "metadata": {},
     "output_type": "execute_result"
    }
   ],
   "source": [
    "k_range = list(range(1, 80))\n",
    "params = {'n_neighbors': k_range}\n",
    "knn = KNeighborsClassifier(n_neighbors=1)\n",
    "knn_grid_search_cv = GridSearchCV(knn, params, \n",
    "                                  cv=5, n_jobs=-1, \n",
    "                                  verbose=1, \n",
    "                                  scoring='f1_weighted')\n",
    "\n",
    "knn_grid_search_cv.fit(X_train_scaled, y_train)"
   ]
  },
  {
   "cell_type": "code",
   "execution_count": 262,
   "metadata": {},
   "outputs": [
    {
     "name": "stdout",
     "output_type": "stream",
     "text": [
      "0.7156997807378238 {'n_neighbors': 1}\n",
      "0.7174291583262958 {'n_neighbors': 2}\n",
      "0.7464946988395209 {'n_neighbors': 3}\n",
      "0.754234543184612 {'n_neighbors': 4}\n",
      "0.7598601594598843 {'n_neighbors': 5}\n",
      "0.7689464359690101 {'n_neighbors': 6}\n",
      "0.7644305208348902 {'n_neighbors': 7}\n",
      "0.7629264568252396 {'n_neighbors': 8}\n",
      "0.7636894269092643 {'n_neighbors': 9}\n",
      "0.7646088221746471 {'n_neighbors': 10}\n",
      "0.7669128583565347 {'n_neighbors': 11}\n",
      "0.7675985874277647 {'n_neighbors': 12}\n",
      "0.7692893020122912 {'n_neighbors': 13}\n",
      "0.7683372497555793 {'n_neighbors': 14}\n",
      "0.7722707690591593 {'n_neighbors': 15}\n",
      "0.773109594399259 {'n_neighbors': 16}\n",
      "0.7743209125217191 {'n_neighbors': 17}\n",
      "0.7727329825474045 {'n_neighbors': 18}\n",
      "0.7739207635473087 {'n_neighbors': 19}\n",
      "0.7712639512497255 {'n_neighbors': 20}\n",
      "0.7757718138153803 {'n_neighbors': 21}\n",
      "0.773111052258699 {'n_neighbors': 22}\n",
      "0.7751647992685344 {'n_neighbors': 23}\n",
      "0.773648793149141 {'n_neighbors': 24}\n",
      "0.7718379877783683 {'n_neighbors': 25}\n",
      "0.7728207998527387 {'n_neighbors': 26}\n",
      "0.7723523599493436 {'n_neighbors': 27}\n",
      "0.7740197782649362 {'n_neighbors': 28}\n",
      "0.7733270017148328 {'n_neighbors': 29}\n",
      "0.7739363781155739 {'n_neighbors': 30}\n",
      "0.7773897564387869 {'n_neighbors': 31}\n",
      "0.7765540622755427 {'n_neighbors': 32}\n",
      "0.7819562798355746 {'n_neighbors': 33}\n",
      "0.7818059131430414 {'n_neighbors': 34}\n",
      "0.782117564031075 {'n_neighbors': 35}\n",
      "0.7823759206826804 {'n_neighbors': 36}\n",
      "0.7801841898930947 {'n_neighbors': 37}\n",
      "0.7798161971673947 {'n_neighbors': 38}\n",
      "0.7773667906228082 {'n_neighbors': 39}\n",
      "0.781863602231077 {'n_neighbors': 40}\n",
      "0.7787754330292351 {'n_neighbors': 41}\n",
      "0.7773906505312623 {'n_neighbors': 42}\n",
      "0.778867265990147 {'n_neighbors': 43}\n",
      "0.7770109606887493 {'n_neighbors': 44}\n",
      "0.778123553416422 {'n_neighbors': 45}\n",
      "0.7791855271243101 {'n_neighbors': 46}\n",
      "0.7794910331835383 {'n_neighbors': 47}\n",
      "0.7813285107039771 {'n_neighbors': 48}\n",
      "0.7838360679899282 {'n_neighbors': 49}\n",
      "0.7812477613840272 {'n_neighbors': 50}\n",
      "0.7834295739770982 {'n_neighbors': 51}\n",
      "0.7779405445689219 {'n_neighbors': 52}\n",
      "0.7831360284691301 {'n_neighbors': 53}\n",
      "0.7795232624411486 {'n_neighbors': 54}\n",
      "0.782754143924202 {'n_neighbors': 55}\n",
      "0.7792932805962254 {'n_neighbors': 56}\n",
      "0.7822731652586078 {'n_neighbors': 57}\n",
      "0.7829995715588822 {'n_neighbors': 58}\n",
      "0.7843581387110391 {'n_neighbors': 59}\n",
      "0.7816211089890985 {'n_neighbors': 60}\n",
      "0.7842073635343744 {'n_neighbors': 61}\n",
      "0.7807164477705092 {'n_neighbors': 62}\n",
      "0.7833856168854358 {'n_neighbors': 63}\n",
      "0.7812013368873141 {'n_neighbors': 64}\n",
      "0.7823260088220957 {'n_neighbors': 65}\n",
      "0.7801055926026174 {'n_neighbors': 66}\n",
      "0.7825355394592021 {'n_neighbors': 67}\n",
      "0.7840387239449857 {'n_neighbors': 68}\n",
      "0.7846422267740192 {'n_neighbors': 69}\n",
      "0.7853383841255736 {'n_neighbors': 70}\n",
      "0.7852468899797582 {'n_neighbors': 71}\n",
      "0.7819168834479483 {'n_neighbors': 72}\n",
      "0.7858752733361751 {'n_neighbors': 73}\n",
      "0.7814629682892801 {'n_neighbors': 74}\n",
      "0.7837163271313256 {'n_neighbors': 75}\n",
      "0.7830856368737426 {'n_neighbors': 76}\n",
      "0.7841474437200042 {'n_neighbors': 77}\n",
      "0.7814244869125415 {'n_neighbors': 78}\n",
      "0.7838195477484787 {'n_neighbors': 79}\n"
     ]
    }
   ],
   "source": [
    "means = knn_grid_search_cv.cv_results_['mean_test_score']\n",
    "for mean, params in zip(means, knn_grid_search_cv.cv_results_['params']):\n",
    "    print(mean, params)"
   ]
  },
  {
   "cell_type": "code",
   "execution_count": 263,
   "metadata": {},
   "outputs": [
    {
     "data": {
      "image/png": "[encoded data removed]",
      "text/plain": [
       "<matplotlib.figure.Figure at 0x7f8101a24a20>"
      ]
     },
     "metadata": {},
     "output_type": "display_data"
    }
   ],
   "source": [
    "plt.plot(k_range, means)\n",
    "plt.xlabel('Value of K for KNN')\n",
    "plt.ylabel('F1 score based on Cross-Validation')\n",
    "plt.show()"
   ]
  },
  {
   "cell_type": "code",
   "execution_count": 264,
   "metadata": {},
   "outputs": [
    {
     "name": "stdout",
     "output_type": "stream",
     "text": [
      "0.7858752733361751\n",
      "{'n_neighbors': 73}\n",
      "KNeighborsClassifier(algorithm='auto', leaf_size=30, metric='minkowski',\n",
      "           metric_params=None, n_jobs=1, n_neighbors=73, p=2,\n",
      "           weights='uniform')\n"
     ]
    }
   ],
   "source": [
    "print(knn_grid_search_cv.best_score_)\n",
    "print(knn_grid_search_cv.best_params_)\n",
    "print(knn_grid_search_cv.best_estimator_)"
   ]
  },
  {
   "cell_type": "code",
   "execution_count": 265,
   "metadata": {},
   "outputs": [
    {
     "name": "stdout",
     "output_type": "stream",
     "text": [
      "k-Nearest Neighbors classification results\n",
      "\n",
      " F1-Score \n",
      " 0.7919911012235819\n",
      "\n",
      " Precision \n",
      " 0.8146453089244852\n",
      "\n",
      " Recall \n",
      " 0.7705627705627706\n",
      "\n",
      " Confusion Matrix \n",
      " [[502  81]\n",
      " [106 356]]\n"
     ]
    }
   ],
   "source": [
    "y_pred = knn_grid_search_cv.predict(X_test_scaled)\n",
    "print(\"k-Nearest Neighbors classification results\")\n",
    "print(\"\\n F1-Score \\n\", metrics.f1_score(y_test, y_pred))\n",
    "print(\"\\n Precision \\n\", metrics.precision_score(y_test, y_pred))\n",
    "print(\"\\n Recall \\n\", metrics.recall_score(y_test, y_pred))\n",
    "print(\"\\n Confusion Matrix \\n\", metrics.confusion_matrix(y_test, y_pred))"
   ]
  }
 ],
 "metadata": {
  "kernelspec": {
   "display_name": "Python 3",
   "language": "python",
   "name": "python3"
  },
  "language_info": {
   "codemirror_mode": {
    "name": "ipython",
    "version": 3
   },
   "file_extension": ".py",
   "mimetype": "text/x-python",
   "name": "python",
   "nbconvert_exporter": "python",
   "pygments_lexer": "ipython3",
   "version": "3.5.3"
  }
 },
 "nbformat": 4,
 "nbformat_minor": 2
}
