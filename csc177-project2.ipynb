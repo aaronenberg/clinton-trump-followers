{
 "cells": [
  {
   "cell_type": "markdown",
   "metadata": {},
   "source": [
    "## CSUS - CSc 177-02 Data Warehousing and Data Mining - Project 1: Clustering  \n",
    "### 2016 U.S. presidential election Twitter analysis  \n",
    "\n",
    "**Group members: Aaron Enberg, Nima Sarrafzadeh, Kyne Liu**  \n",
    "**Professor: Haiquan (Victor) Chen**"
   ]
  },
  {
   "cell_type": "code",
   "execution_count": 1,
   "metadata": {
    "scrolled": true
   },
   "outputs": [],
   "source": [
    "import pandas as pd\n",
    "import numpy as np\n",
    "import matplotlib.pyplot as plt\n",
    "from sklearn import (\n",
    "    preprocessing,  \n",
    "    cluster as sk_cluster,\n",
    "    metrics\n",
    ")\n",
    "from sklearn.feature_selection import VarianceThreshold\n",
    "from sklearn.svm import SVC\n",
    "from sklearn.tree import DecisionTreeClassifier\n",
    "from sklearn.neighbors import KNeighborsClassifier\n",
    "from sklearn.linear_model import LogisticRegression\n",
    "from sklearn.model_selection import (\n",
    "    cross_val_score,\n",
    "    train_test_split,\n",
    "    GridSearchCV\n",
    ")\n",
    "import sklearn.feature_extraction.text as sk_text\n",
    "import gc\n",
    "\n",
    "%matplotlib inline\n",
    "pd.set_option('display.max_colwidth', -1)"
   ]
  },
  {
   "cell_type": "code",
   "execution_count": 2,
   "metadata": {
    "scrolled": true
   },
   "outputs": [],
   "source": [
    "column_names = ['name', 'screen_name', 'user_id', \n",
    "                'followers_count', 'friends_count', \n",
    "                'location', 'description', 'created_at', \n",
    "                'status_id', 'language', 'place', \n",
    "                'retweet_count', 'favorite_count', 'text']\n",
    "\n",
    "tweets = pd.read_table('data/clinton_trump_tweets.txt', names=column_names, encoding='ISO-8859-1')"
   ]
  },
  {
   "cell_type": "code",
   "execution_count": 3,
   "metadata": {
    "scrolled": true
   },
   "outputs": [
    {
     "name": "stdout",
     "output_type": "stream",
     "text": [
      "(5250980, 14)\n",
      "name               object\n",
      "screen_name        object\n",
      "user_id            int64 \n",
      "followers_count    int64 \n",
      "friends_count      int64 \n",
      "location           object\n",
      "description        object\n",
      "created_at         object\n",
      "status_id          int64 \n",
      "language           object\n",
      "place              object\n",
      "retweet_count      int64 \n",
      "favorite_count     int64 \n",
      "text               object\n",
      "dtype: object\n"
     ]
    }
   ],
   "source": [
    "print(tweets.shape)\n",
    "print(tweets.dtypes)"
   ]
  },
  {
   "cell_type": "markdown",
   "metadata": {},
   "source": [
    "## Preprocessing"
   ]
  },
  {
   "cell_type": "code",
   "execution_count": 4,
   "metadata": {},
   "outputs": [
    {
     "data": {
      "text/html": [
       "<div>\n",
       "<style scoped>\n",
       "    .dataframe tbody tr th:only-of-type {\n",
       "        vertical-align: middle;\n",
       "    }\n",
       "\n",
       "    .dataframe tbody tr th {\n",
       "        vertical-align: top;\n",
       "    }\n",
       "\n",
       "    .dataframe thead th {\n",
       "        text-align: right;\n",
       "    }\n",
       "</style>\n",
       "<table border=\"1\" class=\"dataframe\">\n",
       "  <thead>\n",
       "    <tr style=\"text-align: right;\">\n",
       "      <th></th>\n",
       "      <th>user_id</th>\n",
       "      <th>text</th>\n",
       "    </tr>\n",
       "  </thead>\n",
       "  <tbody>\n",
       "    <tr>\n",
       "      <th>0</th>\n",
       "      <td>1519696717</td>\n",
       "      <td>@NWAJimmy I've read it now though brother. Was pretty spot on Lots of bright spots but a lot to work on. Exactly as an exhibition should be!</td>\n",
       "    </tr>\n",
       "    <tr>\n",
       "      <th>1</th>\n",
       "      <td>109945090</td>\n",
       "      <td>RT @wikileaks: New poll puts Pirate Party on course to win Iceland's national elections on Saturday. https://t.co/edTqjeJaQ6</td>\n",
       "    </tr>\n",
       "    <tr>\n",
       "      <th>2</th>\n",
       "      <td>1450086582</td>\n",
       "      <td>@gaystoner821 I think New Orleans spoiled me with food. I need to try and branch out in BR.</td>\n",
       "    </tr>\n",
       "    <tr>\n",
       "      <th>3</th>\n",
       "      <td>167177185</td>\n",
       "      <td>RT @LOLGOP: ACA needs fixes but know da facts:  *70% can get covered in marketplaces for under $75/month  *Hikes affect 3% *GOP will uninsu</td>\n",
       "    </tr>\n",
       "    <tr>\n",
       "      <th>4</th>\n",
       "      <td>1191022351</td>\n",
       "      <td>RT @FastCompany: Alphabet shares soar on better-than-expected earnings as mobile video strategy pays off https://t.co/bokbXngMJt https://t.</td>\n",
       "    </tr>\n",
       "  </tbody>\n",
       "</table>\n",
       "</div>"
      ],
      "text/plain": [
       "      user_id  \\\n",
       "0  1519696717   \n",
       "1  109945090    \n",
       "2  1450086582   \n",
       "3  167177185    \n",
       "4  1191022351   \n",
       "\n",
       "                                                                                                                                           text  \n",
       "0  @NWAJimmy I've read it now though brother. Was pretty spot on Lots of bright spots but a lot to work on. Exactly as an exhibition should be!  \n",
       "1  RT @wikileaks: New poll puts Pirate Party on course to win Iceland's national elections on Saturday. https://t.co/edTqjeJaQ6                  \n",
       "2  @gaystoner821 I think New Orleans spoiled me with food. I need to try and branch out in BR.                                                   \n",
       "3  RT @LOLGOP: ACA needs fixes but know da facts:  *70% can get covered in marketplaces for under $75/month  *Hikes affect 3% *GOP will uninsu   \n",
       "4  RT @FastCompany: Alphabet shares soar on better-than-expected earnings as mobile video strategy pays off https://t.co/bokbXngMJt https://t.   "
      ]
     },
     "execution_count": 4,
     "metadata": {},
     "output_type": "execute_result"
    }
   ],
   "source": [
    "tweets.drop(['name', 'screen_name', \n",
    "            'followers_count', \n",
    "            'friends_count', \n",
    "            'location', \n",
    "            'description', \n",
    "            'created_at',\n",
    "            'status_id', \n",
    "            'language', \n",
    "            'place', \n",
    "            'retweet_count', \n",
    "            'favorite_count'], axis=1, inplace=True)\n",
    "tweets.head()"
   ]
  },
  {
   "cell_type": "markdown",
   "metadata": {},
   "source": [
    "### Remove all retweets"
   ]
  },
  {
   "cell_type": "code",
   "execution_count": 5,
   "metadata": {
    "scrolled": true
   },
   "outputs": [],
   "source": [
    "# lines that start with \"RT\" followed by a space\n",
    "pattern = r'^RT\\s'\n",
    " \n",
    "# matches retweets and removes them\n",
    "tweets = tweets[tweets.text.str.match(pattern) == False]"
   ]
  },
  {
   "cell_type": "code",
   "execution_count": 6,
   "metadata": {
    "scrolled": true
   },
   "outputs": [
    {
     "data": {
      "text/plain": [
       "(2416818, 2)"
      ]
     },
     "execution_count": 6,
     "metadata": {},
     "output_type": "execute_result"
    }
   ],
   "source": [
    "tweets.shape"
   ]
  },
  {
   "cell_type": "markdown",
   "metadata": {},
   "source": [
    "### Extract all handles and hashtags"
   ]
  },
  {
   "cell_type": "code",
   "execution_count": 7,
   "metadata": {
    "scrolled": false
   },
   "outputs": [
    {
     "data": {
      "text/plain": [
       "119"
      ]
     },
     "execution_count": 7,
     "metadata": {},
     "output_type": "execute_result"
    }
   ],
   "source": [
    "# match all hashtags and handles in a tweet, ignoring possible email addresses\n",
    "pattern = r'(?<=^|(?<=[^a-zA-Z0-9-\\.]))@([A-Za-z_]+[A-Za-z0-9_]+)|(?<=^|(?<=[^a-zA-Z0-9-\\.]))#([A-Za-z_]+[A-Za-z0-9_]+)'\n",
    "\n",
    "\"\"\" returns a DataFrame with a MultiIndex:\n",
    "    First index is our original index. Second index is \"match\" which is a running\n",
    "    total of the number of occurences of hashtags and mentions for a particular \n",
    "    tweet. \"\"\"\n",
    "handles_hashtags = tweets.text.str.extractall(pattern)\n",
    "\n",
    "# make the dataframe look nice \n",
    "handles_hashtags.columns = ['handles', 'hashtags']\n",
    "handles_hashtags = handles_hashtags.reset_index().set_index('level_0')\n",
    "del handles_hashtags.index.name\n",
    "handles_hashtags.drop(['match'], axis=1, inplace=True)\n",
    "\n",
    "# stack handles and hashtags into one column\n",
    "handles_hashtags = pd.concat(\n",
    "    [handles_hashtags.handles, \n",
    "     handles_hashtags.hashtags]\n",
    ").dropna().to_frame(name='handles_hashtags')\n",
    "\n",
    "tweets = tweets.join(handles_hashtags, how='inner').reset_index()\n",
    "tweets.drop(['text'], axis=1, inplace=True)\n",
    "\n",
    "del handles_hashtags\n",
    "gc.collect()"
   ]
  },
  {
   "cell_type": "markdown",
   "metadata": {},
   "source": [
    "### keep active users with at least 20 distinct hashtags/handles"
   ]
  },
  {
   "cell_type": "code",
   "execution_count": 8,
   "metadata": {},
   "outputs": [
    {
     "data": {
      "text/plain": [
       "0"
      ]
     },
     "execution_count": 8,
     "metadata": {},
     "output_type": "execute_result"
    }
   ],
   "source": [
    "# returns users along with the distinct hashtags/handles they've used\n",
    "handles_hashtags_distinct = tweets.groupby('user_id')['handles_hashtags'].unique().to_frame()\n",
    "# retrieve only those who have used 20 or more distinct handles/hashtags\n",
    "users_active = handles_hashtags_distinct[handles_hashtags_distinct.handles_hashtags.str.len() > 19]\n",
    "\n",
    "del handles_hashtags_distinct\n",
    "gc.collect()"
   ]
  },
  {
   "cell_type": "code",
   "execution_count": 9,
   "metadata": {},
   "outputs": [
    {
     "data": {
      "text/plain": [
       "30"
      ]
     },
     "execution_count": 9,
     "metadata": {},
     "output_type": "execute_result"
    }
   ],
   "source": [
    "''' returns users along with all the hashtags and handles (including duplicates) they've used \n",
    "    (each occurrence of a hashtag/handle will also show up in the list) '''\n",
    "handles_hashtags_all = tweets.reset_index().groupby('user_id')['handles_hashtags'].apply(list).to_frame()\n",
    "\n",
    "users_active = users_active.join(\n",
    "    handles_hashtags_all, \n",
    "    lsuffix='_distinct', \n",
    "    rsuffix='_all', \n",
    "    how='inner')\n",
    "\n",
    "del handles_hashtags_all\n",
    "gc.collect()"
   ]
  },
  {
   "cell_type": "code",
   "execution_count": 10,
   "metadata": {},
   "outputs": [],
   "source": [
    "# convert each list of handles/hashtags into a string\n",
    "users_active['handles_hashtags_stringified'] = users_active['handles_hashtags_all'].apply(\n",
    "    lambda x: ' '.join(map(str, x)))\n",
    "\n",
    "# list of strings, each containing all of the handles and hashtags for a user\n",
    "corpus = list(users_active['handles_hashtags_stringified'])"
   ]
  },
  {
   "cell_type": "markdown",
   "metadata": {},
   "source": [
    "### Top 86 hashtags/handles that have been used by at least 20 distinct users (min_df=20, max_features=86 )"
   ]
  },
  {
   "cell_type": "code",
   "execution_count": 11,
   "metadata": {},
   "outputs": [],
   "source": [
    "# Only keep political handles/hashtags relevant to 2016 U.S. Election \n",
    "irrelevant_terms = ['amazon', 'art', 'biz', 'borisjohnson', 'brexit', \n",
    "              'business', 'etsy', 'facebook', 'fashion', 'flythew', \n",
    "              'free', 'health', 'ibmwow', 'indians', 'iran', 'jewelry', \n",
    "              'hiac', 'rallytogether', 'entrepreneur', 'quote', 'ebay', \n",
    "              'marketing', 'sales', 'nowplaying', 'socialmedia', 'spotify', \n",
    "              'mplusplaces', 'nfl', 'twitter', 'worldseries', 'youtube', \n",
    "              'business', 'cubs', 'indians', 'vine', 'halloween', 'tech', \n",
    "              'download', 'potus', 'abc', 'giveaway', 'cbsnews', 'music',\n",
    "              'news', 'vip', 'vote', 'win', 'us', 'usa', 'leadership', \n",
    "              'nyc', 'women', 'startup', 'newyork', 'fbi', 'mplusrewards']\n",
    "vectorizer = sk_text.CountVectorizer(min_df=20, \n",
    "                                     max_features=86, \n",
    "                                     lowercase=True, \n",
    "                                     encoding='ISO-8859-1', \n",
    "                                     stop_words=irrelevant_terms)\n",
    "matrix = vectorizer.fit_transform(corpus)"
   ]
  },
  {
   "cell_type": "code",
   "execution_count": 12,
   "metadata": {},
   "outputs": [
    {
     "data": {
      "text/plain": [
       "{'ap': 0,\n",
       " 'barackobama': 1,\n",
       " 'breitbartnews': 2,\n",
       " 'c0nvey': 3,\n",
       " 'cernovich': 4,\n",
       " 'chrislhayes': 5,\n",
       " 'clinton': 6,\n",
       " 'cnn': 7,\n",
       " 'cnnpolitics': 8,\n",
       " 'comey': 9,\n",
       " 'cosproject': 10,\n",
       " 'crookedhillary': 11,\n",
       " 'dailycaller': 12,\n",
       " 'danscavino': 13,\n",
       " 'dcexaminer': 14,\n",
       " 'donaldjtrumpjr': 15,\n",
       " 'draintheswamp': 16,\n",
       " 'drudge_report': 17,\n",
       " 'election2016': 18,\n",
       " 'evan_mcmullin': 19,\n",
       " 'florida': 20,\n",
       " 'flotus': 21,\n",
       " 'foxnews': 22,\n",
       " 'gohillary': 23,\n",
       " 'gop': 24,\n",
       " 'hillary': 25,\n",
       " 'hillaryclinton': 26,\n",
       " 'hrc': 27,\n",
       " 'huffpostpol': 28,\n",
       " 'imwithher': 29,\n",
       " 'ingrahamangle': 30,\n",
       " 'jaketapper': 31,\n",
       " 'jamesokeefeiii': 32,\n",
       " 'jaredwyand': 33,\n",
       " 'jasoninthehouse': 34,\n",
       " 'joyannreid': 35,\n",
       " 'judgejeanine': 36,\n",
       " 'kellyannepolls': 37,\n",
       " 'kurteichenwald': 38,\n",
       " 'lgbt': 39,\n",
       " 'lockherup': 40,\n",
       " 'loudobbs': 41,\n",
       " 'maddow': 42,\n",
       " 'maga': 43,\n",
       " 'maga3x': 44,\n",
       " 'megynkelly': 45,\n",
       " 'mike_pence': 46,\n",
       " 'mitchellvii': 47,\n",
       " 'mmflint': 48,\n",
       " 'msnbc': 49,\n",
       " 'nbcnews': 50,\n",
       " 'neverhillary': 51,\n",
       " 'nevertrump': 52,\n",
       " 'newtgingrich': 53,\n",
       " 'nodapl': 54,\n",
       " 'now': 55,\n",
       " 'npr': 56,\n",
       " 'nypost': 57,\n",
       " 'nytimes': 58,\n",
       " 'obamacareinthreewords': 59,\n",
       " 'ohio': 60,\n",
       " 'pjnet': 61,\n",
       " 'politico': 62,\n",
       " 'politicususa': 63,\n",
       " 'prisonplanet': 64,\n",
       " 'realalexjones': 65,\n",
       " 'realdonaldtrump': 66,\n",
       " 'realjameswoods': 67,\n",
       " 'reinindc': 68,\n",
       " 'seanhannity': 69,\n",
       " 'sopandeb': 70,\n",
       " 'speakerryan': 71,\n",
       " 'tcot': 72,\n",
       " 'teamtrump': 73,\n",
       " 'thedailybeast': 74,\n",
       " 'thehill': 75,\n",
       " 'trump': 76,\n",
       " 'trump2016': 77,\n",
       " 'trumppence16': 78,\n",
       " 'trumptrain': 79,\n",
       " 'usatoday': 80,\n",
       " 'walshfreedom': 81,\n",
       " 'washingtonpost': 82,\n",
       " 'wdfx2eu7': 83,\n",
       " 'wikileaks': 84,\n",
       " 'wsj': 85}"
      ]
     },
     "execution_count": 12,
     "metadata": {},
     "output_type": "execute_result"
    }
   ],
   "source": [
    "vectorizer.vocabulary_"
   ]
  },
  {
   "cell_type": "code",
   "execution_count": 13,
   "metadata": {},
   "outputs": [
    {
     "data": {
      "text/plain": [
       "(17066, 86)"
      ]
     },
     "execution_count": 13,
     "metadata": {},
     "output_type": "execute_result"
    }
   ],
   "source": [
    "df = pd.DataFrame(matrix.toarray(), \n",
    "                  index=users_active.index, \n",
    "                  columns=vectorizer.get_feature_names())\n",
    "df.shape"
   ]
  },
  {
   "cell_type": "code",
   "execution_count": 14,
   "metadata": {},
   "outputs": [
    {
     "data": {
      "text/plain": [
       "(5223, 86)"
      ]
     },
     "execution_count": 14,
     "metadata": {},
     "output_type": "execute_result"
    }
   ],
   "source": [
    "# only keep users that used TOP 100 hashtag/handle at least 3 times\n",
    "df = df[(df.T > 2).any()]\n",
    "df.shape"
   ]
  },
  {
   "cell_type": "code",
   "execution_count": 15,
   "metadata": {},
   "outputs": [
    {
     "data": {
      "text/html": [
       "<div>\n",
       "<style scoped>\n",
       "    .dataframe tbody tr th:only-of-type {\n",
       "        vertical-align: middle;\n",
       "    }\n",
       "\n",
       "    .dataframe tbody tr th {\n",
       "        vertical-align: top;\n",
       "    }\n",
       "\n",
       "    .dataframe thead th {\n",
       "        text-align: right;\n",
       "    }\n",
       "</style>\n",
       "<table border=\"1\" class=\"dataframe\">\n",
       "  <thead>\n",
       "    <tr style=\"text-align: right;\">\n",
       "      <th></th>\n",
       "      <th>ap</th>\n",
       "      <th>barackobama</th>\n",
       "      <th>breitbartnews</th>\n",
       "      <th>c0nvey</th>\n",
       "      <th>cernovich</th>\n",
       "      <th>chrislhayes</th>\n",
       "      <th>clinton</th>\n",
       "      <th>cnn</th>\n",
       "      <th>cnnpolitics</th>\n",
       "      <th>comey</th>\n",
       "      <th>...</th>\n",
       "      <th>trump</th>\n",
       "      <th>trump2016</th>\n",
       "      <th>trumppence16</th>\n",
       "      <th>trumptrain</th>\n",
       "      <th>usatoday</th>\n",
       "      <th>walshfreedom</th>\n",
       "      <th>washingtonpost</th>\n",
       "      <th>wdfx2eu7</th>\n",
       "      <th>wikileaks</th>\n",
       "      <th>wsj</th>\n",
       "    </tr>\n",
       "    <tr>\n",
       "      <th>user_id</th>\n",
       "      <th></th>\n",
       "      <th></th>\n",
       "      <th></th>\n",
       "      <th></th>\n",
       "      <th></th>\n",
       "      <th></th>\n",
       "      <th></th>\n",
       "      <th></th>\n",
       "      <th></th>\n",
       "      <th></th>\n",
       "      <th></th>\n",
       "      <th></th>\n",
       "      <th></th>\n",
       "      <th></th>\n",
       "      <th></th>\n",
       "      <th></th>\n",
       "      <th></th>\n",
       "      <th></th>\n",
       "      <th></th>\n",
       "      <th></th>\n",
       "      <th></th>\n",
       "    </tr>\n",
       "  </thead>\n",
       "  <tbody>\n",
       "    <tr>\n",
       "      <th>1134681</th>\n",
       "      <td>0</td>\n",
       "      <td>0</td>\n",
       "      <td>0</td>\n",
       "      <td>0</td>\n",
       "      <td>1</td>\n",
       "      <td>0</td>\n",
       "      <td>0</td>\n",
       "      <td>0</td>\n",
       "      <td>0</td>\n",
       "      <td>0</td>\n",
       "      <td>...</td>\n",
       "      <td>0</td>\n",
       "      <td>0</td>\n",
       "      <td>0</td>\n",
       "      <td>0</td>\n",
       "      <td>0</td>\n",
       "      <td>0</td>\n",
       "      <td>0</td>\n",
       "      <td>0</td>\n",
       "      <td>3</td>\n",
       "      <td>0</td>\n",
       "    </tr>\n",
       "    <tr>\n",
       "      <th>1329901</th>\n",
       "      <td>0</td>\n",
       "      <td>0</td>\n",
       "      <td>0</td>\n",
       "      <td>0</td>\n",
       "      <td>3</td>\n",
       "      <td>0</td>\n",
       "      <td>0</td>\n",
       "      <td>0</td>\n",
       "      <td>0</td>\n",
       "      <td>0</td>\n",
       "      <td>...</td>\n",
       "      <td>0</td>\n",
       "      <td>0</td>\n",
       "      <td>0</td>\n",
       "      <td>0</td>\n",
       "      <td>0</td>\n",
       "      <td>0</td>\n",
       "      <td>0</td>\n",
       "      <td>0</td>\n",
       "      <td>4</td>\n",
       "      <td>0</td>\n",
       "    </tr>\n",
       "    <tr>\n",
       "      <th>1354481</th>\n",
       "      <td>0</td>\n",
       "      <td>0</td>\n",
       "      <td>0</td>\n",
       "      <td>0</td>\n",
       "      <td>0</td>\n",
       "      <td>0</td>\n",
       "      <td>0</td>\n",
       "      <td>2</td>\n",
       "      <td>11</td>\n",
       "      <td>0</td>\n",
       "      <td>...</td>\n",
       "      <td>0</td>\n",
       "      <td>0</td>\n",
       "      <td>0</td>\n",
       "      <td>4</td>\n",
       "      <td>0</td>\n",
       "      <td>0</td>\n",
       "      <td>0</td>\n",
       "      <td>1</td>\n",
       "      <td>0</td>\n",
       "      <td>0</td>\n",
       "    </tr>\n",
       "    <tr>\n",
       "      <th>1366631</th>\n",
       "      <td>0</td>\n",
       "      <td>0</td>\n",
       "      <td>0</td>\n",
       "      <td>1</td>\n",
       "      <td>0</td>\n",
       "      <td>0</td>\n",
       "      <td>0</td>\n",
       "      <td>2</td>\n",
       "      <td>0</td>\n",
       "      <td>0</td>\n",
       "      <td>...</td>\n",
       "      <td>1</td>\n",
       "      <td>1</td>\n",
       "      <td>0</td>\n",
       "      <td>0</td>\n",
       "      <td>1</td>\n",
       "      <td>0</td>\n",
       "      <td>0</td>\n",
       "      <td>1</td>\n",
       "      <td>1</td>\n",
       "      <td>1</td>\n",
       "    </tr>\n",
       "    <tr>\n",
       "      <th>1449381</th>\n",
       "      <td>0</td>\n",
       "      <td>0</td>\n",
       "      <td>0</td>\n",
       "      <td>0</td>\n",
       "      <td>0</td>\n",
       "      <td>2</td>\n",
       "      <td>0</td>\n",
       "      <td>2</td>\n",
       "      <td>1</td>\n",
       "      <td>0</td>\n",
       "      <td>...</td>\n",
       "      <td>0</td>\n",
       "      <td>0</td>\n",
       "      <td>0</td>\n",
       "      <td>0</td>\n",
       "      <td>0</td>\n",
       "      <td>0</td>\n",
       "      <td>1</td>\n",
       "      <td>0</td>\n",
       "      <td>0</td>\n",
       "      <td>0</td>\n",
       "    </tr>\n",
       "  </tbody>\n",
       "</table>\n",
       "<p>5 rows × 86 columns</p>\n",
       "</div>"
      ],
      "text/plain": [
       "         ap  barackobama  breitbartnews  c0nvey  cernovich  chrislhayes  \\\n",
       "user_id                                                                   \n",
       "1134681  0   0            0              0       1          0             \n",
       "1329901  0   0            0              0       3          0             \n",
       "1354481  0   0            0              0       0          0             \n",
       "1366631  0   0            0              1       0          0             \n",
       "1449381  0   0            0              0       0          2             \n",
       "\n",
       "         clinton  cnn  cnnpolitics  comey ...   trump  trump2016  \\\n",
       "user_id                                   ...                      \n",
       "1134681  0        0    0            0     ...   0      0           \n",
       "1329901  0        0    0            0     ...   0      0           \n",
       "1354481  0        2    11           0     ...   0      0           \n",
       "1366631  0        2    0            0     ...   1      1           \n",
       "1449381  0        2    1            0     ...   0      0           \n",
       "\n",
       "         trumppence16  trumptrain  usatoday  walshfreedom  washingtonpost  \\\n",
       "user_id                                                                     \n",
       "1134681  0             0           0         0             0                \n",
       "1329901  0             0           0         0             0                \n",
       "1354481  0             4           0         0             0                \n",
       "1366631  0             0           1         0             0                \n",
       "1449381  0             0           0         0             1                \n",
       "\n",
       "         wdfx2eu7  wikileaks  wsj  \n",
       "user_id                            \n",
       "1134681  0         3          0    \n",
       "1329901  0         4          0    \n",
       "1354481  1         0          0    \n",
       "1366631  1         1          1    \n",
       "1449381  0         0          0    \n",
       "\n",
       "[5 rows x 86 columns]"
      ]
     },
     "execution_count": 15,
     "metadata": {},
     "output_type": "execute_result"
    }
   ],
   "source": [
    "# rows are users, columns are hashtags/handles\n",
    "# values are frequency of a handle/hashtag\n",
    "df.head()"
   ]
  },
  {
   "cell_type": "code",
   "execution_count": 16,
   "metadata": {},
   "outputs": [
    {
     "data": {
      "text/plain": [
       "90"
      ]
     },
     "execution_count": 16,
     "metadata": {},
     "output_type": "execute_result"
    }
   ],
   "source": [
    "labels = pd.read_table('./data/clinton_trump_user_classes.txt', \n",
    "                       names=['user_id', 'label'])\n",
    "labels.set_index('user_id', inplace=True)\n",
    "df = labels.join(df, how='inner')\n",
    "y = df['label']\n",
    "df.drop('label', axis=1, inplace=True)\n",
    "del labels\n",
    "gc.collect()"
   ]
  },
  {
   "cell_type": "markdown",
   "metadata": {},
   "source": [
    "#### Split data into training and testing sets (test_size=0.2)"
   ]
  },
  {
   "cell_type": "code",
   "execution_count": 17,
   "metadata": {},
   "outputs": [],
   "source": [
    "X_train, X_test, y_train, y_test = train_test_split(df, y, \n",
    "                                                    test_size=0.2, \n",
    "                                                    random_state=42)"
   ]
  },
  {
   "cell_type": "code",
   "execution_count": 18,
   "metadata": {},
   "outputs": [
    {
     "name": "stdout",
     "output_type": "stream",
     "text": [
      "(4178, 86)\n",
      "(1045, 86)\n",
      "(4178,)\n",
      "(1045,)\n"
     ]
    }
   ],
   "source": [
    "print(X_train.shape)\n",
    "print(X_test.shape)\n",
    "print(y_train.shape)\n",
    "print(y_test.shape)"
   ]
  },
  {
   "cell_type": "code",
   "execution_count": 19,
   "metadata": {},
   "outputs": [],
   "source": [
    "std_scaler = preprocessing.StandardScaler()\n",
    "X_train_scaled = std_scaler.fit_transform(X_train)\n",
    "X_test_scaled = std_scaler.fit_transform(X_test)"
   ]
  },
  {
   "cell_type": "markdown",
   "metadata": {},
   "source": [
    "#### SVM Classification"
   ]
  },
  {
   "cell_type": "code",
   "execution_count": 20,
   "metadata": {},
   "outputs": [
    {
     "data": {
      "text/plain": [
       "SVC(C=5, cache_size=200, class_weight=None, coef0=0.0,\n",
       "  decision_function_shape='ovr', degree=3, gamma=0.005, kernel='rbf',\n",
       "  max_iter=-1, probability=False, random_state=42, shrinking=True,\n",
       "  tol=0.001, verbose=False)"
      ]
     },
     "execution_count": 20,
     "metadata": {},
     "output_type": "execute_result"
    }
   ],
   "source": [
    "svm_clf = SVC(C=5, kernel='rbf', degree=3, \n",
    "              gamma=.005, coef0=0.0, shrinking=True, \n",
    "              probability=False, tol=0.001, cache_size=200, \n",
    "              class_weight=None, verbose=False, max_iter=-1, \n",
    "              decision_function_shape='ovr', random_state=42)\n",
    "svm_clf.fit(X_train_scaled, y_train)"
   ]
  },
  {
   "cell_type": "code",
   "execution_count": 21,
   "metadata": {},
   "outputs": [
    {
     "name": "stdout",
     "output_type": "stream",
     "text": [
      "Support Vector Machine classification results\n",
      "\n",
      " F1-Score \n",
      " 0.8486772486772486\n",
      "\n",
      " Precision \n",
      " 0.8302277432712215\n",
      "\n",
      " Recall \n",
      " 0.8679653679653679\n",
      "\n",
      " Confusion Matrix \n",
      " [[501  82]\n",
      " [ 61 401]]\n"
     ]
    }
   ],
   "source": [
    "y_pred = svm_clf.predict(X_test_scaled)\n",
    "print(\"Support Vector Machine classification results\")\n",
    "print(\"\\n F1-Score \\n\", metrics.f1_score(y_test, y_pred))\n",
    "print(\"\\n Precision \\n\", metrics.precision_score(y_test, y_pred))\n",
    "print(\"\\n Recall \\n\", metrics.recall_score(y_test, y_pred))\n",
    "print(\"\\n Confusion Matrix \\n\", metrics.confusion_matrix(y_test, y_pred))"
   ]
  },
  {
   "cell_type": "markdown",
   "metadata": {},
   "source": [
    "#### Decision Tree Classification"
   ]
  },
  {
   "cell_type": "code",
   "execution_count": 22,
   "metadata": {},
   "outputs": [
    {
     "data": {
      "text/plain": [
       "DecisionTreeClassifier(class_weight='balanced', criterion='entropy',\n",
       "            max_depth=None, max_features=None, max_leaf_nodes=23,\n",
       "            min_impurity_decrease=0.0, min_impurity_split=None,\n",
       "            min_samples_leaf=1, min_samples_split=2,\n",
       "            min_weight_fraction_leaf=0.0, presort=False, random_state=42,\n",
       "            splitter='best')"
      ]
     },
     "execution_count": 22,
     "metadata": {},
     "output_type": "execute_result"
    }
   ],
   "source": [
    "tree_clf = DecisionTreeClassifier(criterion='entropy', \n",
    "                                  splitter='best', \n",
    "                                  max_depth=None, \n",
    "                                  min_samples_split=2, \n",
    "                                  min_samples_leaf=1, \n",
    "                                  min_weight_fraction_leaf=0.0, \n",
    "                                  max_features=None, \n",
    "                                  random_state=42, \n",
    "                                  max_leaf_nodes=23, \n",
    "                                  min_impurity_decrease=0.0, \n",
    "                                  min_impurity_split=None, \n",
    "                                  class_weight='balanced', \n",
    "                                  presort=False)\n",
    "tree_clf.fit(X_train_scaled, y_train)"
   ]
  },
  {
   "cell_type": "code",
   "execution_count": 23,
   "metadata": {},
   "outputs": [
    {
     "name": "stdout",
     "output_type": "stream",
     "text": [
      "Decision Tree classification results\n",
      "\n",
      " F1-Score \n",
      " 0.781190019193858\n",
      "\n",
      " Precision \n",
      " 0.7017241379310345\n",
      "\n",
      " Recall \n",
      " 0.8809523809523809\n",
      "\n",
      " Confusion Matrix \n",
      " [[410 173]\n",
      " [ 55 407]]\n"
     ]
    }
   ],
   "source": [
    "y_pred = tree_clf.predict(X_test_scaled)\n",
    "print(\"Decision Tree classification results\")\n",
    "print(\"\\n F1-Score \\n\", metrics.f1_score(y_test, y_pred))\n",
    "print(\"\\n Precision \\n\", metrics.precision_score(y_test, y_pred))\n",
    "print(\"\\n Recall \\n\", metrics.recall_score(y_test, y_pred))\n",
    "print(\"\\n Confusion Matrix \\n\", metrics.confusion_matrix(y_test, y_pred))"
   ]
  },
  {
   "cell_type": "markdown",
   "metadata": {},
   "source": [
    "#### Logistic Regression Classification"
   ]
  },
  {
   "cell_type": "code",
   "execution_count": 24,
   "metadata": {},
   "outputs": [
    {
     "data": {
      "text/plain": [
       "LogisticRegression(C=0.0094, class_weight=None, dual=False,\n",
       "          fit_intercept=True, intercept_scaling=1, max_iter=100,\n",
       "          multi_class='ovr', n_jobs=1, penalty='l2', random_state=42,\n",
       "          solver='liblinear', tol=0.0001, verbose=0, warm_start=False)"
      ]
     },
     "execution_count": 24,
     "metadata": {},
     "output_type": "execute_result"
    }
   ],
   "source": [
    "# lowered C for stronger regularization\n",
    "log_reg = LogisticRegression(penalty='l2', dual=False, \n",
    "                             tol=0.0001, C=.0094, \n",
    "                             fit_intercept=True, \n",
    "                             intercept_scaling=1, \n",
    "                             class_weight=None, \n",
    "                             random_state=42, \n",
    "                             solver='liblinear', \n",
    "                             max_iter=100, \n",
    "                             multi_class='ovr', \n",
    "                             verbose=0, \n",
    "                             warm_start=False, n_jobs=1)\n",
    "log_reg.fit(X_train_scaled, y_train)"
   ]
  },
  {
   "cell_type": "code",
   "execution_count": 25,
   "metadata": {},
   "outputs": [
    {
     "name": "stdout",
     "output_type": "stream",
     "text": [
      "Logistic Regression classification results\n",
      "\n",
      " F1-Score \n",
      " 0.8224917309812569\n",
      "\n",
      " Precision \n",
      " 0.8382022471910112\n",
      "\n",
      " Recall \n",
      " 0.8073593073593074\n",
      "\n",
      " Confusion Matrix \n",
      " [[511  72]\n",
      " [ 89 373]]\n"
     ]
    }
   ],
   "source": [
    "y_pred = log_reg.predict(X_test_scaled)\n",
    "print(\"Logistic Regression classification results\")\n",
    "print(\"\\n F1-Score \\n\", metrics.f1_score(y_test, y_pred))\n",
    "print(\"\\n Precision \\n\", metrics.precision_score(y_test, y_pred))\n",
    "print(\"\\n Recall \\n\", metrics.recall_score(y_test, y_pred))\n",
    "print(\"\\n Confusion Matrix \\n\", metrics.confusion_matrix(y_test, y_pred))"
   ]
  },
  {
   "cell_type": "markdown",
   "metadata": {},
   "source": [
    "#### kNN Classification with grid search for best k and 5-fold cross-validation"
   ]
  },
  {
   "cell_type": "code",
   "execution_count": 56,
   "metadata": {},
   "outputs": [
    {
     "name": "stdout",
     "output_type": "stream",
     "text": [
      "Fitting 5 folds for each of 119 candidates, totalling 595 fits\n"
     ]
    },
    {
     "name": "stderr",
     "output_type": "stream",
     "text": [
      "[Parallel(n_jobs=-1)]: Done  34 tasks      | elapsed:   18.1s\n",
      "[Parallel(n_jobs=-1)]: Done 184 tasks      | elapsed:  1.6min\n",
      "[Parallel(n_jobs=-1)]: Done 434 tasks      | elapsed:  3.7min\n",
      "[Parallel(n_jobs=-1)]: Done 595 out of 595 | elapsed:  5.0min finished\n"
     ]
    },
    {
     "data": {
      "text/plain": [
       "GridSearchCV(cv=5, error_score='raise',\n",
       "       estimator=KNeighborsClassifier(algorithm='auto', leaf_size=30, metric='minkowski',\n",
       "           metric_params=None, n_jobs=1, n_neighbors=1, p=1,\n",
       "           weights='distance'),\n",
       "       fit_params=None, iid=True, n_jobs=-1,\n",
       "       param_grid={'n_neighbors': [1, 2, 3, 4, 5, 6, 7, 8, 9, 10, 11, 12, 13, 14, 15, 16, 17, 18, 19, 20, 21, 22, 23, 24, 25, 26, 27, 28, 29, 30, 31, 32, 33, 34, 35, 36, 37, 38, 39, 40, 41, 42, 43, 44, 45, 46, 47, 48, 49, 50, 51, 52, 53, 54, 55, 56, 57, 58, 59, 60, 61, 62, 63, 64, 65, 66, 67, 68, 69, 70, 7...100, 101, 102, 103, 104, 105, 106, 107, 108, 109, 110, 111, 112, 113, 114, 115, 116, 117, 118, 119]},\n",
       "       pre_dispatch='2*n_jobs', refit=True, return_train_score='warn',\n",
       "       scoring='f1_weighted', verbose=1)"
      ]
     },
     "execution_count": 56,
     "metadata": {},
     "output_type": "execute_result"
    }
   ],
   "source": [
    "k_range = list(range(1, 120))\n",
    "params = {'n_neighbors': k_range}\n",
    "\n",
    "''' weights='distance' weight points by the inverse of their distance. \n",
    "    in this case, closer neighbors of a query point will have a greater \n",
    "    influence than neighbors which are further away. \n",
    "    p=1 manhattan distance '''\n",
    "\n",
    "knn = KNeighborsClassifier(n_neighbors=1, weights='distance', \n",
    "                           algorithm='auto', leaf_size=30, \n",
    "                           p=1, metric='minkowski', \n",
    "                           metric_params=None, n_jobs=1)\n",
    "\n",
    "knn_grid_search_cv = GridSearchCV(knn, params, \n",
    "                                  cv=5, n_jobs=-1, \n",
    "                                  verbose=1, \n",
    "                                  scoring='f1_weighted')\n",
    "\n",
    "knn_grid_search_cv.fit(X_train_scaled, y_train)"
   ]
  },
  {
   "cell_type": "code",
   "execution_count": 57,
   "metadata": {},
   "outputs": [
    {
     "name": "stdout",
     "output_type": "stream",
     "text": [
      "0.7099151341306772 {'n_neighbors': 1}\n",
      "0.7080715947161307 {'n_neighbors': 2}\n",
      "0.7479717664463309 {'n_neighbors': 3}\n",
      "0.7452840609390737 {'n_neighbors': 4}\n",
      "0.7560848824564694 {'n_neighbors': 5}\n",
      "0.7588075435575199 {'n_neighbors': 6}\n",
      "0.769050635037733 {'n_neighbors': 7}\n",
      "0.7698685007900261 {'n_neighbors': 8}\n",
      "0.7710284701237092 {'n_neighbors': 9}\n",
      "0.7745344897627306 {'n_neighbors': 10}\n",
      "0.7806905706357882 {'n_neighbors': 11}\n",
      "0.7782614177675824 {'n_neighbors': 12}\n",
      "0.780916022857395 {'n_neighbors': 13}\n",
      "0.7794036978648361 {'n_neighbors': 14}\n",
      "0.7787229593189572 {'n_neighbors': 15}\n",
      "0.7804016039684073 {'n_neighbors': 16}\n",
      "0.7808095554282949 {'n_neighbors': 17}\n",
      "0.7844683856633529 {'n_neighbors': 18}\n",
      "0.7823662684561612 {'n_neighbors': 19}\n",
      "0.7848077814021955 {'n_neighbors': 20}\n",
      "0.7826322534033587 {'n_neighbors': 21}\n",
      "0.7849731387866918 {'n_neighbors': 22}\n",
      "0.7816172571381393 {'n_neighbors': 23}\n",
      "0.7863469004111097 {'n_neighbors': 24}\n",
      "0.7846853413958499 {'n_neighbors': 25}\n",
      "0.7800498041613658 {'n_neighbors': 26}\n",
      "0.7832000493404311 {'n_neighbors': 27}\n",
      "0.7852716732312612 {'n_neighbors': 28}\n",
      "0.7879615638440608 {'n_neighbors': 29}\n",
      "0.7901204975877364 {'n_neighbors': 30}\n",
      "0.7863500722467431 {'n_neighbors': 31}\n",
      "0.7931920170803675 {'n_neighbors': 32}\n",
      "0.7898873454110779 {'n_neighbors': 33}\n",
      "0.789510353320291 {'n_neighbors': 34}\n",
      "0.7876741202708467 {'n_neighbors': 35}\n",
      "0.7912187228596004 {'n_neighbors': 36}\n",
      "0.7914229280748301 {'n_neighbors': 37}\n",
      "0.7926220260989337 {'n_neighbors': 38}\n",
      "0.7919254364108737 {'n_neighbors': 39}\n",
      "0.7909577494279478 {'n_neighbors': 40}\n",
      "0.790942017448997 {'n_neighbors': 41}\n",
      "0.7917000312748728 {'n_neighbors': 42}\n",
      "0.7913825339050022 {'n_neighbors': 43}\n",
      "0.7918598393318212 {'n_neighbors': 44}\n",
      "0.7927230928377782 {'n_neighbors': 45}\n",
      "0.7917456195058209 {'n_neighbors': 46}\n",
      "0.7939776839094174 {'n_neighbors': 47}\n",
      "0.7953717535524879 {'n_neighbors': 48}\n",
      "0.7970386510455069 {'n_neighbors': 49}\n",
      "0.7982985878547912 {'n_neighbors': 50}\n",
      "0.7996470064933052 {'n_neighbors': 51}\n",
      "0.7993529437052108 {'n_neighbors': 52}\n",
      "0.7994152332202824 {'n_neighbors': 53}\n",
      "0.799390976896388 {'n_neighbors': 54}\n",
      "0.7981216137572813 {'n_neighbors': 55}\n",
      "0.7985041253523709 {'n_neighbors': 56}\n",
      "0.8019313135610573 {'n_neighbors': 57}\n",
      "0.8011347808160261 {'n_neighbors': 58}\n",
      "0.8001604127411773 {'n_neighbors': 59}\n",
      "0.801832462510399 {'n_neighbors': 60}\n",
      "0.8020654434319403 {'n_neighbors': 61}\n",
      "0.8042133674402044 {'n_neighbors': 62}\n",
      "0.8040426461234884 {'n_neighbors': 63}\n",
      "0.8027887656271819 {'n_neighbors': 64}\n",
      "0.8030101230694086 {'n_neighbors': 65}\n",
      "0.8041730722160779 {'n_neighbors': 66}\n",
      "0.8039362195917915 {'n_neighbors': 67}\n",
      "0.8012947118124706 {'n_neighbors': 68}\n",
      "0.8005761383776939 {'n_neighbors': 69}\n",
      "0.8019571569501533 {'n_neighbors': 70}\n",
      "0.803491971437064 {'n_neighbors': 71}\n",
      "0.8033152358143018 {'n_neighbors': 72}\n",
      "0.8055824995312116 {'n_neighbors': 73}\n",
      "0.803958121733468 {'n_neighbors': 74}\n",
      "0.8048718091865126 {'n_neighbors': 75}\n",
      "0.8033535161085629 {'n_neighbors': 76}\n",
      "0.8036152640954026 {'n_neighbors': 77}\n",
      "0.8019497641786768 {'n_neighbors': 78}\n",
      "0.8016898270872843 {'n_neighbors': 79}\n",
      "0.8038172214421412 {'n_neighbors': 80}\n",
      "0.802860362627458 {'n_neighbors': 81}\n",
      "0.8034482841178018 {'n_neighbors': 82}\n",
      "0.8008109464125491 {'n_neighbors': 83}\n",
      "0.8010285813600123 {'n_neighbors': 84}\n",
      "0.802602945595368 {'n_neighbors': 85}\n",
      "0.8021129693388214 {'n_neighbors': 86}\n",
      "0.8024159462252912 {'n_neighbors': 87}\n",
      "0.8039414235347784 {'n_neighbors': 88}\n",
      "0.8028061312982699 {'n_neighbors': 89}\n",
      "0.80003012880533 {'n_neighbors': 90}\n",
      "0.8027245696951063 {'n_neighbors': 91}\n",
      "0.8000087299505462 {'n_neighbors': 92}\n",
      "0.8050776234865861 {'n_neighbors': 93}\n",
      "0.8037599476693114 {'n_neighbors': 94}\n",
      "0.8054682858127467 {'n_neighbors': 95}\n",
      "0.8044555540489613 {'n_neighbors': 96}\n",
      "0.8027898395585112 {'n_neighbors': 97}\n",
      "0.804884692198503 {'n_neighbors': 98}\n",
      "0.8057689616306559 {'n_neighbors': 99}\n",
      "0.8074498649030647 {'n_neighbors': 100}\n",
      "0.8081904860545168 {'n_neighbors': 101}\n",
      "0.8093302332958247 {'n_neighbors': 102}\n",
      "0.8088232916180306 {'n_neighbors': 103}\n",
      "0.8101747663950356 {'n_neighbors': 104}\n",
      "0.8096260610163074 {'n_neighbors': 105}\n",
      "0.8072348973696037 {'n_neighbors': 106}\n",
      "0.807263967947042 {'n_neighbors': 107}\n",
      "0.8089377482734524 {'n_neighbors': 108}\n",
      "0.8073670699028499 {'n_neighbors': 109}\n",
      "0.8081393455004268 {'n_neighbors': 110}\n",
      "0.8083914249443169 {'n_neighbors': 111}\n",
      "0.8075266735836112 {'n_neighbors': 112}\n",
      "0.805125870401823 {'n_neighbors': 113}\n",
      "0.8060071477686926 {'n_neighbors': 114}\n",
      "0.8064492052941075 {'n_neighbors': 115}\n",
      "0.8071955414689904 {'n_neighbors': 116}\n",
      "0.8071902774564527 {'n_neighbors': 117}\n",
      "0.808904908762667 {'n_neighbors': 118}\n",
      "0.8088771097123796 {'n_neighbors': 119}\n"
     ]
    }
   ],
   "source": [
    "means = knn_grid_search_cv.cv_results_['mean_test_score']\n",
    "for mean, params in zip(means, knn_grid_search_cv.cv_results_['params']):\n",
    "    print(mean, params)"
   ]
  },
  {
   "cell_type": "code",
   "execution_count": 58,
   "metadata": {},
   "outputs": [
    {
     "data": {
      "image/png": "[encoded data removed]",
      "text/plain": [
       "<matplotlib.figure.Figure at 0x7fa429c425c0>"
      ]
     },
     "metadata": {},
     "output_type": "display_data"
    }
   ],
   "source": [
    "plt.plot(k_range, means)\n",
    "plt.xlabel('Value of K for KNN')\n",
    "plt.ylabel('F1 score based on Cross-Validation')\n",
    "plt.show()"
   ]
  },
  {
   "cell_type": "code",
   "execution_count": 59,
   "metadata": {},
   "outputs": [
    {
     "name": "stdout",
     "output_type": "stream",
     "text": [
      "0.8101747663950356\n",
      "{'n_neighbors': 104}\n",
      "KNeighborsClassifier(algorithm='auto', leaf_size=30, metric='minkowski',\n",
      "           metric_params=None, n_jobs=1, n_neighbors=104, p=1,\n",
      "           weights='distance')\n"
     ]
    }
   ],
   "source": [
    "print(knn_grid_search_cv.best_score_)\n",
    "print(knn_grid_search_cv.best_params_)\n",
    "print(knn_grid_search_cv.best_estimator_)"
   ]
  },
  {
   "cell_type": "code",
   "execution_count": 60,
   "metadata": {},
   "outputs": [
    {
     "name": "stdout",
     "output_type": "stream",
     "text": [
      "k-Nearest Neighbors classification results\n",
      "\n",
      " F1-Score \n",
      " 0.8025078369905956\n",
      "\n",
      " Precision \n",
      " 0.7757575757575758\n",
      "\n",
      " Recall \n",
      " 0.8311688311688312\n",
      "\n",
      " Confusion Matrix \n",
      " [[472 111]\n",
      " [ 78 384]]\n"
     ]
    }
   ],
   "source": [
    "y_pred = knn_grid_search_cv.predict(X_test_scaled)\n",
    "print(\"k-Nearest Neighbors classification results\")\n",
    "print(\"\\n F1-Score \\n\", metrics.f1_score(y_test, y_pred))\n",
    "print(\"\\n Precision \\n\", metrics.precision_score(y_test, y_pred))\n",
    "print(\"\\n Recall \\n\", metrics.recall_score(y_test, y_pred))\n",
    "print(\"\\n Confusion Matrix \\n\", metrics.confusion_matrix(y_test, y_pred))"
   ]
  }
 ],
 "metadata": {
  "kernelspec": {
   "display_name": "Python 3",
   "language": "python",
   "name": "python3"
  },
  "language_info": {
   "codemirror_mode": {
    "name": "ipython",
    "version": 3
   },
   "file_extension": ".py",
   "mimetype": "text/x-python",
   "name": "python",
   "nbconvert_exporter": "python",
   "pygments_lexer": "ipython3",
   "version": "3.5.3"
  }
 },
 "nbformat": 4,
 "nbformat_minor": 2
}
