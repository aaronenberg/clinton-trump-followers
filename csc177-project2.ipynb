{
 "cells": [
  {
   "cell_type": "markdown",
   "metadata": {},
   "source": [
    "## CSUS - CSc 177-02 Data Warehousing and Data Mining - Project 1: Clustering  \n",
    "### 2016 U.S. presidential election Twitter analysis  \n",
    "\n",
    "**Group members: Aaron Enberg, Nima Sarrafzadeh, Kyne Liu**  \n",
    "**Professor: Haiquan (Victor) Chen**"
   ]
  },
  {
   "cell_type": "code",
   "execution_count": 1,
   "metadata": {
    "scrolled": true
   },
   "outputs": [],
   "source": [
    "import pandas as pd\n",
    "import numpy as np\n",
    "import matplotlib.pyplot as plt\n",
    "from sklearn import (\n",
    "    preprocessing,  \n",
    "    cluster as sk_cluster,\n",
    "    metrics as metrics\n",
    ")\n",
    "from sklearn.feature_selection import VarianceThreshold\n",
    "from sklearn.svm import SVC\n",
    "import sklearn.feature_extraction.text as sk_text\n",
    "%matplotlib inline\n",
    "pd.set_option('display.max_colwidth', -1)"
   ]
  },
  {
   "cell_type": "code",
   "execution_count": 2,
   "metadata": {
    "scrolled": true
   },
   "outputs": [],
   "source": [
    "column_names = ['name', 'screen_name', 'user_id', \n",
    "                'followers_count', 'friends_count', \n",
    "                'location', 'description', 'created_at', \n",
    "                'status_id', 'language', 'place', \n",
    "                'retweet_count', 'favorite_count', 'text']\n",
    "\n",
    "tweets = pd.read_table('data/clinton_trump_tweets.txt', names=column_names, encoding='ISO-8859-1')"
   ]
  },
  {
   "cell_type": "code",
   "execution_count": 3,
   "metadata": {
    "scrolled": true
   },
   "outputs": [
    {
     "name": "stdout",
     "output_type": "stream",
     "text": [
      "(5250980, 14)\n",
      "name               object\n",
      "screen_name        object\n",
      "user_id            int64 \n",
      "followers_count    int64 \n",
      "friends_count      int64 \n",
      "location           object\n",
      "description        object\n",
      "created_at         object\n",
      "status_id          int64 \n",
      "language           object\n",
      "place              object\n",
      "retweet_count      int64 \n",
      "favorite_count     int64 \n",
      "text               object\n",
      "dtype: object\n"
     ]
    }
   ],
   "source": [
    "print(tweets.shape)\n",
    "print(tweets.dtypes)"
   ]
  },
  {
   "cell_type": "markdown",
   "metadata": {},
   "source": [
    "## Preprocessing"
   ]
  },
  {
   "cell_type": "code",
   "execution_count": 4,
   "metadata": {},
   "outputs": [
    {
     "data": {
      "text/html": [
       "<div>\n",
       "<style scoped>\n",
       "    .dataframe tbody tr th:only-of-type {\n",
       "        vertical-align: middle;\n",
       "    }\n",
       "\n",
       "    .dataframe tbody tr th {\n",
       "        vertical-align: top;\n",
       "    }\n",
       "\n",
       "    .dataframe thead th {\n",
       "        text-align: right;\n",
       "    }\n",
       "</style>\n",
       "<table border=\"1\" class=\"dataframe\">\n",
       "  <thead>\n",
       "    <tr style=\"text-align: right;\">\n",
       "      <th></th>\n",
       "      <th>user_id</th>\n",
       "      <th>followers_count</th>\n",
       "      <th>friends_count</th>\n",
       "      <th>retweet_count</th>\n",
       "      <th>favorite_count</th>\n",
       "      <th>text</th>\n",
       "    </tr>\n",
       "  </thead>\n",
       "  <tbody>\n",
       "    <tr>\n",
       "      <th>0</th>\n",
       "      <td>1519696717</td>\n",
       "      <td>132</td>\n",
       "      <td>263</td>\n",
       "      <td>0</td>\n",
       "      <td>1</td>\n",
       "      <td>@NWAJimmy I've read it now though brother. Was pretty spot on Lots of bright spots but a lot to work on. Exactly as an exhibition should be!</td>\n",
       "    </tr>\n",
       "    <tr>\n",
       "      <th>1</th>\n",
       "      <td>109945090</td>\n",
       "      <td>2154</td>\n",
       "      <td>2034</td>\n",
       "      <td>1937</td>\n",
       "      <td>0</td>\n",
       "      <td>RT @wikileaks: New poll puts Pirate Party on course to win Iceland's national elections on Saturday. https://t.co/edTqjeJaQ6</td>\n",
       "    </tr>\n",
       "    <tr>\n",
       "      <th>2</th>\n",
       "      <td>1450086582</td>\n",
       "      <td>797</td>\n",
       "      <td>1188</td>\n",
       "      <td>0</td>\n",
       "      <td>0</td>\n",
       "      <td>@gaystoner821 I think New Orleans spoiled me with food. I need to try and branch out in BR.</td>\n",
       "    </tr>\n",
       "    <tr>\n",
       "      <th>3</th>\n",
       "      <td>167177185</td>\n",
       "      <td>204</td>\n",
       "      <td>448</td>\n",
       "      <td>891</td>\n",
       "      <td>0</td>\n",
       "      <td>RT @LOLGOP: ACA needs fixes but know da facts:  *70% can get covered in marketplaces for under $75/month  *Hikes affect 3% *GOP will uninsu</td>\n",
       "    </tr>\n",
       "    <tr>\n",
       "      <th>4</th>\n",
       "      <td>1191022351</td>\n",
       "      <td>775</td>\n",
       "      <td>154</td>\n",
       "      <td>7</td>\n",
       "      <td>0</td>\n",
       "      <td>RT @FastCompany: Alphabet shares soar on better-than-expected earnings as mobile video strategy pays off https://t.co/bokbXngMJt https://t.</td>\n",
       "    </tr>\n",
       "  </tbody>\n",
       "</table>\n",
       "</div>"
      ],
      "text/plain": [
       "      user_id  followers_count  friends_count  retweet_count  favorite_count  \\\n",
       "0  1519696717  132              263            0              1                \n",
       "1  109945090   2154             2034           1937           0                \n",
       "2  1450086582  797              1188           0              0                \n",
       "3  167177185   204              448            891            0                \n",
       "4  1191022351  775              154            7              0                \n",
       "\n",
       "                                                                                                                                           text  \n",
       "0  @NWAJimmy I've read it now though brother. Was pretty spot on Lots of bright spots but a lot to work on. Exactly as an exhibition should be!  \n",
       "1  RT @wikileaks: New poll puts Pirate Party on course to win Iceland's national elections on Saturday. https://t.co/edTqjeJaQ6                  \n",
       "2  @gaystoner821 I think New Orleans spoiled me with food. I need to try and branch out in BR.                                                   \n",
       "3  RT @LOLGOP: ACA needs fixes but know da facts:  *70% can get covered in marketplaces for under $75/month  *Hikes affect 3% *GOP will uninsu   \n",
       "4  RT @FastCompany: Alphabet shares soar on better-than-expected earnings as mobile video strategy pays off https://t.co/bokbXngMJt https://t.   "
      ]
     },
     "execution_count": 4,
     "metadata": {},
     "output_type": "execute_result"
    }
   ],
   "source": [
    "tweets.drop(['name', 'screen_name',   \n",
    "            'description', 'created_at',\n",
    "            'status_id', 'language', \n",
    "            'place', 'location'], axis=1, inplace=True)\n",
    "tweets.head()"
   ]
  },
  {
   "cell_type": "markdown",
   "metadata": {},
   "source": [
    "### Remove all retweets"
   ]
  },
  {
   "cell_type": "code",
   "execution_count": 5,
   "metadata": {
    "scrolled": true
   },
   "outputs": [],
   "source": [
    "# lines that start with \"RT\" followed by a space\n",
    "pattern = r'^RT\\s'\n",
    " \n",
    "# matches retweets and removes them\n",
    "tweets = tweets[tweets.text.str.match(pattern) == False]"
   ]
  },
  {
   "cell_type": "code",
   "execution_count": 6,
   "metadata": {
    "scrolled": true
   },
   "outputs": [
    {
     "data": {
      "text/plain": [
       "(2416818, 6)"
      ]
     },
     "execution_count": 6,
     "metadata": {},
     "output_type": "execute_result"
    }
   ],
   "source": [
    "tweets.shape"
   ]
  },
  {
   "cell_type": "markdown",
   "metadata": {},
   "source": [
    "### Extract all handles and hashtags"
   ]
  },
  {
   "cell_type": "code",
   "execution_count": 7,
   "metadata": {
    "scrolled": false
   },
   "outputs": [],
   "source": [
    "# match all hashtags and handles in a tweet, ignoring possible email addresses\n",
    "pattern = r'(?<=^|(?<=[^a-zA-Z0-9-\\.]))@([A-Za-z_]+[A-Za-z0-9_]+)|(?<=^|(?<=[^a-zA-Z0-9-\\.]))#([A-Za-z_]+[A-Za-z0-9_]+)'\n",
    "\n",
    "\"\"\" returns a DataFrame with a MultiIndex:\n",
    "    First index is our original index. Second index is \"match\" which is a running\n",
    "    total of the number of occurences of hashtags and mentions for a particular \n",
    "    tweet. \"\"\"\n",
    "handles_hashtags = tweets.text.str.extractall(pattern)\n",
    "\n",
    "# make the dataframe look nice \n",
    "handles_hashtags.columns = ['handles', 'hashtags']\n",
    "handles_hashtags = handles_hashtags.reset_index().set_index('level_0')\n",
    "del handles_hashtags.index.name\n",
    "handles_hashtags.drop(['match'], axis=1, inplace=True)\n",
    "\n",
    "# stack handles and hashtags into one column\n",
    "handles_hashtags = pd.concat([handles_hashtags.handles, handles_hashtags.hashtags]).dropna().to_frame(name='handles_hashtags')\n",
    "\n",
    "tweets = tweets.join(handles_hashtags, how='inner').reset_index()\n",
    "tweets.drop(['text'], axis=1, inplace=True)"
   ]
  },
  {
   "cell_type": "markdown",
   "metadata": {},
   "source": [
    "### keep active users with at least 20 distinct hashtags/handles"
   ]
  },
  {
   "cell_type": "code",
   "execution_count": 8,
   "metadata": {},
   "outputs": [],
   "source": [
    "# returns users along with the distinct hashtags/handles they've used\n",
    "handles_hashtags_distinct = tweets.groupby('user_id')['handles_hashtags'].unique().to_frame()\n",
    "# retrieve only those who have used 20 or more distinct handles/hashtags\n",
    "users_active = handles_hashtags_distinct[handles_hashtags_distinct.handles_hashtags.str.len() > 19]"
   ]
  },
  {
   "cell_type": "code",
   "execution_count": 9,
   "metadata": {},
   "outputs": [],
   "source": [
    "''' returns users along with all the hashtags and handles (including duplicates) they've used \n",
    "    (each occurrence of a hashtag/handle will also show up in the list) '''\n",
    "handles_hashtags_all = tweets.reset_index().groupby('user_id')['handles_hashtags'].apply(list).to_frame()\n",
    "\n",
    "users_active = users_active.join(handles_hashtags_all, lsuffix='_distinct', rsuffix='_all', how='inner')"
   ]
  },
  {
   "cell_type": "code",
   "execution_count": 10,
   "metadata": {},
   "outputs": [
    {
     "data": {
      "text/html": [
       "<div>\n",
       "<style scoped>\n",
       "    .dataframe tbody tr th:only-of-type {\n",
       "        vertical-align: middle;\n",
       "    }\n",
       "\n",
       "    .dataframe tbody tr th {\n",
       "        vertical-align: top;\n",
       "    }\n",
       "\n",
       "    .dataframe thead th {\n",
       "        text-align: right;\n",
       "    }\n",
       "</style>\n",
       "<table border=\"1\" class=\"dataframe\">\n",
       "  <thead>\n",
       "    <tr style=\"text-align: right;\">\n",
       "      <th></th>\n",
       "      <th>retweet_count</th>\n",
       "      <th>favorite_count</th>\n",
       "      <th>followers_count</th>\n",
       "      <th>friends_count</th>\n",
       "    </tr>\n",
       "    <tr>\n",
       "      <th>user_id</th>\n",
       "      <th></th>\n",
       "      <th></th>\n",
       "      <th></th>\n",
       "      <th></th>\n",
       "    </tr>\n",
       "  </thead>\n",
       "  <tbody>\n",
       "    <tr>\n",
       "      <th>150</th>\n",
       "      <td>0</td>\n",
       "      <td>13</td>\n",
       "      <td>16559</td>\n",
       "      <td>1989</td>\n",
       "    </tr>\n",
       "    <tr>\n",
       "      <th>1437</th>\n",
       "      <td>0</td>\n",
       "      <td>7</td>\n",
       "      <td>300</td>\n",
       "      <td>166</td>\n",
       "    </tr>\n",
       "    <tr>\n",
       "      <th>1512</th>\n",
       "      <td>0</td>\n",
       "      <td>1</td>\n",
       "      <td>343</td>\n",
       "      <td>242</td>\n",
       "    </tr>\n",
       "    <tr>\n",
       "      <th>1644</th>\n",
       "      <td>6</td>\n",
       "      <td>15</td>\n",
       "      <td>1825</td>\n",
       "      <td>2199</td>\n",
       "    </tr>\n",
       "    <tr>\n",
       "      <th>1668</th>\n",
       "      <td>0</td>\n",
       "      <td>0</td>\n",
       "      <td>7333</td>\n",
       "      <td>1262</td>\n",
       "    </tr>\n",
       "  </tbody>\n",
       "</table>\n",
       "</div>"
      ],
      "text/plain": [
       "         retweet_count  favorite_count  followers_count  friends_count\n",
       "user_id                                                               \n",
       "150      0              13              16559            1989         \n",
       "1437     0              7               300              166          \n",
       "1512     0              1               343              242          \n",
       "1644     6              15              1825             2199         \n",
       "1668     0              0               7333             1262         "
      ]
     },
     "execution_count": 10,
     "metadata": {},
     "output_type": "execute_result"
    }
   ],
   "source": [
    "# construct a dataframe with totals for retweets, favorites, followers, and friends for each user\n",
    "tweets.drop(['handles_hashtags', 'index'], axis=1, inplace=True)\n",
    "tweets.set_index('user_id', inplace=True)\n",
    "count_retweets_favorites = tweets.groupby(tweets.index)['retweet_count', 'favorite_count'].sum()\n",
    "tweets.drop(['retweet_count', 'favorite_count'], axis=1, inplace=True)\n",
    "count_followers_friends = tweets[~tweets.index.duplicated(keep='first')]\n",
    "users_active_stats = count_retweets_favorites.join(count_followers_friends, how='inner')\n",
    "users_active_stats.head()"
   ]
  },
  {
   "cell_type": "code",
   "execution_count": 11,
   "metadata": {},
   "outputs": [],
   "source": [
    "# convert each list of handles/hashtags into a string\n",
    "users_active['handles_hashtags_stringified'] = users_active['handles_hashtags_all'].apply(lambda x: ' '.join(map(str, x)))\n",
    "\n",
    "# list of strings, each containing all of the handles and hashtags for a user\n",
    "corpus = list(users_active['handles_hashtags_stringified'])"
   ]
  },
  {
   "cell_type": "markdown",
   "metadata": {},
   "source": [
    "### hashtags/handles that have been used by at least 20 distinct users (min_df=20)"
   ]
  },
  {
   "cell_type": "code",
   "execution_count": 12,
   "metadata": {},
   "outputs": [],
   "source": [
    "# constructs a dataframe with only the handles/hashtags used by 20 users \n",
    "vectorizer = sk_text.CountVectorizer(min_df=20, lowercase=True, encoding='ISO-8859-1')\n",
    "matrix = vectorizer.fit_transform(corpus)\n",
    "df_idx_id = pd.DataFrame(matrix.toarray(), index=users_active.index, columns=vectorizer.get_feature_names())"
   ]
  },
  {
   "cell_type": "code",
   "execution_count": 13,
   "metadata": {},
   "outputs": [
    {
     "data": {
      "text/html": [
       "<div>\n",
       "<style scoped>\n",
       "    .dataframe tbody tr th:only-of-type {\n",
       "        vertical-align: middle;\n",
       "    }\n",
       "\n",
       "    .dataframe tbody tr th {\n",
       "        vertical-align: top;\n",
       "    }\n",
       "\n",
       "    .dataframe thead th {\n",
       "        text-align: right;\n",
       "    }\n",
       "</style>\n",
       "<table border=\"1\" class=\"dataframe\">\n",
       "  <thead>\n",
       "    <tr style=\"text-align: right;\">\n",
       "      <th></th>\n",
       "      <th>_altright_anew</th>\n",
       "      <th>_carja</th>\n",
       "      <th>_cfj_</th>\n",
       "      <th>_makada_</th>\n",
       "      <th>_proud_american</th>\n",
       "      <th>_realvalentina_</th>\n",
       "      <th>a_miller48</th>\n",
       "      <th>abbydphillip</th>\n",
       "      <th>abbymartin</th>\n",
       "      <th>abbymartinm</th>\n",
       "      <th>...</th>\n",
       "      <th>zachhaller</th>\n",
       "      <th>zaibatsunews</th>\n",
       "      <th>zaidjilani</th>\n",
       "      <th>zekejmiller</th>\n",
       "      <th>zerohedge</th>\n",
       "      <th>zhaabowekwe</th>\n",
       "      <th>zigmanfreud</th>\n",
       "      <th>zika</th>\n",
       "      <th>zimmermanrob</th>\n",
       "      <th>zip90210</th>\n",
       "    </tr>\n",
       "    <tr>\n",
       "      <th>user_id</th>\n",
       "      <th></th>\n",
       "      <th></th>\n",
       "      <th></th>\n",
       "      <th></th>\n",
       "      <th></th>\n",
       "      <th></th>\n",
       "      <th></th>\n",
       "      <th></th>\n",
       "      <th></th>\n",
       "      <th></th>\n",
       "      <th></th>\n",
       "      <th></th>\n",
       "      <th></th>\n",
       "      <th></th>\n",
       "      <th></th>\n",
       "      <th></th>\n",
       "      <th></th>\n",
       "      <th></th>\n",
       "      <th></th>\n",
       "      <th></th>\n",
       "      <th></th>\n",
       "    </tr>\n",
       "  </thead>\n",
       "  <tbody>\n",
       "    <tr>\n",
       "      <th>1644</th>\n",
       "      <td>0</td>\n",
       "      <td>0</td>\n",
       "      <td>0</td>\n",
       "      <td>0</td>\n",
       "      <td>0</td>\n",
       "      <td>0</td>\n",
       "      <td>0</td>\n",
       "      <td>0</td>\n",
       "      <td>0</td>\n",
       "      <td>0</td>\n",
       "      <td>...</td>\n",
       "      <td>0</td>\n",
       "      <td>0</td>\n",
       "      <td>0</td>\n",
       "      <td>0</td>\n",
       "      <td>0</td>\n",
       "      <td>0</td>\n",
       "      <td>0</td>\n",
       "      <td>0</td>\n",
       "      <td>0</td>\n",
       "      <td>0</td>\n",
       "    </tr>\n",
       "    <tr>\n",
       "      <th>1737</th>\n",
       "      <td>0</td>\n",
       "      <td>0</td>\n",
       "      <td>0</td>\n",
       "      <td>0</td>\n",
       "      <td>0</td>\n",
       "      <td>0</td>\n",
       "      <td>0</td>\n",
       "      <td>0</td>\n",
       "      <td>0</td>\n",
       "      <td>0</td>\n",
       "      <td>...</td>\n",
       "      <td>0</td>\n",
       "      <td>0</td>\n",
       "      <td>0</td>\n",
       "      <td>0</td>\n",
       "      <td>0</td>\n",
       "      <td>0</td>\n",
       "      <td>0</td>\n",
       "      <td>0</td>\n",
       "      <td>0</td>\n",
       "      <td>0</td>\n",
       "    </tr>\n",
       "    <tr>\n",
       "      <th>2391</th>\n",
       "      <td>0</td>\n",
       "      <td>0</td>\n",
       "      <td>0</td>\n",
       "      <td>0</td>\n",
       "      <td>0</td>\n",
       "      <td>0</td>\n",
       "      <td>0</td>\n",
       "      <td>0</td>\n",
       "      <td>0</td>\n",
       "      <td>0</td>\n",
       "      <td>...</td>\n",
       "      <td>0</td>\n",
       "      <td>0</td>\n",
       "      <td>0</td>\n",
       "      <td>0</td>\n",
       "      <td>0</td>\n",
       "      <td>0</td>\n",
       "      <td>0</td>\n",
       "      <td>0</td>\n",
       "      <td>0</td>\n",
       "      <td>0</td>\n",
       "    </tr>\n",
       "    <tr>\n",
       "      <th>2426</th>\n",
       "      <td>0</td>\n",
       "      <td>0</td>\n",
       "      <td>0</td>\n",
       "      <td>0</td>\n",
       "      <td>0</td>\n",
       "      <td>0</td>\n",
       "      <td>0</td>\n",
       "      <td>0</td>\n",
       "      <td>0</td>\n",
       "      <td>0</td>\n",
       "      <td>...</td>\n",
       "      <td>0</td>\n",
       "      <td>0</td>\n",
       "      <td>0</td>\n",
       "      <td>0</td>\n",
       "      <td>0</td>\n",
       "      <td>0</td>\n",
       "      <td>0</td>\n",
       "      <td>0</td>\n",
       "      <td>0</td>\n",
       "      <td>0</td>\n",
       "    </tr>\n",
       "    <tr>\n",
       "      <th>14763</th>\n",
       "      <td>0</td>\n",
       "      <td>0</td>\n",
       "      <td>0</td>\n",
       "      <td>0</td>\n",
       "      <td>0</td>\n",
       "      <td>0</td>\n",
       "      <td>0</td>\n",
       "      <td>0</td>\n",
       "      <td>0</td>\n",
       "      <td>0</td>\n",
       "      <td>...</td>\n",
       "      <td>0</td>\n",
       "      <td>0</td>\n",
       "      <td>0</td>\n",
       "      <td>0</td>\n",
       "      <td>0</td>\n",
       "      <td>0</td>\n",
       "      <td>0</td>\n",
       "      <td>0</td>\n",
       "      <td>0</td>\n",
       "      <td>0</td>\n",
       "    </tr>\n",
       "  </tbody>\n",
       "</table>\n",
       "<p>5 rows × 4035 columns</p>\n",
       "</div>"
      ],
      "text/plain": [
       "         _altright_anew  _carja  _cfj_  _makada_  _proud_american  \\\n",
       "user_id                                                             \n",
       "1644     0               0       0      0         0                 \n",
       "1737     0               0       0      0         0                 \n",
       "2391     0               0       0      0         0                 \n",
       "2426     0               0       0      0         0                 \n",
       "14763    0               0       0      0         0                 \n",
       "\n",
       "         _realvalentina_  a_miller48  abbydphillip  abbymartin  abbymartinm  \\\n",
       "user_id                                                                       \n",
       "1644     0                0           0             0           0             \n",
       "1737     0                0           0             0           0             \n",
       "2391     0                0           0             0           0             \n",
       "2426     0                0           0             0           0             \n",
       "14763    0                0           0             0           0             \n",
       "\n",
       "           ...     zachhaller  zaibatsunews  zaidjilani  zekejmiller  \\\n",
       "user_id    ...                                                         \n",
       "1644       ...     0           0             0           0             \n",
       "1737       ...     0           0             0           0             \n",
       "2391       ...     0           0             0           0             \n",
       "2426       ...     0           0             0           0             \n",
       "14763      ...     0           0             0           0             \n",
       "\n",
       "         zerohedge  zhaabowekwe  zigmanfreud  zika  zimmermanrob  zip90210  \n",
       "user_id                                                                     \n",
       "1644     0          0            0            0     0             0         \n",
       "1737     0          0            0            0     0             0         \n",
       "2391     0          0            0            0     0             0         \n",
       "2426     0          0            0            0     0             0         \n",
       "14763    0          0            0            0     0             0         \n",
       "\n",
       "[5 rows x 4035 columns]"
      ]
     },
     "execution_count": 13,
     "metadata": {},
     "output_type": "execute_result"
    }
   ],
   "source": [
    "# append retweet/favorite counts and friend/follower counts to end of each record\n",
    "#df_idx_id = df_idx_id.join(users_active_stats, how='inner')\n",
    "\n",
    "# rows are users, columns are hashtags/handles\n",
    "# values are frequency of a handle/hashtag\n",
    "df_idx_id.head()"
   ]
  },
  {
   "cell_type": "code",
   "execution_count": 14,
   "metadata": {},
   "outputs": [],
   "source": [
    "# represent each handle/hashtag as an integer\n",
    "df_idx_hashtags = df_idx_id.transpose().reset_index(drop=True).transpose()"
   ]
  },
  {
   "cell_type": "code",
   "execution_count": 15,
   "metadata": {},
   "outputs": [],
   "source": [
    "std_scaler = preprocessing.StandardScaler()\n",
    "X_std = std_scaler.fit_transform(df_idx_hashtags)"
   ]
  },
  {
   "cell_type": "code",
   "execution_count": 16,
   "metadata": {},
   "outputs": [],
   "source": [
    "labels = pd.read_table('./data/clinton_trump_user_classes.txt', names=['user_id', 'label'])\n",
    "labels.set_index('user_id', inplace=True)\n",
    "df_idx_hashtags = labels.join(df_idx_hashtags, how='inner')\n",
    "y = df_idx_hashtags['label']\n",
    "df_idx_hashtags.drop('label', axis=1, inplace=True)"
   ]
  },
  {
   "cell_type": "code",
   "execution_count": 17,
   "metadata": {},
   "outputs": [],
   "source": [
    "from sklearn.model_selection import train_test_split\n",
    "X_train, X_test, y_train, y_test = train_test_split(df_idx_hashtags, y, test_size=0.2)"
   ]
  },
  {
   "cell_type": "code",
   "execution_count": 18,
   "metadata": {},
   "outputs": [
    {
     "name": "stdout",
     "output_type": "stream",
     "text": [
      "(13652, 4035)\n",
      "(3414, 4035)\n",
      "(13652,)\n",
      "(3414,)\n"
     ]
    }
   ],
   "source": [
    "print(X_train.shape)\n",
    "print(X_test.shape)\n",
    "print(y_train.shape)\n",
    "print(y_test.shape)"
   ]
  },
  {
   "cell_type": "code",
   "execution_count": 19,
   "metadata": {},
   "outputs": [],
   "source": [
    "X_train_std = std_scaler.fit_transform(X_train)\n",
    "X_test_std = std_scaler.fit_transform(X_test)"
   ]
  },
  {
   "cell_type": "code",
   "execution_count": null,
   "metadata": {},
   "outputs": [],
   "source": [
    "svm_clf = SVC(C=.001, kernel='rbf', degree=3, \n",
    "              gamma=5, coef0=0.0, shrinking=True, \n",
    "              probability=False, tol=0.001, cache_size=200, \n",
    "              class_weight=None, verbose=False, max_iter=-1, \n",
    "              decision_function_shape='ovr', random_state=None)\n",
    "svm_clf.fit(X_train_std, y_train)"
   ]
  },
  {
   "cell_type": "code",
   "execution_count": null,
   "metadata": {},
   "outputs": [],
   "source": [
    "y_pred = svm_clf.predict(X_test)\n",
    "print(metrics.f1_score(y_test, y_pred))"
   ]
  },
  {
   "cell_type": "code",
   "execution_count": null,
   "metadata": {},
   "outputs": [],
   "source": []
  }
 ],
 "metadata": {
  "kernelspec": {
   "display_name": "Python 3",
   "language": "python",
   "name": "python3"
  },
  "language_info": {
   "codemirror_mode": {
    "name": "ipython",
    "version": 3
   },
   "file_extension": ".py",
   "mimetype": "text/x-python",
   "name": "python",
   "nbconvert_exporter": "python",
   "pygments_lexer": "ipython3",
   "version": "3.5.3"
  }
 },
 "nbformat": 4,
 "nbformat_minor": 2
}
