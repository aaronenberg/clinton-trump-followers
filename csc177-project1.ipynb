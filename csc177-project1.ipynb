{
 "cells": [
  {
   "cell_type": "markdown",
   "metadata": {},
   "source": [
    "## CSC 177-02 Data Warehousing and Data Mining\n",
    "### Mini-Project 1: Clustering\n",
    "### 2016 US presedential election Twitter analysis\n",
    "\n",
    "#### Group members: Aaron Enberg,"
   ]
  },
  {
   "cell_type": "code",
   "execution_count": 1,
   "metadata": {
    "scrolled": true
   },
   "outputs": [],
   "source": [
    "import pandas as pd\n",
    "import sklearn.feature_extraction.text as sk_text\n",
    "pd.set_option('display.max_colwidth', -1)"
   ]
  },
  {
   "cell_type": "code",
   "execution_count": 2,
   "metadata": {
    "scrolled": true
   },
   "outputs": [],
   "source": [
    "column_names = ['Name', 'screen_Name', 'User_ID', \n",
    "                'Followers_Count', 'Friends_Count', \n",
    "                'Location', 'Description', 'Created_At', \n",
    "                'Status_ID', 'Language', 'Place', \n",
    "                'Retweet_Count', 'Favorite_Count', 'Text']\n",
    "tweets = pd.read_table('data/clinton_trump_tweets.txt', names=column_names, encoding='ISO-8859-1')\n",
    "tweets.columns = tweets.columns.str.lower()"
   ]
  },
  {
   "cell_type": "code",
   "execution_count": null,
   "metadata": {
    "scrolled": true
   },
   "outputs": [],
   "source": [
    "tweets.shape"
   ]
  },
  {
   "cell_type": "code",
   "execution_count": null,
   "metadata": {
    "scrolled": false
   },
   "outputs": [],
   "source": [
    "tweets.dtypes"
   ]
  },
  {
   "cell_type": "markdown",
   "metadata": {},
   "source": [
    "## Preprocessing"
   ]
  },
  {
   "cell_type": "code",
   "execution_count": 3,
   "metadata": {},
   "outputs": [],
   "source": [
    "tweets.drop(['name', 'screen_name', \n",
    "            'followers_count', \n",
    "            'friends_count', \n",
    "            'location', \n",
    "            'description', \n",
    "            'created_at',\n",
    "            'status_id', \n",
    "            'language', \n",
    "            'place', \n",
    "            'retweet_count', \n",
    "            'favorite_count'], axis=1, inplace=True)"
   ]
  },
  {
   "cell_type": "code",
   "execution_count": null,
   "metadata": {
    "scrolled": false
   },
   "outputs": [],
   "source": [
    "tweets.head(n=10)"
   ]
  },
  {
   "cell_type": "code",
   "execution_count": 4,
   "metadata": {
    "scrolled": true
   },
   "outputs": [],
   "source": [
    "pattern = r'^RT\\s'\n",
    " \n",
    "# matches retweets and removes them\n",
    "tweets = tweets[tweets.text.str.match(pattern) == False]"
   ]
  },
  {
   "cell_type": "code",
   "execution_count": 46,
   "metadata": {
    "scrolled": true
   },
   "outputs": [
    {
     "data": {
      "text/plain": [
       "(2416818, 2)"
      ]
     },
     "execution_count": 46,
     "metadata": {},
     "output_type": "execute_result"
    }
   ],
   "source": [
    "tweets.shape"
   ]
  },
  {
   "cell_type": "code",
   "execution_count": null,
   "metadata": {},
   "outputs": [],
   "source": [
    "tweets.head(n=10)"
   ]
  },
  {
   "cell_type": "code",
   "execution_count": 5,
   "metadata": {
    "scrolled": false
   },
   "outputs": [],
   "source": [
    "# match all hashtags and mentions in a tweet, ignoring possible email addresses\n",
    "pattern = r'(?<=^|(?<=[^a-zA-Z0-9-\\.]))@([A-Za-z_]+[A-Za-z0-9_]+)|(?<=^|(?<=[^a-zA-Z0-9-\\.]))#([A-Za-z_]+[A-Za-z0-9_]+)'\n",
    "\n",
    "\"\"\" returns a DataFrame with a MultiIndex:\n",
    "    First index is our original index. Second index is \"match\" which is a running\n",
    "    total of the number of occurences of hashtags and mentions for a particular \n",
    "    tweet. \"\"\"\n",
    "handles_hashtags = tweets.text.str.extractall(pattern)"
   ]
  },
  {
   "cell_type": "code",
   "execution_count": 6,
   "metadata": {
    "scrolled": true
   },
   "outputs": [],
   "source": [
    "handles_hashtags.columns = ['handles', 'hashtags']\n",
    "handles_hashtags = handles_hashtags.reset_index().set_index('level_0')\n",
    "del handles_hashtags.index.name\n",
    "handles_hashtags.drop(['match'], axis=1, inplace=True)\n",
    "# stack handles and hashtags into one column\n",
    "handles_hashtags = pd.concat([handles_hashtags.handles, handles_hashtags.hashtags]).dropna().to_frame(name='handles_hashtags')"
   ]
  },
  {
   "cell_type": "code",
   "execution_count": 7,
   "metadata": {},
   "outputs": [],
   "source": [
    "''' returns users along with all the hashtags/handles they've used \n",
    "    (each occurrence of a hashtag/handle will also show up in the list) '''\n",
    "tweets = tweets.join(handles_hashtags, how='inner')\n",
    "tweets.drop(['text'], axis=1, inplace=True)\n",
    "handles_hashtags_all = tweets.reset_index().groupby('user_id')['handles_hashtags'].apply(list).to_frame()"
   ]
  },
  {
   "cell_type": "code",
   "execution_count": 53,
   "metadata": {},
   "outputs": [
    {
     "data": {
      "text/html": [
       "<div>\n",
       "<style scoped>\n",
       "    .dataframe tbody tr th:only-of-type {\n",
       "        vertical-align: middle;\n",
       "    }\n",
       "\n",
       "    .dataframe tbody tr th {\n",
       "        vertical-align: top;\n",
       "    }\n",
       "\n",
       "    .dataframe thead th {\n",
       "        text-align: right;\n",
       "    }\n",
       "</style>\n",
       "<table border=\"1\" class=\"dataframe\">\n",
       "  <thead>\n",
       "    <tr style=\"text-align: right;\">\n",
       "      <th></th>\n",
       "      <th>handles_hashtags</th>\n",
       "    </tr>\n",
       "    <tr>\n",
       "      <th>user_id</th>\n",
       "      <th></th>\n",
       "    </tr>\n",
       "  </thead>\n",
       "  <tbody>\n",
       "    <tr>\n",
       "      <th>150</th>\n",
       "      <td>[flangy, nelson, fjordinn, shinypb, fjordinn, fjordinn, iano, thatstacy, utilizer001, Carricohimself, fjordinn, raffi, d6, Sonikku_a, doctorow, gwestr]</td>\n",
       "    </tr>\n",
       "    <tr>\n",
       "      <th>1437</th>\n",
       "      <td>[overheardinlondon, whodeyintheUK, JimOwczarski, whodeyintheUK, AirlineFlyer, AirlineFlyer]</td>\n",
       "    </tr>\n",
       "    <tr>\n",
       "      <th>1512</th>\n",
       "      <td>[mozilla, david_bryant, SenFeinstein, marypcbuk]</td>\n",
       "    </tr>\n",
       "    <tr>\n",
       "      <th>1644</th>\n",
       "      <td>[MaryLovesBooks, BookNerdParadis, matt_hearnden, success, perspective, life, CodyBLister, Marketing, nick_eubanks, contentmarketing, promotionftw, contentmarketing, fredrivett, RobWormley, ContentMarketing, LArtra, BookNerdParadis, adamjayc, bloggingwizard, GuestBloggingStrategy, TamieDearen, BookNerdParadis, JRRTolkien, KatyHuthJones, BookNerdParadis, LorilynRoberts, BookNerdParadis, _awtozer, rahdieh, BookNerdParadis, TolkienQuote, EliseKova, BookNerdParadis, startrailsIV, BookNerdParadis, FebruaryGrace, BookNerdParadis, rtmixmktg, raecarson, BookNerdParadis, WillBluntAU, ContentMarketing, blog, LaurenLynneYA, BookNerdParadis, listbuilding, guestposting, motivation, success, emailmarketing, CRO]</td>\n",
       "    </tr>\n",
       "    <tr>\n",
       "      <th>1668</th>\n",
       "      <td>[garrytan]</td>\n",
       "    </tr>\n",
       "    <tr>\n",
       "      <th>1737</th>\n",
       "      <td>[nehanarkhede, ATO2016, erinscafe, MailChimp, ATO2016, rachaelmaddux, _raven_io, pwnela, GregU, PTC, Vuforia, ATO2016, nehanarkhede, erinscafe, salrelish, KyFaSt, nehanarkhede, MailChimp, ATO2016, SwiftOnSecurity, dcloues, nehanarkhede, jessfraz, erinscafe, nehanarkhede, solrac901, ApacheSpot, MailChimp, ATO2016, adickerson, ComfortablySmug, jdickerson, skamille, Michael_Tsunam1, samnesmith, bakins, JessicaMauerhan]</td>\n",
       "    </tr>\n",
       "    <tr>\n",
       "      <th>2294</th>\n",
       "      <td>[qz]</td>\n",
       "    </tr>\n",
       "    <tr>\n",
       "      <th>2311</th>\n",
       "      <td>[wp, ischafer, TeslaMotors, levie, SlackHQ, worldseries, hitlist_app, wandertab]</td>\n",
       "    </tr>\n",
       "    <tr>\n",
       "      <th>2391</th>\n",
       "      <td>[NathanFGao, bonaventuresoft, presserb, petshopboys, eldescanso, buzz, andymatic, petshopboys, mknepprath, dansinker, willsh, j3sse_pub, petshopboys, thelastwalt, tonx, MikeIsaac, fmanjoo, migurski, rtraister, atrubens, twitter, j3sse_pub, petshopboys, clearwriter, twitter, timbuckwalter, scarequotes, kathrynyu, summersumz, steveportigal, billder, NathanFGao, robynkanner, thelastwalt, clearwriter, hhavrilesky, TheCut, tonx, bjheinley, kowitz, yodamay, BenKennerly, michael, MaxTemkin, lmc, nczeitgeist, kathrynyu, dansays, tonx, Annaleen, TimGunn, atrubens, twitter, mnik]</td>\n",
       "    </tr>\n",
       "    <tr>\n",
       "      <th>2424</th>\n",
       "      <td>[max_hodak, ATT, twxcorp, ndustrialio, OneLineage, barryoreilly]</td>\n",
       "    </tr>\n",
       "  </tbody>\n",
       "</table>\n",
       "</div>"
      ],
      "text/plain": [
       "                                                                                                                                                                                                                                                                                                                                                                                                                                                                                                                                                                                                                                                                                                                           handles_hashtags\n",
       "user_id                                                                                                                                                                                                                                                                                                                                                                                                                                                                                                                                                                                                                                                                                                                                    \n",
       "150      [flangy, nelson, fjordinn, shinypb, fjordinn, fjordinn, iano, thatstacy, utilizer001, Carricohimself, fjordinn, raffi, d6, Sonikku_a, doctorow, gwestr]                                                                                                                                                                                                                                                                                                                                                                                                                                                                                                                                                                           \n",
       "1437     [overheardinlondon, whodeyintheUK, JimOwczarski, whodeyintheUK, AirlineFlyer, AirlineFlyer]                                                                                                                                                                                                                                                                                                                                                                                                                                                                                                                                                                                                                                       \n",
       "1512     [mozilla, david_bryant, SenFeinstein, marypcbuk]                                                                                                                                                                                                                                                                                                                                                                                                                                                                                                                                                                                                                                                                                  \n",
       "1644     [MaryLovesBooks, BookNerdParadis, matt_hearnden, success, perspective, life, CodyBLister, Marketing, nick_eubanks, contentmarketing, promotionftw, contentmarketing, fredrivett, RobWormley, ContentMarketing, LArtra, BookNerdParadis, adamjayc, bloggingwizard, GuestBloggingStrategy, TamieDearen, BookNerdParadis, JRRTolkien, KatyHuthJones, BookNerdParadis, LorilynRoberts, BookNerdParadis, _awtozer, rahdieh, BookNerdParadis, TolkienQuote, EliseKova, BookNerdParadis, startrailsIV, BookNerdParadis, FebruaryGrace, BookNerdParadis, rtmixmktg, raecarson, BookNerdParadis, WillBluntAU, ContentMarketing, blog, LaurenLynneYA, BookNerdParadis, listbuilding, guestposting, motivation, success, emailmarketing, CRO]\n",
       "1668     [garrytan]                                                                                                                                                                                                                                                                                                                                                                                                                                                                                                                                                                                                                                                                                                                        \n",
       "1737     [nehanarkhede, ATO2016, erinscafe, MailChimp, ATO2016, rachaelmaddux, _raven_io, pwnela, GregU, PTC, Vuforia, ATO2016, nehanarkhede, erinscafe, salrelish, KyFaSt, nehanarkhede, MailChimp, ATO2016, SwiftOnSecurity, dcloues, nehanarkhede, jessfraz, erinscafe, nehanarkhede, solrac901, ApacheSpot, MailChimp, ATO2016, adickerson, ComfortablySmug, jdickerson, skamille, Michael_Tsunam1, samnesmith, bakins, JessicaMauerhan]                                                                                                                                                                                                                                                                                               \n",
       "2294     [qz]                                                                                                                                                                                                                                                                                                                                                                                                                                                                                                                                                                                                                                                                                                                              \n",
       "2311     [wp, ischafer, TeslaMotors, levie, SlackHQ, worldseries, hitlist_app, wandertab]                                                                                                                                                                                                                                                                                                                                                                                                                                                                                                                                                                                                                                                  \n",
       "2391     [NathanFGao, bonaventuresoft, presserb, petshopboys, eldescanso, buzz, andymatic, petshopboys, mknepprath, dansinker, willsh, j3sse_pub, petshopboys, thelastwalt, tonx, MikeIsaac, fmanjoo, migurski, rtraister, atrubens, twitter, j3sse_pub, petshopboys, clearwriter, twitter, timbuckwalter, scarequotes, kathrynyu, summersumz, steveportigal, billder, NathanFGao, robynkanner, thelastwalt, clearwriter, hhavrilesky, TheCut, tonx, bjheinley, kowitz, yodamay, BenKennerly, michael, MaxTemkin, lmc, nczeitgeist, kathrynyu, dansays, tonx, Annaleen, TimGunn, atrubens, twitter, mnik]                                                                                                                                  \n",
       "2424     [max_hodak, ATT, twxcorp, ndustrialio, OneLineage, barryoreilly]                                                                                                                                                                                                                                                                                                                                                                                                                                                                                                                                                                                                                                                                  "
      ]
     },
     "execution_count": 53,
     "metadata": {},
     "output_type": "execute_result"
    }
   ],
   "source": [
    "handles_hashtags_all.head(n=10)"
   ]
  },
  {
   "cell_type": "markdown",
   "metadata": {},
   "source": [
    "### active users with at least 20 distinct hashtags/handles"
   ]
  },
  {
   "cell_type": "code",
   "execution_count": 8,
   "metadata": {},
   "outputs": [],
   "source": [
    "# returns users along with the distinct hashtags/handles they've used\n",
    "handles_hashtags_distinct = tweets.reset_index().groupby('user_id')['handles_hashtags'].unique().to_frame()\n",
    "# retrieve only those who have used 20 or more distinct handles/hashtags\n",
    "users_active = handles_hashtags_distinct[handles_hashtags_distinct.handles_hashtags.str.len() > 19]"
   ]
  },
  {
   "cell_type": "code",
   "execution_count": 9,
   "metadata": {},
   "outputs": [],
   "source": [
    "users_active = users_active.join(handles_hashtags_all, lsuffix='_distinct', rsuffix='_all', how='inner')"
   ]
  },
  {
   "cell_type": "code",
   "execution_count": null,
   "metadata": {
    "scrolled": true
   },
   "outputs": [],
   "source": [
    "users_active.head()"
   ]
  },
  {
   "cell_type": "code",
   "execution_count": 10,
   "metadata": {},
   "outputs": [],
   "source": [
    "users_active['handles_hashtags_stringified'] = users_active['handles_hashtags_all'].apply(lambda x: ' '.join(map(str, x)))"
   ]
  },
  {
   "cell_type": "code",
   "execution_count": null,
   "metadata": {},
   "outputs": [],
   "source": [
    "users_active['handles_hashtags_stringified']"
   ]
  },
  {
   "cell_type": "code",
   "execution_count": 11,
   "metadata": {},
   "outputs": [],
   "source": [
    "''' each string in the list contains all the hashtags/handles for one user \n",
    "    (contains duplicates if they used a hashtag/handle more than once) '''\n",
    "corpus = list(users_active['handles_hashtags_stringified'])"
   ]
  },
  {
   "cell_type": "code",
   "execution_count": null,
   "metadata": {},
   "outputs": [],
   "source": [
    "corpus"
   ]
  },
  {
   "cell_type": "markdown",
   "metadata": {},
   "source": [
    "### hashtags/handles that have been used by at least 20 distinct users (min_df=20)"
   ]
  },
  {
   "cell_type": "code",
   "execution_count": 12,
   "metadata": {},
   "outputs": [],
   "source": [
    "# constructs a dataframe with only the handles/hashtags used by 20 users \n",
    "vectorizer = sk_text.CountVectorizer(min_df=20, lowercase=True, encoding='ISO-8859-1')\n",
    "matrix = vectorizer.fit_transform(corpus)\n",
    "df = pd.DataFrame(matrix.toarray(), index=users_active.index, columns=vectorizer.get_feature_names())"
   ]
  },
  {
   "cell_type": "code",
   "execution_count": null,
   "metadata": {},
   "outputs": [],
   "source": [
    "for r in users_active.index:\n",
    "    print(r)"
   ]
  },
  {
   "cell_type": "code",
   "execution_count": 60,
   "metadata": {},
   "outputs": [
    {
     "data": {
      "text/plain": [
       "1.1951974818713689"
      ]
     },
     "execution_count": 60,
     "metadata": {},
     "output_type": "execute_result"
    }
   ],
   "source": [
    "df.var(axis=1).mean()"
   ]
  },
  {
   "cell_type": "code",
   "execution_count": 13,
   "metadata": {
    "scrolled": true
   },
   "outputs": [],
   "source": [
    "from sklearn.feature_selection import VarianceThreshold\n",
    "import sklearn.preprocessing as sk_p\n",
    "import sklearn.cluster as sk\n",
    "temp = df.drop([col for col, val in df.sum().iteritems() if val > 4000], axis=1, inplace=False)"
   ]
  },
  {
   "cell_type": "code",
   "execution_count": 23,
   "metadata": {},
   "outputs": [
    {
     "data": {
      "text/plain": [
       "download      3016\n",
       "spotify       3016\n",
       "news          2654\n",
       "lgbt          2320\n",
       "now           1717\n",
       "nowplaying    1492\n",
       "trump         1349\n",
       "cosproject    1292\n",
       "pjnet         1020\n",
       "biz           993 \n",
       "dtype: int64"
      ]
     },
     "execution_count": 23,
     "metadata": {},
     "output_type": "execute_result"
    }
   ],
   "source": [
    "df.max(axis=0).sort_values(ascending=False).head(n=10)"
   ]
  },
  {
   "cell_type": "code",
   "execution_count": 14,
   "metadata": {},
   "outputs": [],
   "source": [
    "#normalize and select attributes\n",
    "df_std = sk_p.normalize(df, norm='l2', axis=1)\n",
    "\n",
    "select = VarianceThreshold(threshold=0.0002)\n",
    "df_select = select.fit_transform(df_std)"
   ]
  },
  {
   "cell_type": "code",
   "execution_count": 15,
   "metadata": {},
   "outputs": [
    {
     "data": {
      "text/plain": [
       "0.00023835302983602955"
      ]
     },
     "execution_count": 15,
     "metadata": {},
     "output_type": "execute_result"
    }
   ],
   "source": [
    "df_std.var(axis=1).mean()"
   ]
  },
  {
   "cell_type": "code",
   "execution_count": 16,
   "metadata": {},
   "outputs": [
    {
     "data": {
      "text/plain": [
       "(17066, 1079)"
      ]
     },
     "execution_count": 16,
     "metadata": {},
     "output_type": "execute_result"
    }
   ],
   "source": [
    "df_select.shape"
   ]
  },
  {
   "cell_type": "code",
   "execution_count": 17,
   "metadata": {},
   "outputs": [
    {
     "name": "stdout",
     "output_type": "stream",
     "text": [
      "\n",
      " Cluster Centroids\n",
      "[[0.00567812 0.0012242  0.00078956 ... 0.04701323 0.0009099  0.00069385]\n",
      " [0.02004345 0.00123158 0.0054746  ... 0.03655021 0.00125211 0.00016135]]\n",
      "\n",
      "Cluster labels\n",
      "[0 0 0 ... 0 0 0]\n",
      "\n",
      "\n",
      "The total error of the clustering is:  11627.092722698546\n"
     ]
    }
   ],
   "source": [
    "kmeans = sk.KMeans(init='k-means++', n_clusters=2, n_init=20)  \n",
    "\n",
    "means = kmeans.fit_predict(df_select)\n",
    "\n",
    "print ('\\n Cluster Centroids')\n",
    "centroids = kmeans.cluster_centers_\n",
    "print (centroids)\n",
    "\n",
    "print ('\\nCluster labels')\n",
    "kmeans_labels = kmeans.labels_\n",
    "print(kmeans_labels)\n",
    "\n",
    "\n",
    "print('\\n')\n",
    "error = kmeans.inertia_       #SSE; Sum of squared distances of samples to their closest cluster center.\n",
    "print (\"The total error of the clustering is: \", error)"
   ]
  },
  {
   "cell_type": "code",
   "execution_count": 18,
   "metadata": {},
   "outputs": [],
   "source": [
    "true_values = pd.read_table('.\\data\\clinton_trump_user_classes.txt', names=['user_id', 'label'])\n",
    "true_values.set_index('user_id', inplace=True)"
   ]
  },
  {
   "cell_type": "code",
   "execution_count": 157,
   "metadata": {},
   "outputs": [
    {
     "data": {
      "text/plain": [
       "(200000, 1)"
      ]
     },
     "execution_count": 157,
     "metadata": {},
     "output_type": "execute_result"
    }
   ],
   "source": [
    "true_values.shape"
   ]
  },
  {
   "cell_type": "code",
   "execution_count": 19,
   "metadata": {},
   "outputs": [],
   "source": [
    "t_values = df.join(true_values, how='inner')"
   ]
  },
  {
   "cell_type": "code",
   "execution_count": 20,
   "metadata": {},
   "outputs": [],
   "source": [
    "t_labels = pd.DataFrame(t_values['label'], index = t_values.index)"
   ]
  },
  {
   "cell_type": "code",
   "execution_count": 21,
   "metadata": {},
   "outputs": [
    {
     "data": {
      "text/plain": [
       "array([1, 1, 1, ..., 1, 1, 1], dtype=int64)"
      ]
     },
     "execution_count": 21,
     "metadata": {},
     "output_type": "execute_result"
    }
   ],
   "source": [
    "t_values['label'].values"
   ]
  },
  {
   "cell_type": "code",
   "execution_count": 174,
   "metadata": {},
   "outputs": [
    {
     "data": {
      "text/plain": [
       "array([0, 0, 0, ..., 0, 0, 0])"
      ]
     },
     "execution_count": 174,
     "metadata": {},
     "output_type": "execute_result"
    }
   ],
   "source": [
    "means"
   ]
  },
  {
   "cell_type": "code",
   "execution_count": 22,
   "metadata": {},
   "outputs": [],
   "source": [
    "users = df.index\n",
    "labels = pd.DataFrame(kmeans_labels, index=users)\n",
    "mean_labels_0 = labels[labels.iloc[:,0]==0]\n",
    "mean_labels_1 = labels[labels.iloc[:, 0]==1]"
   ]
  },
  {
   "cell_type": "code",
   "execution_count": 23,
   "metadata": {},
   "outputs": [],
   "source": [
    "mean_cluster_0 = df.drop(mean_labels_1.index)\n",
    "mean_cluster_1 = df.drop(mean_labels_0.index)"
   ]
  },
  {
   "cell_type": "code",
   "execution_count": 24,
   "metadata": {},
   "outputs": [
    {
     "data": {
      "text/plain": [
       "youtube            13132\n",
       "trump              6308 \n",
       "news               5546 \n",
       "worldseries        5250 \n",
       "pjnet              4100 \n",
       "hillaryclinton     3769 \n",
       "hillary            3546 \n",
       "cubs               3504 \n",
       "now                3458 \n",
       "realdonaldtrump    3374 \n",
       "quote              3348 \n",
       "cosproject         3208 \n",
       "spotify            3094 \n",
       "download           3059 \n",
       "cnn                2902 \n",
       "maga               2745 \n",
       "tcot               2711 \n",
       "nowplaying         2661 \n",
       "lgbt               2490 \n",
       "halloween          2440 \n",
       "ebay               2346 \n",
       "wikileaks          2143 \n",
       "imwithher          2141 \n",
       "rallytogether      2136 \n",
       "fbi                1905 \n",
       "clinton            1865 \n",
       "gop                1858 \n",
       "business           1809 \n",
       "indians            1793 \n",
       "reinindc           1714 \n",
       "dtype: int64"
      ]
     },
     "execution_count": 24,
     "metadata": {},
     "output_type": "execute_result"
    }
   ],
   "source": [
    "#Clinton\n",
    "mean_cluster_0.sum(axis=0).sort_values(ascending=False).head(n=30)"
   ]
  },
  {
   "cell_type": "code",
   "execution_count": 25,
   "metadata": {},
   "outputs": [
    {
     "data": {
      "text/plain": [
       "realdonaldtrump    21177\n",
       "hillaryclinton     17852\n",
       "foxnews            8353 \n",
       "cnn                5426 \n",
       "megynkelly         5317 \n",
       "fbi                3518 \n",
       "wikileaks          3208 \n",
       "maga               3184 \n",
       "newtgingrich       3052 \n",
       "seanhannity        2868 \n",
       "kellyannepolls     2588 \n",
       "msnbc              2430 \n",
       "trump              2398 \n",
       "youtube            2386 \n",
       "potus              2161 \n",
       "gop                2091 \n",
       "draintheswamp      1853 \n",
       "abc                1662 \n",
       "washingtonpost     1630 \n",
       "imwithher          1619 \n",
       "jasoninthehouse    1555 \n",
       "cnnpolitics        1500 \n",
       "nytimes            1472 \n",
       "mike_pence         1396 \n",
       "mitchellvii        1361 \n",
       "speakerryan        1285 \n",
       "wdfx2eu7           1157 \n",
       "evan_mcmullin      1142 \n",
       "hillary            1129 \n",
       "joyannreid         1119 \n",
       "dtype: int64"
      ]
     },
     "execution_count": 25,
     "metadata": {},
     "output_type": "execute_result"
    }
   ],
   "source": [
    "#Trump\n",
    "mean_cluster_1.sum(axis=0).sort_values(ascending=False).head(n=30)"
   ]
  },
  {
   "cell_type": "code",
   "execution_count": 26,
   "metadata": {},
   "outputs": [],
   "source": [
    "import sklearn.metrics as metrics"
   ]
  },
  {
   "cell_type": "code",
   "execution_count": 27,
   "metadata": {},
   "outputs": [],
   "source": [
    "mean_c = metrics.confusion_matrix(t_values['label'].values, means, labels=[0, 1])"
   ]
  },
  {
   "cell_type": "code",
   "execution_count": 28,
   "metadata": {},
   "outputs": [
    {
     "data": {
      "text/plain": [
       "array([[5348, 2327],\n",
       "       [8047, 1344]], dtype=int64)"
      ]
     },
     "execution_count": 28,
     "metadata": {},
     "output_type": "execute_result"
    }
   ],
   "source": [
    "mean_c"
   ]
  },
  {
   "cell_type": "code",
   "execution_count": 29,
   "metadata": {},
   "outputs": [
    {
     "data": {
      "text/plain": [
       "0.3661127758104059"
      ]
     },
     "execution_count": 29,
     "metadata": {},
     "output_type": "execute_result"
    }
   ],
   "source": [
    "#precision for Kmean\n",
    "mean_precision = metrics.precision_score(t_values['label'].values, means)\n",
    "mean_precision"
   ]
  },
  {
   "cell_type": "code",
   "execution_count": 32,
   "metadata": {},
   "outputs": [
    {
     "data": {
      "text/plain": [
       "0.1431157491214993"
      ]
     },
     "execution_count": 32,
     "metadata": {},
     "output_type": "execute_result"
    }
   ],
   "source": [
    "#recall for Kmean\n",
    "mean_recall = metrics.recall_score(t_values['label'].values, means)\n",
    "mean_recall"
   ]
  },
  {
   "cell_type": "code",
   "execution_count": 33,
   "metadata": {},
   "outputs": [
    {
     "data": {
      "text/plain": [
       "0.2057877813504823"
      ]
     },
     "execution_count": 33,
     "metadata": {},
     "output_type": "execute_result"
    }
   ],
   "source": [
    "#Kmean f score\n",
    "mean_f_score = metrics.f1_score(t_values['label'].values, means)\n",
    "mean_f_score"
   ]
  },
  {
   "cell_type": "markdown",
   "metadata": {},
   "source": [
    "cluster 0 is Hilary while cluster 1 is Trump"
   ]
  },
  {
   "cell_type": "code",
   "execution_count": 34,
   "metadata": {},
   "outputs": [],
   "source": [
    "ag = sk.AgglomerativeClustering(n_clusters = 2, linkage = 'ward')   \n",
    "\n",
    "#complete: The maximum distances\n",
    "#n_clusters: The number of clusters to find.\n",
    "\n",
    "ag_sse = ag.fit_predict(df_select)\n",
    "#ag_sse.labels_"
   ]
  },
  {
   "cell_type": "code",
   "execution_count": 35,
   "metadata": {},
   "outputs": [],
   "source": [
    "ag_sse_labels = pd.DataFrame(ag_sse, index=users)\n",
    "sse_labels_0 = ag_sse_labels[labels.iloc[:,0]==0]\n",
    "sse_labels_1 = ag_sse_labels[labels.iloc[:, 0]==1] "
   ]
  },
  {
   "cell_type": "code",
   "execution_count": 36,
   "metadata": {},
   "outputs": [],
   "source": [
    "sse_cluster_0 = df.drop(sse_labels_1.index)\n",
    "sse_cluster_1 = df.drop(sse_labels_0.index)"
   ]
  },
  {
   "cell_type": "code",
   "execution_count": 37,
   "metadata": {},
   "outputs": [
    {
     "data": {
      "text/plain": [
       "download        3016\n",
       "spotify         3016\n",
       "news            2654\n",
       "lgbt            2320\n",
       "now             1717\n",
       "nowplaying      1492\n",
       "trump           1349\n",
       "cosproject      1292\n",
       "pjnet           1020\n",
       "biz             993 \n",
       "vip             957 \n",
       "music           897 \n",
       "sales           758 \n",
       "borisjohnson    721 \n",
       "youtube         705 \n",
       "florida         680 \n",
       "leadership      667 \n",
       "maine           629 \n",
       "hillary         616 \n",
       "us              579 \n",
       "tcot            573 \n",
       "markets         570 \n",
       "gop             561 \n",
       "watch           551 \n",
       "clinton         544 \n",
       "finance         535 \n",
       "jewelry         523 \n",
       "law             515 \n",
       "nypost          506 \n",
       "newyork         506 \n",
       "dtype: int64"
      ]
     },
     "execution_count": 37,
     "metadata": {},
     "output_type": "execute_result"
    }
   ],
   "source": [
    "#Clinton\n",
    "sse_cluster_0.max(axis=0).sort_values(ascending=False).head(n=30)"
   ]
  },
  {
   "cell_type": "code",
   "execution_count": 38,
   "metadata": {},
   "outputs": [
    {
     "data": {
      "text/plain": [
       "gop                 527\n",
       "evan_mcmullin       407\n",
       "speakerryan         370\n",
       "mittromney          364\n",
       "megynkelly          281\n",
       "shepnewsteam        273\n",
       "danaperino          273\n",
       "newtgingrich        232\n",
       "hillaryclinton      218\n",
       "realdonaldtrump     181\n",
       "lorettalynch        177\n",
       "braveheart_usa      152\n",
       "ingrahamangle       151\n",
       "maga                149\n",
       "seanhannity         148\n",
       "kellyannepolls      143\n",
       "foxnews             129\n",
       "cnn                 125\n",
       "msnbc               123\n",
       "samsteinhp          121\n",
       "steph93065          106\n",
       "therickwilson       102\n",
       "peggy7172           100\n",
       "wikileaks           97 \n",
       "trump               95 \n",
       "fbi                 93 \n",
       "mike_pence          88 \n",
       "guilty              87 \n",
       "hillaryforprison    86 \n",
       "sykescharlie        84 \n",
       "dtype: int64"
      ]
     },
     "execution_count": 38,
     "metadata": {},
     "output_type": "execute_result"
    }
   ],
   "source": [
    "#Trump\n",
    "sse_cluster_1.max(axis=0).sort_values(ascending=False).head(n=30)"
   ]
  },
  {
   "cell_type": "code",
   "execution_count": 40,
   "metadata": {},
   "outputs": [],
   "source": [
    "sse_c = metrics.confusion_matrix(t_values['label'].values, ag_sse, labels=[0, 1])"
   ]
  },
  {
   "cell_type": "code",
   "execution_count": 41,
   "metadata": {},
   "outputs": [
    {
     "data": {
      "text/plain": [
       "array([[4258, 3417],\n",
       "       [6601, 2790]], dtype=int64)"
      ]
     },
     "execution_count": 41,
     "metadata": {},
     "output_type": "execute_result"
    }
   ],
   "source": [
    "sse_c"
   ]
  },
  {
   "cell_type": "markdown",
   "metadata": {},
   "source": [
    "From this confusion matrix, cluster 0 represents Hilary followers while cluster 1 represents Trump followers"
   ]
  },
  {
   "cell_type": "code",
   "execution_count": 42,
   "metadata": {},
   "outputs": [
    {
     "data": {
      "text/plain": [
       "0.4494925084581924"
      ]
     },
     "execution_count": 42,
     "metadata": {},
     "output_type": "execute_result"
    }
   ],
   "source": [
    "#precision score of ag sse\n",
    "sse_precision = metrics.precision_score(t_values['label'].values, ag_sse)\n",
    "sse_precision"
   ]
  },
  {
   "cell_type": "code",
   "execution_count": 43,
   "metadata": {},
   "outputs": [
    {
     "data": {
      "text/plain": [
       "0.2970929613459695"
      ]
     },
     "execution_count": 43,
     "metadata": {},
     "output_type": "execute_result"
    }
   ],
   "source": [
    "#recall score for ag sse\n",
    "sse_recall = metrics.recall_score(t_values['label'].values, ag_sse)\n",
    "sse_recall"
   ]
  },
  {
   "cell_type": "code",
   "execution_count": 44,
   "metadata": {},
   "outputs": [
    {
     "data": {
      "text/plain": [
       "0.35773817156045645"
      ]
     },
     "execution_count": 44,
     "metadata": {},
     "output_type": "execute_result"
    }
   ],
   "source": [
    "#f score for ag sse\n",
    "sse_f_score = metrics.f1_score(t_values['label'].values, ag_sse)\n",
    "sse_f_score"
   ]
  },
  {
   "cell_type": "code",
   "execution_count": 45,
   "metadata": {},
   "outputs": [],
   "source": [
    "ag = sk.AgglomerativeClustering(n_clusters = 2, linkage = 'complete')\n",
    "ag_max = ag.fit_predict(df_select)\n",
    "#ag_max.labels_"
   ]
  },
  {
   "cell_type": "code",
   "execution_count": 46,
   "metadata": {},
   "outputs": [],
   "source": [
    "ag_max_labels = pd.DataFrame(ag_max, index=users)\n",
    "max_labels_0 = ag_max_labels[labels.iloc[:,0]==0]\n",
    "max_labels_1 = ag_max_labels[labels.iloc[:, 0]==1] "
   ]
  },
  {
   "cell_type": "code",
   "execution_count": 47,
   "metadata": {},
   "outputs": [],
   "source": [
    "max_cluster_0 = df.drop(max_labels_1.index)\n",
    "max_cluster_1 = df.drop(max_labels_0.index)"
   ]
  },
  {
   "cell_type": "code",
   "execution_count": 48,
   "metadata": {},
   "outputs": [
    {
     "data": {
      "text/plain": [
       "download        3016\n",
       "spotify         3016\n",
       "news            2654\n",
       "lgbt            2320\n",
       "now             1717\n",
       "nowplaying      1492\n",
       "trump           1349\n",
       "cosproject      1292\n",
       "pjnet           1020\n",
       "biz             993 \n",
       "vip             957 \n",
       "music           897 \n",
       "sales           758 \n",
       "borisjohnson    721 \n",
       "youtube         705 \n",
       "florida         680 \n",
       "leadership      667 \n",
       "maine           629 \n",
       "hillary         616 \n",
       "us              579 \n",
       "tcot            573 \n",
       "markets         570 \n",
       "gop             561 \n",
       "watch           551 \n",
       "clinton         544 \n",
       "finance         535 \n",
       "jewelry         523 \n",
       "law             515 \n",
       "nypost          506 \n",
       "newyork         506 \n",
       "dtype: int64"
      ]
     },
     "execution_count": 48,
     "metadata": {},
     "output_type": "execute_result"
    }
   ],
   "source": [
    "#Trump\n",
    "max_cluster_0.max(axis=0).sort_values(ascending=False).head(n=30)"
   ]
  },
  {
   "cell_type": "code",
   "execution_count": 49,
   "metadata": {},
   "outputs": [
    {
     "data": {
      "text/plain": [
       "gop                 527\n",
       "evan_mcmullin       407\n",
       "speakerryan         370\n",
       "mittromney          364\n",
       "megynkelly          281\n",
       "shepnewsteam        273\n",
       "danaperino          273\n",
       "newtgingrich        232\n",
       "hillaryclinton      218\n",
       "realdonaldtrump     181\n",
       "lorettalynch        177\n",
       "braveheart_usa      152\n",
       "ingrahamangle       151\n",
       "maga                149\n",
       "seanhannity         148\n",
       "kellyannepolls      143\n",
       "foxnews             129\n",
       "cnn                 125\n",
       "msnbc               123\n",
       "samsteinhp          121\n",
       "steph93065          106\n",
       "therickwilson       102\n",
       "peggy7172           100\n",
       "wikileaks           97 \n",
       "trump               95 \n",
       "fbi                 93 \n",
       "mike_pence          88 \n",
       "guilty              87 \n",
       "hillaryforprison    86 \n",
       "sykescharlie        84 \n",
       "dtype: int64"
      ]
     },
     "execution_count": 49,
     "metadata": {},
     "output_type": "execute_result"
    }
   ],
   "source": [
    "#Clinton\n",
    "max_cluster_1.max(axis=0).sort_values(ascending=False).head(n=30)"
   ]
  },
  {
   "cell_type": "code",
   "execution_count": 51,
   "metadata": {},
   "outputs": [],
   "source": [
    "max_c = metrics.confusion_matrix(t_values['label'].values, ag_max, labels=[0, 1])"
   ]
  },
  {
   "cell_type": "code",
   "execution_count": 52,
   "metadata": {},
   "outputs": [
    {
     "data": {
      "text/plain": [
       "array([[3228, 4447],\n",
       "       [3218, 6173]], dtype=int64)"
      ]
     },
     "execution_count": 52,
     "metadata": {},
     "output_type": "execute_result"
    }
   ],
   "source": [
    "max_c"
   ]
  },
  {
   "cell_type": "markdown",
   "metadata": {},
   "source": [
    "cluster 0 is Trump and cluster 1 is Hilary"
   ]
  },
  {
   "cell_type": "code",
   "execution_count": 53,
   "metadata": {},
   "outputs": [
    {
     "data": {
      "text/plain": [
       "0.5812617702448211"
      ]
     },
     "execution_count": 53,
     "metadata": {},
     "output_type": "execute_result"
    }
   ],
   "source": [
    "#precision for ag max\n",
    "max_precision = metrics.precision_score(t_values['label'].values, ag_max)\n",
    "max_precision"
   ]
  },
  {
   "cell_type": "code",
   "execution_count": 54,
   "metadata": {},
   "outputs": [
    {
     "data": {
      "text/plain": [
       "0.6573314875945053"
      ]
     },
     "execution_count": 54,
     "metadata": {},
     "output_type": "execute_result"
    }
   ],
   "source": [
    "#recall score for ag max\n",
    "max_recall = metrics.recall_score(t_values['label'].values, ag_max)\n",
    "max_recall"
   ]
  },
  {
   "cell_type": "code",
   "execution_count": 55,
   "metadata": {},
   "outputs": [
    {
     "data": {
      "text/plain": [
       "0.6169606716306031"
      ]
     },
     "execution_count": 55,
     "metadata": {},
     "output_type": "execute_result"
    }
   ],
   "source": [
    "#f score for ag max\n",
    "max_f_score = metrics.f1_score(t_values['label'].values, ag_max)\n",
    "max_f_score"
   ]
  },
  {
   "cell_type": "code",
   "execution_count": null,
   "metadata": {},
   "outputs": [],
   "source": [
    "# same matrix just swapped rows and columns\n",
    "df.transpose().head()"
   ]
  }
 ],
 "metadata": {
  "kernelspec": {
   "display_name": "Python 3",
   "language": "python",
   "name": "python3"
  },
  "language_info": {
   "codemirror_mode": {
    "name": "ipython",
    "version": 3
   },
   "file_extension": ".py",
   "mimetype": "text/x-python",
   "name": "python",
   "nbconvert_exporter": "python",
   "pygments_lexer": "ipython3",
   "version": "3.6.4"
  }
 },
 "nbformat": 4,
 "nbformat_minor": 2
}
