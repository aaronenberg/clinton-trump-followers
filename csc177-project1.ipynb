{
 "cells": [
  {
   "cell_type": "markdown",
   "metadata": {},
   "source": [
    "## CSC 177-02 Data Warehousing and Data Mining\n",
    "### Mini-Project 1: Clustering\n",
    "### 2016 US presedential election Twitter analysis\n",
    "\n",
    "#### Group members: Aaron Enberg,"
   ]
  },
  {
   "cell_type": "code",
   "execution_count": 1,
   "metadata": {
    "scrolled": true
   },
   "outputs": [],
   "source": [
    "import pandas as pd\n",
    "pd.set_option('display.max_colwidth', -1)"
   ]
  },
  {
   "cell_type": "code",
   "execution_count": 2,
   "metadata": {
    "scrolled": true
   },
   "outputs": [],
   "source": [
    "column_names = ['Name', 'screen_Name', 'User_ID', \n",
    "                'Followers_Count', 'Friends_Count', \n",
    "                'Location', 'Description', 'Created_At', \n",
    "                'Status_ID', 'Language', 'Place', \n",
    "                'Retweet_Count', 'Favorite_Count', 'Text']\n",
    "tweets = pd.read_table('data/clinton_trump_tweets.txt', names=column_names, encoding='ISO-8859-1')\n",
    "tweets.columns = tweets.columns.str.lower()"
   ]
  },
  {
   "cell_type": "code",
   "execution_count": 3,
   "metadata": {
    "scrolled": true
   },
   "outputs": [
    {
     "data": {
      "text/plain": [
       "(5250980, 14)"
      ]
     },
     "execution_count": 3,
     "metadata": {},
     "output_type": "execute_result"
    }
   ],
   "source": [
    "tweets.shape"
   ]
  },
  {
   "cell_type": "code",
   "execution_count": 4,
   "metadata": {
    "scrolled": false
   },
   "outputs": [
    {
     "data": {
      "text/plain": [
       "name               object\n",
       "screen_name        object\n",
       "user_id            int64 \n",
       "followers_count    int64 \n",
       "friends_count      int64 \n",
       "location           object\n",
       "description        object\n",
       "created_at         object\n",
       "status_id          int64 \n",
       "language           object\n",
       "place              object\n",
       "retweet_count      int64 \n",
       "favorite_count     int64 \n",
       "text               object\n",
       "dtype: object"
      ]
     },
     "execution_count": 4,
     "metadata": {},
     "output_type": "execute_result"
    }
   ],
   "source": [
    "tweets.dtypes"
   ]
  },
  {
   "cell_type": "markdown",
   "metadata": {},
   "source": [
    "## Preprocessing"
   ]
  },
  {
   "cell_type": "code",
   "execution_count": 5,
   "metadata": {},
   "outputs": [],
   "source": [
    "tweets.drop(['name', 'user_id', \n",
    "            'followers_count', \n",
    "            'friends_count', \n",
    "            'location', \n",
    "            'description', \n",
    "            'created_at',\n",
    "            'status_id', \n",
    "            'language', \n",
    "            'place', \n",
    "            'retweet_count', \n",
    "            'favorite_count'], axis=1, inplace=True)"
   ]
  },
  {
   "cell_type": "code",
   "execution_count": 6,
   "metadata": {
    "scrolled": false
   },
   "outputs": [
    {
     "data": {
      "text/html": [
       "<div>\n",
       "<style scoped>\n",
       "    .dataframe tbody tr th:only-of-type {\n",
       "        vertical-align: middle;\n",
       "    }\n",
       "\n",
       "    .dataframe tbody tr th {\n",
       "        vertical-align: top;\n",
       "    }\n",
       "\n",
       "    .dataframe thead th {\n",
       "        text-align: right;\n",
       "    }\n",
       "</style>\n",
       "<table border=\"1\" class=\"dataframe\">\n",
       "  <thead>\n",
       "    <tr style=\"text-align: right;\">\n",
       "      <th></th>\n",
       "      <th>screen_name</th>\n",
       "      <th>text</th>\n",
       "    </tr>\n",
       "  </thead>\n",
       "  <tbody>\n",
       "    <tr>\n",
       "      <th>0</th>\n",
       "      <td>Cebel6</td>\n",
       "      <td>@NWAJimmy I've read it now though brother. Was pretty spot on Lots of bright spots but a lot to work on. Exactly as an exhibition should be!</td>\n",
       "    </tr>\n",
       "    <tr>\n",
       "      <th>1</th>\n",
       "      <td>Cookiemuffen</td>\n",
       "      <td>RT @wikileaks: New poll puts Pirate Party on course to win Iceland's national elections on Saturday. https://t.co/edTqjeJaQ6</td>\n",
       "    </tr>\n",
       "    <tr>\n",
       "      <th>2</th>\n",
       "      <td>nolaguy_phd</td>\n",
       "      <td>@gaystoner821 I think New Orleans spoiled me with food. I need to try and branch out in BR.</td>\n",
       "    </tr>\n",
       "    <tr>\n",
       "      <th>3</th>\n",
       "      <td>marksnark</td>\n",
       "      <td>RT @LOLGOP: ACA needs fixes but know da facts:  *70% can get covered in marketplaces for under $75/month  *Hikes affect 3% *GOP will uninsu</td>\n",
       "    </tr>\n",
       "    <tr>\n",
       "      <th>4</th>\n",
       "      <td>aaronjhoddinott</td>\n",
       "      <td>RT @FastCompany: Alphabet shares soar on better-than-expected earnings as mobile video strategy pays off https://t.co/bokbXngMJt https://t.</td>\n",
       "    </tr>\n",
       "    <tr>\n",
       "      <th>5</th>\n",
       "      <td>BigPapiCarnivor</td>\n",
       "      <td>RT @Pattric: That one follower who tweet you everyday and even tho you don't respond they still be @'ing you https://t.co/QBeQyc2PO6</td>\n",
       "    </tr>\n",
       "    <tr>\n",
       "      <th>6</th>\n",
       "      <td>davidjwalling</td>\n",
       "      <td>#infosec #Intel #ACM #IEEE  Impacts Haswell microarch. Paper proposes mitigations that could prevent BTB-based side https://t.co/DW6vgRAPrv</td>\n",
       "    </tr>\n",
       "    <tr>\n",
       "      <th>7</th>\n",
       "      <td>robert2266</td>\n",
       "      <td>Hacked e-mails show Clinton campaigns fears about Sanders | https://t.co/WMyCHuCDIc   The Philippine Star (PhilippineStar) October 28, 2</td>\n",
       "    </tr>\n",
       "    <tr>\n",
       "      <th>8</th>\n",
       "      <td>Brianna__Loves</td>\n",
       "      <td>RT @africaarguments: This year's seen some remarkable new films by African directors. Here are a few of them.  https://t.co/9JEY4ubGVE http</td>\n",
       "    </tr>\n",
       "    <tr>\n",
       "      <th>9</th>\n",
       "      <td>PTicks</td>\n",
       "      <td>RT @HalifaxEditor: Some 40 years later, @HfxRegPolice continue to investigate the murder of Florence Ann Keeble. https://t.co/axdvA1HUcu ht</td>\n",
       "    </tr>\n",
       "  </tbody>\n",
       "</table>\n",
       "</div>"
      ],
      "text/plain": [
       "       screen_name  \\\n",
       "0  Cebel6            \n",
       "1  Cookiemuffen      \n",
       "2  nolaguy_phd       \n",
       "3  marksnark         \n",
       "4  aaronjhoddinott   \n",
       "5  BigPapiCarnivor   \n",
       "6  davidjwalling     \n",
       "7  robert2266        \n",
       "8  Brianna__Loves    \n",
       "9  PTicks            \n",
       "\n",
       "                                                                                                                                           text  \n",
       "0  @NWAJimmy I've read it now though brother. Was pretty spot on Lots of bright spots but a lot to work on. Exactly as an exhibition should be!  \n",
       "1  RT @wikileaks: New poll puts Pirate Party on course to win Iceland's national elections on Saturday. https://t.co/edTqjeJaQ6                  \n",
       "2  @gaystoner821 I think New Orleans spoiled me with food. I need to try and branch out in BR.                                                   \n",
       "3  RT @LOLGOP: ACA needs fixes but know da facts:  *70% can get covered in marketplaces for under $75/month  *Hikes affect 3% *GOP will uninsu   \n",
       "4  RT @FastCompany: Alphabet shares soar on better-than-expected earnings as mobile video strategy pays off https://t.co/bokbXngMJt https://t.   \n",
       "5  RT @Pattric: That one follower who tweet you everyday and even tho you don't respond they still be @'ing you https://t.co/QBeQyc2PO6          \n",
       "6  #infosec #Intel #ACM #IEEE  Impacts Haswell microarch. Paper proposes mitigations that could prevent BTB-based side https://t.co/DW6vgRAPrv   \n",
       "7  Hacked e-mails show Clinton campaigns fears about Sanders | https://t.co/WMyCHuCDIc   The Philippine Star (PhilippineStar) October 28, 2      \n",
       "8  RT @africaarguments: This year's seen some remarkable new films by African directors. Here are a few of them.  https://t.co/9JEY4ubGVE http   \n",
       "9  RT @HalifaxEditor: Some 40 years later, @HfxRegPolice continue to investigate the murder of Florence Ann Keeble. https://t.co/axdvA1HUcu ht   "
      ]
     },
     "execution_count": 6,
     "metadata": {},
     "output_type": "execute_result"
    }
   ],
   "source": [
    "tweets.head(n=10)"
   ]
  },
  {
   "cell_type": "code",
   "execution_count": 7,
   "metadata": {
    "scrolled": true
   },
   "outputs": [],
   "source": [
    "pattern = r'^RT\\s'\n",
    " \n",
    "# matches retweets and removes them\n",
    "tweets = tweets[tweets.text.str.match(pattern) == False]"
   ]
  },
  {
   "cell_type": "code",
   "execution_count": 8,
   "metadata": {
    "scrolled": true
   },
   "outputs": [
    {
     "data": {
      "text/plain": [
       "(2416818, 2)"
      ]
     },
     "execution_count": 8,
     "metadata": {},
     "output_type": "execute_result"
    }
   ],
   "source": [
    "tweets.shape"
   ]
  },
  {
   "cell_type": "code",
   "execution_count": 9,
   "metadata": {},
   "outputs": [
    {
     "data": {
      "text/html": [
       "<div>\n",
       "<style scoped>\n",
       "    .dataframe tbody tr th:only-of-type {\n",
       "        vertical-align: middle;\n",
       "    }\n",
       "\n",
       "    .dataframe tbody tr th {\n",
       "        vertical-align: top;\n",
       "    }\n",
       "\n",
       "    .dataframe thead th {\n",
       "        text-align: right;\n",
       "    }\n",
       "</style>\n",
       "<table border=\"1\" class=\"dataframe\">\n",
       "  <thead>\n",
       "    <tr style=\"text-align: right;\">\n",
       "      <th></th>\n",
       "      <th>screen_name</th>\n",
       "      <th>text</th>\n",
       "    </tr>\n",
       "  </thead>\n",
       "  <tbody>\n",
       "    <tr>\n",
       "      <th>0</th>\n",
       "      <td>Cebel6</td>\n",
       "      <td>@NWAJimmy I've read it now though brother. Was pretty spot on Lots of bright spots but a lot to work on. Exactly as an exhibition should be!</td>\n",
       "    </tr>\n",
       "    <tr>\n",
       "      <th>2</th>\n",
       "      <td>nolaguy_phd</td>\n",
       "      <td>@gaystoner821 I think New Orleans spoiled me with food. I need to try and branch out in BR.</td>\n",
       "    </tr>\n",
       "    <tr>\n",
       "      <th>6</th>\n",
       "      <td>davidjwalling</td>\n",
       "      <td>#infosec #Intel #ACM #IEEE  Impacts Haswell microarch. Paper proposes mitigations that could prevent BTB-based side https://t.co/DW6vgRAPrv</td>\n",
       "    </tr>\n",
       "    <tr>\n",
       "      <th>7</th>\n",
       "      <td>robert2266</td>\n",
       "      <td>Hacked e-mails show Clinton campaigns fears about Sanders | https://t.co/WMyCHuCDIc   The Philippine Star (PhilippineStar) October 28, 2</td>\n",
       "    </tr>\n",
       "    <tr>\n",
       "      <th>10</th>\n",
       "      <td>neddyo</td>\n",
       "      <td>Hulk smash!</td>\n",
       "    </tr>\n",
       "    <tr>\n",
       "      <th>12</th>\n",
       "      <td>twentythreeofme</td>\n",
       "      <td>Well, I'm glad you got a good haircut, America's in the toilet. Is this not a conversation @Haylie_Bre and I woul https://t.co/6dVIIKZcgv</td>\n",
       "    </tr>\n",
       "    <tr>\n",
       "      <th>13</th>\n",
       "      <td>CaptainNormal</td>\n",
       "      <td>@WayneDupreeShow #climatechange is the democrats' attempt to play God</td>\n",
       "    </tr>\n",
       "    <tr>\n",
       "      <th>18</th>\n",
       "      <td>matthewcbarnard</td>\n",
       "      <td>OH MY GOD. TEARS. https://t.co/8odjnHZwRK</td>\n",
       "    </tr>\n",
       "    <tr>\n",
       "      <th>20</th>\n",
       "      <td>_Poochivicious</td>\n",
       "      <td>no lie, I been waiting for tony's story https://t.co/S5i4ESNilb</td>\n",
       "    </tr>\n",
       "    <tr>\n",
       "      <th>21</th>\n",
       "      <td>valukind</td>\n",
       "      <td>How a dot-com millionaire became a social media crusader against solar amendment: It was a violation of Googl... https://t.co/ychypPZpKd</td>\n",
       "    </tr>\n",
       "  </tbody>\n",
       "</table>\n",
       "</div>"
      ],
      "text/plain": [
       "        screen_name  \\\n",
       "0   Cebel6            \n",
       "2   nolaguy_phd       \n",
       "6   davidjwalling     \n",
       "7   robert2266        \n",
       "10  neddyo            \n",
       "12  twentythreeofme   \n",
       "13  CaptainNormal     \n",
       "18  matthewcbarnard   \n",
       "20  _Poochivicious    \n",
       "21  valukind          \n",
       "\n",
       "                                                                                                                                            text  \n",
       "0   @NWAJimmy I've read it now though brother. Was pretty spot on Lots of bright spots but a lot to work on. Exactly as an exhibition should be!  \n",
       "2   @gaystoner821 I think New Orleans spoiled me with food. I need to try and branch out in BR.                                                   \n",
       "6   #infosec #Intel #ACM #IEEE  Impacts Haswell microarch. Paper proposes mitigations that could prevent BTB-based side https://t.co/DW6vgRAPrv   \n",
       "7   Hacked e-mails show Clinton campaigns fears about Sanders | https://t.co/WMyCHuCDIc   The Philippine Star (PhilippineStar) October 28, 2      \n",
       "10  Hulk smash!                                                                                                                                   \n",
       "12  Well, I'm glad you got a good haircut, America's in the toilet. Is this not a conversation @Haylie_Bre and I woul https://t.co/6dVIIKZcgv     \n",
       "13  @WayneDupreeShow #climatechange is the democrats' attempt to play God                                                                         \n",
       "18  OH MY GOD. TEARS. https://t.co/8odjnHZwRK                                                                                                     \n",
       "20  no lie, I been waiting for tony's story https://t.co/S5i4ESNilb                                                                               \n",
       "21  How a dot-com millionaire became a social media crusader against solar amendment: It was a violation of Googl... https://t.co/ychypPZpKd      "
      ]
     },
     "execution_count": 9,
     "metadata": {},
     "output_type": "execute_result"
    }
   ],
   "source": [
    "tweets.head(n=10)"
   ]
  },
  {
   "cell_type": "code",
   "execution_count": 10,
   "metadata": {
    "scrolled": false
   },
   "outputs": [],
   "source": [
    "# match all hashtags and mentions in a tweet, ignoring possible email addresses\n",
    "pattern = r'(?<=^|(?<=[^a-zA-Z0-9-\\.]))@([A-Za-z_]+[A-Za-z0-9_]+)|(?<=^|(?<=[^a-zA-Z0-9-\\.]))#([A-Za-z_]+[A-Za-z0-9_]+)'\n",
    "\n",
    "\"\"\" returns a DataFrame with a MultiIndex:\n",
    "    First index is our original index. Second index is \"match\" which is a running\n",
    "    total of the number of occurences of hashtags and mentions for a particular \n",
    "    tweet. \"\"\"\n",
    "handles_hashtags = tweets.text.str.extractall(pattern)"
   ]
  },
  {
   "cell_type": "code",
   "execution_count": 11,
   "metadata": {
    "scrolled": true
   },
   "outputs": [],
   "source": [
    "''' Turn the MultiIndex Dataframe into a regular single index with \n",
    "    same index from training data. This is now our basket of tweets\n",
    "    containing atleast one mention or hastag '''\n",
    "handles_hashtags.columns = ['handles', 'hashtags']\n",
    "handles_hashtags = handles_hashtags.reset_index().set_index('level_0')\n",
    "del handles_hashtags.index.name\n",
    "handles_hashtags.drop(['match'], axis=1, inplace=True)"
   ]
  },
  {
   "cell_type": "code",
   "execution_count": 12,
   "metadata": {},
   "outputs": [
    {
     "data": {
      "text/html": [
       "<div>\n",
       "<style scoped>\n",
       "    .dataframe tbody tr th:only-of-type {\n",
       "        vertical-align: middle;\n",
       "    }\n",
       "\n",
       "    .dataframe tbody tr th {\n",
       "        vertical-align: top;\n",
       "    }\n",
       "\n",
       "    .dataframe thead th {\n",
       "        text-align: right;\n",
       "    }\n",
       "</style>\n",
       "<table border=\"1\" class=\"dataframe\">\n",
       "  <thead>\n",
       "    <tr style=\"text-align: right;\">\n",
       "      <th></th>\n",
       "      <th>handles</th>\n",
       "      <th>hashtags</th>\n",
       "    </tr>\n",
       "  </thead>\n",
       "  <tbody>\n",
       "    <tr>\n",
       "      <th>0</th>\n",
       "      <td>NWAJimmy</td>\n",
       "      <td>NaN</td>\n",
       "    </tr>\n",
       "    <tr>\n",
       "      <th>2</th>\n",
       "      <td>gaystoner821</td>\n",
       "      <td>NaN</td>\n",
       "    </tr>\n",
       "    <tr>\n",
       "      <th>6</th>\n",
       "      <td>NaN</td>\n",
       "      <td>infosec</td>\n",
       "    </tr>\n",
       "    <tr>\n",
       "      <th>6</th>\n",
       "      <td>NaN</td>\n",
       "      <td>Intel</td>\n",
       "    </tr>\n",
       "    <tr>\n",
       "      <th>6</th>\n",
       "      <td>NaN</td>\n",
       "      <td>ACM</td>\n",
       "    </tr>\n",
       "    <tr>\n",
       "      <th>6</th>\n",
       "      <td>NaN</td>\n",
       "      <td>IEEE</td>\n",
       "    </tr>\n",
       "    <tr>\n",
       "      <th>12</th>\n",
       "      <td>Haylie_Bre</td>\n",
       "      <td>NaN</td>\n",
       "    </tr>\n",
       "    <tr>\n",
       "      <th>13</th>\n",
       "      <td>WayneDupreeShow</td>\n",
       "      <td>NaN</td>\n",
       "    </tr>\n",
       "    <tr>\n",
       "      <th>13</th>\n",
       "      <td>NaN</td>\n",
       "      <td>climatechange</td>\n",
       "    </tr>\n",
       "    <tr>\n",
       "      <th>22</th>\n",
       "      <td>tansleyemiley69</td>\n",
       "      <td>NaN</td>\n",
       "    </tr>\n",
       "  </tbody>\n",
       "</table>\n",
       "</div>"
      ],
      "text/plain": [
       "            handles       hashtags\n",
       "0   NWAJimmy         NaN          \n",
       "2   gaystoner821     NaN          \n",
       "6   NaN              infosec      \n",
       "6   NaN              Intel        \n",
       "6   NaN              ACM          \n",
       "6   NaN              IEEE         \n",
       "12  Haylie_Bre       NaN          \n",
       "13  WayneDupreeShow  NaN          \n",
       "13  NaN              climatechange\n",
       "22  tansleyemiley69  NaN          "
      ]
     },
     "execution_count": 12,
     "metadata": {},
     "output_type": "execute_result"
    }
   ],
   "source": [
    "handles_hashtags.head(n=10)"
   ]
  },
  {
   "cell_type": "code",
   "execution_count": 13,
   "metadata": {},
   "outputs": [],
   "source": [
    "# combine handles and hashtags into one column\n",
    "handles_hashtags = pd.concat([handles_hashtags.handles, handles_hashtags.hashtags]).dropna().to_frame(name='handles_hashtags')"
   ]
  },
  {
   "cell_type": "code",
   "execution_count": 14,
   "metadata": {},
   "outputs": [],
   "source": [
    "''' returns users along with all the hashtags/handles they've used \n",
    "    (each occurrence of a hashtag/handle will also show up in the list) '''\n",
    "tweets = tweets.join(handles_hashtags, how='inner')\n",
    "tweets.drop(['text'], axis=1, inplace=True)\n",
    "handles_hashtags_all = tweets.reset_index().groupby('screen_name')['handles_hashtags'].apply(list).to_frame()"
   ]
  },
  {
   "cell_type": "code",
   "execution_count": 15,
   "metadata": {},
   "outputs": [
    {
     "data": {
      "text/html": [
       "<div>\n",
       "<style scoped>\n",
       "    .dataframe tbody tr th:only-of-type {\n",
       "        vertical-align: middle;\n",
       "    }\n",
       "\n",
       "    .dataframe tbody tr th {\n",
       "        vertical-align: top;\n",
       "    }\n",
       "\n",
       "    .dataframe thead th {\n",
       "        text-align: right;\n",
       "    }\n",
       "</style>\n",
       "<table border=\"1\" class=\"dataframe\">\n",
       "  <thead>\n",
       "    <tr style=\"text-align: right;\">\n",
       "      <th></th>\n",
       "      <th>handles_hashtags</th>\n",
       "    </tr>\n",
       "    <tr>\n",
       "      <th>screen_name</th>\n",
       "      <th></th>\n",
       "    </tr>\n",
       "  </thead>\n",
       "  <tbody>\n",
       "    <tr>\n",
       "      <th>000becky000</th>\n",
       "      <td>[annaafletcher]</td>\n",
       "    </tr>\n",
       "    <tr>\n",
       "      <th>001_sandhu</th>\n",
       "      <td>[RannvijaySingha]</td>\n",
       "    </tr>\n",
       "    <tr>\n",
       "      <th>001comedian</th>\n",
       "      <td>[Mahasidi, tim_oballa, HassanAliJoho, Amicos, UhurutoCorruptionTrain, Mahasidi, AIRTEL_KE, DeportBobCollymore, HassanAliJoho, Mahasidi, viviankenya, GainWithXtianDela, Mahasidi, GainWithVerifiedCofek, shipetamathias, GainWithVerifiedCofek, UhurutoCorruptionTrain, MaskiniMilionea, AJENews, IWantAPhoneThatCan, UhurutoCorruptionTrain, GainWithVerifiedCofek, GainWithYahBoiSelfie, IWantAPhoneThatCan, njooro, Mahasidi, Fisi, JailAwaitsYou, GainWithVerifiedCofek, paulkiarie001, ngathokaranja, AJEnglish, SonkoTheDrunk, ngathokaranja, AJEnglish, SafaricomLtd, DeportBobCollymore, IWantAPhoneThatCan]</td>\n",
       "    </tr>\n",
       "    <tr>\n",
       "      <th>001nicola</th>\n",
       "      <td>[XFactor, lifegoals]</td>\n",
       "    </tr>\n",
       "    <tr>\n",
       "      <th>006mariee</th>\n",
       "      <td>[taeccool]</td>\n",
       "    </tr>\n",
       "    <tr>\n",
       "      <th>006what</th>\n",
       "      <td>[clownshoesbeer, photo, shipyardbrewing, photo, NoLabelBrewCo, photo, TallgrassBeer, photo, rogueales, photo, saintarnold, untappd, untappd, trickorbrew]</td>\n",
       "    </tr>\n",
       "    <tr>\n",
       "      <th>007Hanni</th>\n",
       "      <td>[Jaguars]</td>\n",
       "    </tr>\n",
       "    <tr>\n",
       "      <th>007_Charleen</th>\n",
       "      <td>[OnlyInBOS, DunkinDonuts, kelleratlarge]</td>\n",
       "    </tr>\n",
       "    <tr>\n",
       "      <th>007_Digg</th>\n",
       "      <td>[SenSanders, ThinkerSingher, BernieSanders, alreadycashedclintoncheck]</td>\n",
       "    </tr>\n",
       "    <tr>\n",
       "      <th>007bfeleke</th>\n",
       "      <td>[RealSkipBayless, undisputed]</td>\n",
       "    </tr>\n",
       "  </tbody>\n",
       "</table>\n",
       "</div>"
      ],
      "text/plain": [
       "                                                                                                                                                                                                                                                                                                                                                                                                                                                                                                                                                                                                                  handles_hashtags\n",
       "screen_name                                                                                                                                                                                                                                                                                                                                                                                                                                                                                                                                                                                                                       \n",
       "000becky000   [annaafletcher]                                                                                                                                                                                                                                                                                                                                                                                                                                                                                                                                                                                                     \n",
       "001_sandhu    [RannvijaySingha]                                                                                                                                                                                                                                                                                                                                                                                                                                                                                                                                                                                                   \n",
       "001comedian   [Mahasidi, tim_oballa, HassanAliJoho, Amicos, UhurutoCorruptionTrain, Mahasidi, AIRTEL_KE, DeportBobCollymore, HassanAliJoho, Mahasidi, viviankenya, GainWithXtianDela, Mahasidi, GainWithVerifiedCofek, shipetamathias, GainWithVerifiedCofek, UhurutoCorruptionTrain, MaskiniMilionea, AJENews, IWantAPhoneThatCan, UhurutoCorruptionTrain, GainWithVerifiedCofek, GainWithYahBoiSelfie, IWantAPhoneThatCan, njooro, Mahasidi, Fisi, JailAwaitsYou, GainWithVerifiedCofek, paulkiarie001, ngathokaranja, AJEnglish, SonkoTheDrunk, ngathokaranja, AJEnglish, SafaricomLtd, DeportBobCollymore, IWantAPhoneThatCan]\n",
       "001nicola     [XFactor, lifegoals]                                                                                                                                                                                                                                                                                                                                                                                                                                                                                                                                                                                                \n",
       "006mariee     [taeccool]                                                                                                                                                                                                                                                                                                                                                                                                                                                                                                                                                                                                          \n",
       "006what       [clownshoesbeer, photo, shipyardbrewing, photo, NoLabelBrewCo, photo, TallgrassBeer, photo, rogueales, photo, saintarnold, untappd, untappd, trickorbrew]                                                                                                                                                                                                                                                                                                                                                                                                                                                           \n",
       "007Hanni      [Jaguars]                                                                                                                                                                                                                                                                                                                                                                                                                                                                                                                                                                                                           \n",
       "007_Charleen  [OnlyInBOS, DunkinDonuts, kelleratlarge]                                                                                                                                                                                                                                                                                                                                                                                                                                                                                                                                                                            \n",
       "007_Digg      [SenSanders, ThinkerSingher, BernieSanders, alreadycashedclintoncheck]                                                                                                                                                                                                                                                                                                                                                                                                                                                                                                                                              \n",
       "007bfeleke    [RealSkipBayless, undisputed]                                                                                                                                                                                                                                                                                                                                                                                                                                                                                                                                                                                       "
      ]
     },
     "execution_count": 15,
     "metadata": {},
     "output_type": "execute_result"
    }
   ],
   "source": [
    "handles_hashtags_all.head(n=10)"
   ]
  },
  {
   "cell_type": "code",
   "execution_count": 16,
   "metadata": {},
   "outputs": [],
   "source": [
    "# returns users along with only the distinct hashtags/handles they've used\n",
    "handles_hashtags_distinct = tweets.reset_index().groupby('screen_name')['handles_hashtags'].unique().to_frame()"
   ]
  },
  {
   "cell_type": "code",
   "execution_count": 17,
   "metadata": {},
   "outputs": [
    {
     "data": {
      "text/html": [
       "<div>\n",
       "<style scoped>\n",
       "    .dataframe tbody tr th:only-of-type {\n",
       "        vertical-align: middle;\n",
       "    }\n",
       "\n",
       "    .dataframe tbody tr th {\n",
       "        vertical-align: top;\n",
       "    }\n",
       "\n",
       "    .dataframe thead th {\n",
       "        text-align: right;\n",
       "    }\n",
       "</style>\n",
       "<table border=\"1\" class=\"dataframe\">\n",
       "  <thead>\n",
       "    <tr style=\"text-align: right;\">\n",
       "      <th></th>\n",
       "      <th>handles_hashtags</th>\n",
       "    </tr>\n",
       "    <tr>\n",
       "      <th>screen_name</th>\n",
       "      <th></th>\n",
       "    </tr>\n",
       "  </thead>\n",
       "  <tbody>\n",
       "    <tr>\n",
       "      <th>000becky000</th>\n",
       "      <td>[annaafletcher]</td>\n",
       "    </tr>\n",
       "    <tr>\n",
       "      <th>001_sandhu</th>\n",
       "      <td>[RannvijaySingha]</td>\n",
       "    </tr>\n",
       "    <tr>\n",
       "      <th>001comedian</th>\n",
       "      <td>[Mahasidi, tim_oballa, HassanAliJoho, Amicos, UhurutoCorruptionTrain, AIRTEL_KE, DeportBobCollymore, viviankenya, GainWithXtianDela, GainWithVerifiedCofek, shipetamathias, MaskiniMilionea, AJENews, IWantAPhoneThatCan, GainWithYahBoiSelfie, njooro, Fisi, JailAwaitsYou, paulkiarie001, ngathokaranja, AJEnglish, SonkoTheDrunk, SafaricomLtd]</td>\n",
       "    </tr>\n",
       "    <tr>\n",
       "      <th>001nicola</th>\n",
       "      <td>[XFactor, lifegoals]</td>\n",
       "    </tr>\n",
       "    <tr>\n",
       "      <th>006mariee</th>\n",
       "      <td>[taeccool]</td>\n",
       "    </tr>\n",
       "    <tr>\n",
       "      <th>006what</th>\n",
       "      <td>[clownshoesbeer, photo, shipyardbrewing, NoLabelBrewCo, TallgrassBeer, rogueales, saintarnold, untappd, trickorbrew]</td>\n",
       "    </tr>\n",
       "    <tr>\n",
       "      <th>007Hanni</th>\n",
       "      <td>[Jaguars]</td>\n",
       "    </tr>\n",
       "    <tr>\n",
       "      <th>007_Charleen</th>\n",
       "      <td>[OnlyInBOS, DunkinDonuts, kelleratlarge]</td>\n",
       "    </tr>\n",
       "    <tr>\n",
       "      <th>007_Digg</th>\n",
       "      <td>[SenSanders, ThinkerSingher, BernieSanders, alreadycashedclintoncheck]</td>\n",
       "    </tr>\n",
       "    <tr>\n",
       "      <th>007bfeleke</th>\n",
       "      <td>[RealSkipBayless, undisputed]</td>\n",
       "    </tr>\n",
       "  </tbody>\n",
       "</table>\n",
       "</div>"
      ],
      "text/plain": [
       "                                                                                                                                                                                                                                                                                                                                                handles_hashtags\n",
       "screen_name                                                                                                                                                                                                                                                                                                                                                     \n",
       "000becky000   [annaafletcher]                                                                                                                                                                                                                                                                                                                                   \n",
       "001_sandhu    [RannvijaySingha]                                                                                                                                                                                                                                                                                                                                 \n",
       "001comedian   [Mahasidi, tim_oballa, HassanAliJoho, Amicos, UhurutoCorruptionTrain, AIRTEL_KE, DeportBobCollymore, viviankenya, GainWithXtianDela, GainWithVerifiedCofek, shipetamathias, MaskiniMilionea, AJENews, IWantAPhoneThatCan, GainWithYahBoiSelfie, njooro, Fisi, JailAwaitsYou, paulkiarie001, ngathokaranja, AJEnglish, SonkoTheDrunk, SafaricomLtd]\n",
       "001nicola     [XFactor, lifegoals]                                                                                                                                                                                                                                                                                                                              \n",
       "006mariee     [taeccool]                                                                                                                                                                                                                                                                                                                                        \n",
       "006what       [clownshoesbeer, photo, shipyardbrewing, NoLabelBrewCo, TallgrassBeer, rogueales, saintarnold, untappd, trickorbrew]                                                                                                                                                                                                                              \n",
       "007Hanni      [Jaguars]                                                                                                                                                                                                                                                                                                                                         \n",
       "007_Charleen  [OnlyInBOS, DunkinDonuts, kelleratlarge]                                                                                                                                                                                                                                                                                                          \n",
       "007_Digg      [SenSanders, ThinkerSingher, BernieSanders, alreadycashedclintoncheck]                                                                                                                                                                                                                                                                            \n",
       "007bfeleke    [RealSkipBayless, undisputed]                                                                                                                                                                                                                                                                                                                     "
      ]
     },
     "execution_count": 17,
     "metadata": {},
     "output_type": "execute_result"
    }
   ],
   "source": [
    "handles_hashtags_distinct.head(n=10)"
   ]
  },
  {
   "cell_type": "code",
   "execution_count": 18,
   "metadata": {},
   "outputs": [],
   "source": [
    "# returns only active users that have used 20 or more distinct hashtags/handles\n",
    "users_active = handles_hashtags_distinct[handles_hashtags_distinct.handles_hashtags.str.len() > 19]"
   ]
  },
  {
   "cell_type": "code",
   "execution_count": 19,
   "metadata": {
    "scrolled": true
   },
   "outputs": [
    {
     "data": {
      "text/html": [
       "<div>\n",
       "<style scoped>\n",
       "    .dataframe tbody tr th:only-of-type {\n",
       "        vertical-align: middle;\n",
       "    }\n",
       "\n",
       "    .dataframe tbody tr th {\n",
       "        vertical-align: top;\n",
       "    }\n",
       "\n",
       "    .dataframe thead th {\n",
       "        text-align: right;\n",
       "    }\n",
       "</style>\n",
       "<table border=\"1\" class=\"dataframe\">\n",
       "  <thead>\n",
       "    <tr style=\"text-align: right;\">\n",
       "      <th></th>\n",
       "      <th>handles_hashtags</th>\n",
       "    </tr>\n",
       "    <tr>\n",
       "      <th>screen_name</th>\n",
       "      <th></th>\n",
       "    </tr>\n",
       "  </thead>\n",
       "  <tbody>\n",
       "    <tr>\n",
       "      <th>001comedian</th>\n",
       "      <td>[Mahasidi, tim_oballa, HassanAliJoho, Amicos, UhurutoCorruptionTrain, AIRTEL_KE, DeportBobCollymore, viviankenya, GainWithXtianDela, GainWithVerifiedCofek, shipetamathias, MaskiniMilionea, AJENews, IWantAPhoneThatCan, GainWithYahBoiSelfie, njooro, Fisi, JailAwaitsYou, paulkiarie001, ngathokaranja, AJEnglish, SonkoTheDrunk, SafaricomLtd]</td>\n",
       "    </tr>\n",
       "    <tr>\n",
       "      <th>007darB</th>\n",
       "      <td>[Colossis2, dllynnnnn, amyschumer, twitter, LauraJSilverman, FLOTUS, JaclynGlenn, GMA, YouTube, NRO, SarahKSilverman, Forbes, LeslieMarshall, JtMobleyFla, bawesome84, SouthwestAir, KABCRadio, KennedyNation, HillaryClinton, FullFrontalSamB, greggutfeld, DanScavino, realDonaldTrump, jonathanadler, DamienHirst, HuffingtonPost, JoeNBC, tl1golf, SmaldinoLou, DebTate, Mikefa123, Jenn_Abrams, JaredWyand, moisemorancy, rjjulia, debra_tate9, VP, Shaddai289, iFunny, ABC, tyleroakley, KevinJacksonTBS, alfranken, megynkelly, newtgingrich]</td>\n",
       "    </tr>\n",
       "    <tr>\n",
       "      <th>0101limey0101</th>\n",
       "      <td>[wikileaks, bearkilgore, hiphop247, BowieHutcheson, TCDwriter, hiphop247help, FoxNews, infowars, Project_Veritas, nia4_trump, bfraser747, JCArgentum, PodestaEmails18, Teri423, TrumpMartel, MichaelCohen212, realamerican, LenaMessick, medellinemil, Pamela_Moore13, newtgingrich, realDonaldTrump, kcphaeton, AussiesInTheUSA, dailyexpressuk, VictorB123, MattsonTina, mynameislauraca, seanhannity, PiratePigeon, OliMauritania, WDFx2EU7, Morning_Joe, JoeNBC, peterschweizer, rudygiulianiGOP, peterdukephoto, JaredWyand, AmericanSoWoke, bakedalaska, JoshLeCash, RealJamesWoods]</td>\n",
       "    </tr>\n",
       "    <tr>\n",
       "      <th>01801icecream</th>\n",
       "      <td>[Cronikeys, ScottAdamsSays, gfallar, KimDotcom, thomasonphx, JudgeJeanine, DonaldJTrumpJr, WSJ, JakobWakuzi, geoffkeene, jasoninthehouse, christe4, Snowden, Jeff__Yang, realDonaldTrump, jamescoleman07, HunterHRC2016, S0N0FDAD, DannyKean, SebastianCONFOR, dj74hutch, SandyHermannJ, alishabae69, CassandraRules, MMFlint, HumaAbedin, aaaaaaaaaaaronn, politiclover1, DK_Dynamite86, PpollingNumbers, NateSilver538, Alice_ShouHiro, MarkHarrisNYC, ShirlsAdams, ddiddy171, AmericanVet3, Phaltron, Jupiter13FD, therealmomofoc, ObamaMalik, HillaryClinton, Dr_Memory, wikileaks, DrJillStein, karlfrankjr, PPact, auto_alliance, ESAGovAffairs, ShanChan_37, irin, FabFreakaNature, thehawk1619, ChuckxJ, MacandGaydos, lipsyncney, shotsfiredxiv, JJJohansen_jr, IsabellaMDavid, sjaeldenSander, docmks, carlabond, RobPulseNews, TilleyEsquire, victorpage2, TerryOswald1, NeilTurner_, jsulaica1, justinsumtrubul, oringordon]</td>\n",
       "    </tr>\n",
       "    <tr>\n",
       "      <th>0269Andy</th>\n",
       "      <td>[choochoo, sadmanonatrain, Accorhotels, networkrailbri, wshed, GWRUK, idanielblake, KenLoachSixteen, Number10gov, PostOffice, GWRHelp, exeterfire, picturehouses, Greg0wen, GWRUKhelp, nationalrailenq, networkrailBRI, spotthetourist, StarbucksUk, kelwaysplants]</td>\n",
       "    </tr>\n",
       "    <tr>\n",
       "      <th>08awright</th>\n",
       "      <td>[discodescartes, ww3, Telegraph, LBC, AmberRudd_MP, YouTube, globesk3ptic, Independent, WWF, RoyalFamily, Queen_UK, ExtremeTech, SkyNews, ISupport_Israel, generationsnowflake, sjw, guardian, Reuters, h3h3productions, Illuminati_Inc]</td>\n",
       "    </tr>\n",
       "    <tr>\n",
       "      <th>0UlJA</th>\n",
       "      <td>[piercespears, CupcakKe_rapper, GagaCarpool, BebeRexha, Jenna_Marbles, welpchantal, BANANAB1TCH, HillaryClinton, TANAMONGEAU, IISuperwomanII, ColleenB123, LIVECOLLEENCONCERT, YouTube, ladygaga, JKCorden, latelateshow, Caito_Potatoe, gagavsbbrownie, INTHEBRITZ0NE, musicnews_facts, Madonna, KekePalmer, ravensymone, TheView, ThePerezHilton, michaelbuble, IGOTYOU]</td>\n",
       "    </tr>\n",
       "    <tr>\n",
       "      <th>0ckam</th>\n",
       "      <td>[Comey, BlueWave, jbarro, DWiddershins, nytdavidbrooks, MSNBC, paulwaldman1, washingtonpost, politicalwire, RalstonReports, ElectProject, JoyAnnReid, NeverTrump, TurkanaDK, KristenOrthman, samsteinhp, davidplouffe, tnyCloseRead, JohnJHarwood, HughHewitt, FLSen, FL, wikileaks, BuzzFeedNews, DeborahRossNC, BrexitHappens]</td>\n",
       "    </tr>\n",
       "    <tr>\n",
       "      <th>0ectoplasm0</th>\n",
       "      <td>[WMPolice, BCFC, AVFCOffical, m1ndspeak5truth, VICEUK, lilyallen, DogmanOW, JeremyClarkson, RobbieSavage8, harry_lemon62, BungayTownFC, FeistyAlmighty, ThisWasEngland, davidgold, footbalIfights, remain_eu, HackettTom, RufusHound, DaftLimmy, paki_dave, Traceyjayp_, Vitalyzdtv, KEEMSTAR, LiveOnW, celebhauntedhotel, GaryLineker, GaryBarlow]</td>\n",
       "    </tr>\n",
       "    <tr>\n",
       "      <th>0hioBromo</th>\n",
       "      <td>[thottybromo, TriStateGay, PSU_Gay, fanfavorite, allstars2reunited, WanderlustGay, Cameronnepini, brotherflounder, NCcitybromo, ChiBromo, ADifferentRebel, SouthernHomo, OrlandoStrong, radarlovedm, gaygineerbro, wiotter, BiSouthernGent, AllStars2Reunited, HoodieBromo, tristankurtz, adolf__hipster, chrisjohnson82, FindingPrinceCharming]</td>\n",
       "    </tr>\n",
       "  </tbody>\n",
       "</table>\n",
       "</div>"
      ],
      "text/plain": [
       "                                                                                                                                                                                                                                                                                                                                                                                                                                                                                                                                                                                                                                                                                                                                                                                                                                                                                                                                       handles_hashtags\n",
       "screen_name                                                                                                                                                                                                                                                                                                                                                                                                                                                                                                                                                                                                                                                                                                                                                                                                                                                                                                                                            \n",
       "001comedian    [Mahasidi, tim_oballa, HassanAliJoho, Amicos, UhurutoCorruptionTrain, AIRTEL_KE, DeportBobCollymore, viviankenya, GainWithXtianDela, GainWithVerifiedCofek, shipetamathias, MaskiniMilionea, AJENews, IWantAPhoneThatCan, GainWithYahBoiSelfie, njooro, Fisi, JailAwaitsYou, paulkiarie001, ngathokaranja, AJEnglish, SonkoTheDrunk, SafaricomLtd]                                                                                                                                                                                                                                                                                                                                                                                                                                                                                                                                                                                      \n",
       "007darB        [Colossis2, dllynnnnn, amyschumer, twitter, LauraJSilverman, FLOTUS, JaclynGlenn, GMA, YouTube, NRO, SarahKSilverman, Forbes, LeslieMarshall, JtMobleyFla, bawesome84, SouthwestAir, KABCRadio, KennedyNation, HillaryClinton, FullFrontalSamB, greggutfeld, DanScavino, realDonaldTrump, jonathanadler, DamienHirst, HuffingtonPost, JoeNBC, tl1golf, SmaldinoLou, DebTate, Mikefa123, Jenn_Abrams, JaredWyand, moisemorancy, rjjulia, debra_tate9, VP, Shaddai289, iFunny, ABC, tyleroakley, KevinJacksonTBS, alfranken, megynkelly, newtgingrich]                                                                                                                                                                                                                                                                                                                                                                                    \n",
       "0101limey0101  [wikileaks, bearkilgore, hiphop247, BowieHutcheson, TCDwriter, hiphop247help, FoxNews, infowars, Project_Veritas, nia4_trump, bfraser747, JCArgentum, PodestaEmails18, Teri423, TrumpMartel, MichaelCohen212, realamerican, LenaMessick, medellinemil, Pamela_Moore13, newtgingrich, realDonaldTrump, kcphaeton, AussiesInTheUSA, dailyexpressuk, VictorB123, MattsonTina, mynameislauraca, seanhannity, PiratePigeon, OliMauritania, WDFx2EU7, Morning_Joe, JoeNBC, peterschweizer, rudygiulianiGOP, peterdukephoto, JaredWyand, AmericanSoWoke, bakedalaska, JoshLeCash, RealJamesWoods]                                                                                                                                                                                                                                                                                                                                              \n",
       "01801icecream  [Cronikeys, ScottAdamsSays, gfallar, KimDotcom, thomasonphx, JudgeJeanine, DonaldJTrumpJr, WSJ, JakobWakuzi, geoffkeene, jasoninthehouse, christe4, Snowden, Jeff__Yang, realDonaldTrump, jamescoleman07, HunterHRC2016, S0N0FDAD, DannyKean, SebastianCONFOR, dj74hutch, SandyHermannJ, alishabae69, CassandraRules, MMFlint, HumaAbedin, aaaaaaaaaaaronn, politiclover1, DK_Dynamite86, PpollingNumbers, NateSilver538, Alice_ShouHiro, MarkHarrisNYC, ShirlsAdams, ddiddy171, AmericanVet3, Phaltron, Jupiter13FD, therealmomofoc, ObamaMalik, HillaryClinton, Dr_Memory, wikileaks, DrJillStein, karlfrankjr, PPact, auto_alliance, ESAGovAffairs, ShanChan_37, irin, FabFreakaNature, thehawk1619, ChuckxJ, MacandGaydos, lipsyncney, shotsfiredxiv, JJJohansen_jr, IsabellaMDavid, sjaeldenSander, docmks, carlabond, RobPulseNews, TilleyEsquire, victorpage2, TerryOswald1, NeilTurner_, jsulaica1, justinsumtrubul, oringordon]\n",
       "0269Andy       [choochoo, sadmanonatrain, Accorhotels, networkrailbri, wshed, GWRUK, idanielblake, KenLoachSixteen, Number10gov, PostOffice, GWRHelp, exeterfire, picturehouses, Greg0wen, GWRUKhelp, nationalrailenq, networkrailBRI, spotthetourist, StarbucksUk, kelwaysplants]                                                                                                                                                                                                                                                                                                                                                                                                                                                                                                                                                                                                                                                                     \n",
       "08awright      [discodescartes, ww3, Telegraph, LBC, AmberRudd_MP, YouTube, globesk3ptic, Independent, WWF, RoyalFamily, Queen_UK, ExtremeTech, SkyNews, ISupport_Israel, generationsnowflake, sjw, guardian, Reuters, h3h3productions, Illuminati_Inc]                                                                                                                                                                                                                                                                                                                                                                                                                                                                                                                                                                                                                                                                                                \n",
       "0UlJA          [piercespears, CupcakKe_rapper, GagaCarpool, BebeRexha, Jenna_Marbles, welpchantal, BANANAB1TCH, HillaryClinton, TANAMONGEAU, IISuperwomanII, ColleenB123, LIVECOLLEENCONCERT, YouTube, ladygaga, JKCorden, latelateshow, Caito_Potatoe, gagavsbbrownie, INTHEBRITZ0NE, musicnews_facts, Madonna, KekePalmer, ravensymone, TheView, ThePerezHilton, michaelbuble, IGOTYOU]                                                                                                                                                                                                                                                                                                                                                                                                                                                                                                                                                              \n",
       "0ckam          [Comey, BlueWave, jbarro, DWiddershins, nytdavidbrooks, MSNBC, paulwaldman1, washingtonpost, politicalwire, RalstonReports, ElectProject, JoyAnnReid, NeverTrump, TurkanaDK, KristenOrthman, samsteinhp, davidplouffe, tnyCloseRead, JohnJHarwood, HughHewitt, FLSen, FL, wikileaks, BuzzFeedNews, DeborahRossNC, BrexitHappens]                                                                                                                                                                                                                                                                                                                                                                                                                                                                                                                                                                                                        \n",
       "0ectoplasm0    [WMPolice, BCFC, AVFCOffical, m1ndspeak5truth, VICEUK, lilyallen, DogmanOW, JeremyClarkson, RobbieSavage8, harry_lemon62, BungayTownFC, FeistyAlmighty, ThisWasEngland, davidgold, footbalIfights, remain_eu, HackettTom, RufusHound, DaftLimmy, paki_dave, Traceyjayp_, Vitalyzdtv, KEEMSTAR, LiveOnW, celebhauntedhotel, GaryLineker, GaryBarlow]                                                                                                                                                                                                                                                                                                                                                                                                                                                                                                                                                                                     \n",
       "0hioBromo      [thottybromo, TriStateGay, PSU_Gay, fanfavorite, allstars2reunited, WanderlustGay, Cameronnepini, brotherflounder, NCcitybromo, ChiBromo, ADifferentRebel, SouthernHomo, OrlandoStrong, radarlovedm, gaygineerbro, wiotter, BiSouthernGent, AllStars2Reunited, HoodieBromo, tristankurtz, adolf__hipster, chrisjohnson82, FindingPrinceCharming]                                                                                                                                                                                                                                                                                                                                                                                                                                                                                                                                                                                        "
      ]
     },
     "execution_count": 19,
     "metadata": {},
     "output_type": "execute_result"
    }
   ],
   "source": [
    "users_active.head(n=10)"
   ]
  },
  {
   "cell_type": "code",
   "execution_count": 20,
   "metadata": {},
   "outputs": [],
   "source": [
    "users_active = users_active.join(handles_hashtags_all, lsuffix='_distinct', rsuffix='_all', how='inner')"
   ]
  },
  {
   "cell_type": "code",
   "execution_count": 21,
   "metadata": {
    "scrolled": true
   },
   "outputs": [
    {
     "data": {
      "text/html": [
       "<div>\n",
       "<style scoped>\n",
       "    .dataframe tbody tr th:only-of-type {\n",
       "        vertical-align: middle;\n",
       "    }\n",
       "\n",
       "    .dataframe tbody tr th {\n",
       "        vertical-align: top;\n",
       "    }\n",
       "\n",
       "    .dataframe thead th {\n",
       "        text-align: right;\n",
       "    }\n",
       "</style>\n",
       "<table border=\"1\" class=\"dataframe\">\n",
       "  <thead>\n",
       "    <tr style=\"text-align: right;\">\n",
       "      <th></th>\n",
       "      <th>handles_hashtags_distinct</th>\n",
       "      <th>handles_hashtags_all</th>\n",
       "    </tr>\n",
       "    <tr>\n",
       "      <th>screen_name</th>\n",
       "      <th></th>\n",
       "      <th></th>\n",
       "    </tr>\n",
       "  </thead>\n",
       "  <tbody>\n",
       "    <tr>\n",
       "      <th>001comedian</th>\n",
       "      <td>[Mahasidi, tim_oballa, HassanAliJoho, Amicos, UhurutoCorruptionTrain, AIRTEL_KE, DeportBobCollymore, viviankenya, GainWithXtianDela, GainWithVerifiedCofek, shipetamathias, MaskiniMilionea, AJENews, IWantAPhoneThatCan, GainWithYahBoiSelfie, njooro, Fisi, JailAwaitsYou, paulkiarie001, ngathokaranja, AJEnglish, SonkoTheDrunk, SafaricomLtd]</td>\n",
       "      <td>[Mahasidi, tim_oballa, HassanAliJoho, Amicos, UhurutoCorruptionTrain, Mahasidi, AIRTEL_KE, DeportBobCollymore, HassanAliJoho, Mahasidi, viviankenya, GainWithXtianDela, Mahasidi, GainWithVerifiedCofek, shipetamathias, GainWithVerifiedCofek, UhurutoCorruptionTrain, MaskiniMilionea, AJENews, IWantAPhoneThatCan, UhurutoCorruptionTrain, GainWithVerifiedCofek, GainWithYahBoiSelfie, IWantAPhoneThatCan, njooro, Mahasidi, Fisi, JailAwaitsYou, GainWithVerifiedCofek, paulkiarie001, ngathokaranja, AJEnglish, SonkoTheDrunk, ngathokaranja, AJEnglish, SafaricomLtd, DeportBobCollymore, IWantAPhoneThatCan]</td>\n",
       "    </tr>\n",
       "    <tr>\n",
       "      <th>007darB</th>\n",
       "      <td>[Colossis2, dllynnnnn, amyschumer, twitter, LauraJSilverman, FLOTUS, JaclynGlenn, GMA, YouTube, NRO, SarahKSilverman, Forbes, LeslieMarshall, JtMobleyFla, bawesome84, SouthwestAir, KABCRadio, KennedyNation, HillaryClinton, FullFrontalSamB, greggutfeld, DanScavino, realDonaldTrump, jonathanadler, DamienHirst, HuffingtonPost, JoeNBC, tl1golf, SmaldinoLou, DebTate, Mikefa123, Jenn_Abrams, JaredWyand, moisemorancy, rjjulia, debra_tate9, VP, Shaddai289, iFunny, ABC, tyleroakley, KevinJacksonTBS, alfranken, megynkelly, newtgingrich]</td>\n",
       "      <td>[Colossis2, dllynnnnn, amyschumer, twitter, LauraJSilverman, FLOTUS, JaclynGlenn, JaclynGlenn, JaclynGlenn, GMA, YouTube, NRO, SarahKSilverman, Forbes, LeslieMarshall, JtMobleyFla, bawesome84, SouthwestAir, KABCRadio, GMA, Colossis2, dllynnnnn, NRO, KennedyNation, HillaryClinton, YouTube, SouthwestAir, FullFrontalSamB, JaclynGlenn, greggutfeld, DanScavino, realDonaldTrump, jonathanadler, DamienHirst, HuffingtonPost, LeslieMarshall, realDonaldTrump, JaclynGlenn, JoeNBC, tl1golf, SmaldinoLou, DebTate, Mikefa123, Jenn_Abrams, JaredWyand, JaclynGlenn, moisemorancy, rjjulia, JaclynGlenn, debra_tate9, Mikefa123, VP, Jenn_Abrams, JaredWyand, JaclynGlenn, Jenn_Abrams, JaredWyand, NRO, NRO, Shaddai289, dllynnnnn, iFunny, Colossis2, dllynnnnn, JaclynGlenn, JaredWyand, realDonaldTrump, Jenn_Abrams, JaredWyand, NRO, ABC, JaclynGlenn, JaclynGlenn, tyleroakley, ABC, Jenn_Abrams, JaredWyand, Jenn_Abrams, JaredWyand, KevinJacksonTBS, amyschumer, Jenn_Abrams, JaredWyand, alfranken, megynkelly, newtgingrich]</td>\n",
       "    </tr>\n",
       "    <tr>\n",
       "      <th>0101limey0101</th>\n",
       "      <td>[wikileaks, bearkilgore, hiphop247, BowieHutcheson, TCDwriter, hiphop247help, FoxNews, infowars, Project_Veritas, nia4_trump, bfraser747, JCArgentum, PodestaEmails18, Teri423, TrumpMartel, MichaelCohen212, realamerican, LenaMessick, medellinemil, Pamela_Moore13, newtgingrich, realDonaldTrump, kcphaeton, AussiesInTheUSA, dailyexpressuk, VictorB123, MattsonTina, mynameislauraca, seanhannity, PiratePigeon, OliMauritania, WDFx2EU7, Morning_Joe, JoeNBC, peterschweizer, rudygiulianiGOP, peterdukephoto, JaredWyand, AmericanSoWoke, bakedalaska, JoshLeCash, RealJamesWoods]</td>\n",
       "      <td>[wikileaks, bearkilgore, hiphop247, BowieHutcheson, TCDwriter, hiphop247help, FoxNews, infowars, Project_Veritas, nia4_trump, bfraser747, JCArgentum, PodestaEmails18, Teri423, TrumpMartel, MichaelCohen212, realamerican, LenaMessick, medellinemil, Pamela_Moore13, newtgingrich, realDonaldTrump, infowars, kcphaeton, AussiesInTheUSA, infowars, dailyexpressuk, VictorB123, MattsonTina, mynameislauraca, seanhannity, BowieHutcheson, PiratePigeon, OliMauritania, WDFx2EU7, Morning_Joe, JoeNBC, peterschweizer, rudygiulianiGOP, peterdukephoto, JaredWyand, realDonaldTrump, AmericanSoWoke, bakedalaska, JoshLeCash, RealJamesWoods]</td>\n",
       "    </tr>\n",
       "    <tr>\n",
       "      <th>01801icecream</th>\n",
       "      <td>[Cronikeys, ScottAdamsSays, gfallar, KimDotcom, thomasonphx, JudgeJeanine, DonaldJTrumpJr, WSJ, JakobWakuzi, geoffkeene, jasoninthehouse, christe4, Snowden, Jeff__Yang, realDonaldTrump, jamescoleman07, HunterHRC2016, S0N0FDAD, DannyKean, SebastianCONFOR, dj74hutch, SandyHermannJ, alishabae69, CassandraRules, MMFlint, HumaAbedin, aaaaaaaaaaaronn, politiclover1, DK_Dynamite86, PpollingNumbers, NateSilver538, Alice_ShouHiro, MarkHarrisNYC, ShirlsAdams, ddiddy171, AmericanVet3, Phaltron, Jupiter13FD, therealmomofoc, ObamaMalik, HillaryClinton, Dr_Memory, wikileaks, DrJillStein, karlfrankjr, PPact, auto_alliance, ESAGovAffairs, ShanChan_37, irin, FabFreakaNature, thehawk1619, ChuckxJ, MacandGaydos, lipsyncney, shotsfiredxiv, JJJohansen_jr, IsabellaMDavid, sjaeldenSander, docmks, carlabond, RobPulseNews, TilleyEsquire, victorpage2, TerryOswald1, NeilTurner_, jsulaica1, justinsumtrubul, oringordon]</td>\n",
       "      <td>[Cronikeys, ScottAdamsSays, gfallar, KimDotcom, thomasonphx, JudgeJeanine, DonaldJTrumpJr, WSJ, JakobWakuzi, geoffkeene, jasoninthehouse, ScottAdamsSays, christe4, Snowden, Jeff__Yang, realDonaldTrump, jamescoleman07, HunterHRC2016, S0N0FDAD, DannyKean, SebastianCONFOR, dj74hutch, SandyHermannJ, alishabae69, CassandraRules, MMFlint, HumaAbedin, aaaaaaaaaaaronn, KimDotcom, politiclover1, DK_Dynamite86, PpollingNumbers, NateSilver538, politiclover1, JakobWakuzi, jamescoleman07, Alice_ShouHiro, HunterHRC2016, S0N0FDAD, MarkHarrisNYC, Snowden, ShirlsAdams, ddiddy171, AmericanVet3, ShirlsAdams, Phaltron, HunterHRC2016, Alice_ShouHiro, Jupiter13FD, therealmomofoc, gfallar, KimDotcom, JakobWakuzi, jasoninthehouse, ObamaMalik, Jupiter13FD, therealmomofoc, HillaryClinton, ScottAdamsSays, Dr_Memory, Snowden, Snowden, wikileaks, politiclover1, politiclover1, DrJillStein, MMFlint, ShirlsAdams, HunterHRC2016, ShirlsAdams, Phaltron, HunterHRC2016, Alice_ShouHiro, politiclover1, DK_Dynamite86, PpollingNumbers, NateSilver538, karlfrankjr, Snowden, PPact, ShirlsAdams, S0N0FDAD, HunterHRC2016, PpollingNumbers, auto_alliance, ESAGovAffairs, politiclover1, politiclover1, gfallar, KimDotcom, ShanChan_37, jasoninthehouse, irin, FabFreakaNature, thehawk1619, DannyKean, SebastianCONFOR, Jupiter13FD, CassandraRules, jasoninthehouse, ...]</td>\n",
       "    </tr>\n",
       "    <tr>\n",
       "      <th>0269Andy</th>\n",
       "      <td>[choochoo, sadmanonatrain, Accorhotels, networkrailbri, wshed, GWRUK, idanielblake, KenLoachSixteen, Number10gov, PostOffice, GWRHelp, exeterfire, picturehouses, Greg0wen, GWRUKhelp, nationalrailenq, networkrailBRI, spotthetourist, StarbucksUk, kelwaysplants]</td>\n",
       "      <td>[choochoo, sadmanonatrain, Accorhotels, networkrailbri, wshed, GWRUK, idanielblake, KenLoachSixteen, wshed, Number10gov, PostOffice, GWRHelp, exeterfire, wshed, picturehouses, Greg0wen, Greg0wen, GWRUKhelp, nationalrailenq, GWRUK, nationalrailenq, GWRHelp, networkrailBRI, spotthetourist, Greg0wen, StarbucksUk, kelwaysplants, Greg0wen, GWRUK]</td>\n",
       "    </tr>\n",
       "  </tbody>\n",
       "</table>\n",
       "</div>"
      ],
      "text/plain": [
       "                                                                                                                                                                                                                                                                                                                                                                                                                                                                                                                                                                                                                                                                                                                                                                                                                                                                                                                              handles_hashtags_distinct  \\\n",
       "screen_name                                                                                                                                                                                                                                                                                                                                                                                                                                                                                                                                                                                                                                                                                                                                                                                                                                                                                                                                               \n",
       "001comedian    [Mahasidi, tim_oballa, HassanAliJoho, Amicos, UhurutoCorruptionTrain, AIRTEL_KE, DeportBobCollymore, viviankenya, GainWithXtianDela, GainWithVerifiedCofek, shipetamathias, MaskiniMilionea, AJENews, IWantAPhoneThatCan, GainWithYahBoiSelfie, njooro, Fisi, JailAwaitsYou, paulkiarie001, ngathokaranja, AJEnglish, SonkoTheDrunk, SafaricomLtd]                                                                                                                                                                                                                                                                                                                                                                                                                                                                                                                                                                                         \n",
       "007darB        [Colossis2, dllynnnnn, amyschumer, twitter, LauraJSilverman, FLOTUS, JaclynGlenn, GMA, YouTube, NRO, SarahKSilverman, Forbes, LeslieMarshall, JtMobleyFla, bawesome84, SouthwestAir, KABCRadio, KennedyNation, HillaryClinton, FullFrontalSamB, greggutfeld, DanScavino, realDonaldTrump, jonathanadler, DamienHirst, HuffingtonPost, JoeNBC, tl1golf, SmaldinoLou, DebTate, Mikefa123, Jenn_Abrams, JaredWyand, moisemorancy, rjjulia, debra_tate9, VP, Shaddai289, iFunny, ABC, tyleroakley, KevinJacksonTBS, alfranken, megynkelly, newtgingrich]                                                                                                                                                                                                                                                                                                                                                                                       \n",
       "0101limey0101  [wikileaks, bearkilgore, hiphop247, BowieHutcheson, TCDwriter, hiphop247help, FoxNews, infowars, Project_Veritas, nia4_trump, bfraser747, JCArgentum, PodestaEmails18, Teri423, TrumpMartel, MichaelCohen212, realamerican, LenaMessick, medellinemil, Pamela_Moore13, newtgingrich, realDonaldTrump, kcphaeton, AussiesInTheUSA, dailyexpressuk, VictorB123, MattsonTina, mynameislauraca, seanhannity, PiratePigeon, OliMauritania, WDFx2EU7, Morning_Joe, JoeNBC, peterschweizer, rudygiulianiGOP, peterdukephoto, JaredWyand, AmericanSoWoke, bakedalaska, JoshLeCash, RealJamesWoods]                                                                                                                                                                                                                                                                                                                                                 \n",
       "01801icecream  [Cronikeys, ScottAdamsSays, gfallar, KimDotcom, thomasonphx, JudgeJeanine, DonaldJTrumpJr, WSJ, JakobWakuzi, geoffkeene, jasoninthehouse, christe4, Snowden, Jeff__Yang, realDonaldTrump, jamescoleman07, HunterHRC2016, S0N0FDAD, DannyKean, SebastianCONFOR, dj74hutch, SandyHermannJ, alishabae69, CassandraRules, MMFlint, HumaAbedin, aaaaaaaaaaaronn, politiclover1, DK_Dynamite86, PpollingNumbers, NateSilver538, Alice_ShouHiro, MarkHarrisNYC, ShirlsAdams, ddiddy171, AmericanVet3, Phaltron, Jupiter13FD, therealmomofoc, ObamaMalik, HillaryClinton, Dr_Memory, wikileaks, DrJillStein, karlfrankjr, PPact, auto_alliance, ESAGovAffairs, ShanChan_37, irin, FabFreakaNature, thehawk1619, ChuckxJ, MacandGaydos, lipsyncney, shotsfiredxiv, JJJohansen_jr, IsabellaMDavid, sjaeldenSander, docmks, carlabond, RobPulseNews, TilleyEsquire, victorpage2, TerryOswald1, NeilTurner_, jsulaica1, justinsumtrubul, oringordon]   \n",
       "0269Andy       [choochoo, sadmanonatrain, Accorhotels, networkrailbri, wshed, GWRUK, idanielblake, KenLoachSixteen, Number10gov, PostOffice, GWRHelp, exeterfire, picturehouses, Greg0wen, GWRUKhelp, nationalrailenq, networkrailBRI, spotthetourist, StarbucksUk, kelwaysplants]                                                                                                                                                                                                                                                                                                                                                                                                                                                                                                                                                                                                                                                                        \n",
       "\n",
       "                                                                                                                                                                                                                                                                                                                                                                                                                                                                                                                                                                                                                                                                                                                                                                                                                                                                                                                                                                                                                                                                                                                                                                                                                                                                                                                                                                                 handles_hashtags_all  \n",
       "screen_name                                                                                                                                                                                                                                                                                                                                                                                                                                                                                                                                                                                                                                                                                                                                                                                                                                                                                                                                                                                                                                                                                                                                                                                                                                                                                                                                                                                            \n",
       "001comedian    [Mahasidi, tim_oballa, HassanAliJoho, Amicos, UhurutoCorruptionTrain, Mahasidi, AIRTEL_KE, DeportBobCollymore, HassanAliJoho, Mahasidi, viviankenya, GainWithXtianDela, Mahasidi, GainWithVerifiedCofek, shipetamathias, GainWithVerifiedCofek, UhurutoCorruptionTrain, MaskiniMilionea, AJENews, IWantAPhoneThatCan, UhurutoCorruptionTrain, GainWithVerifiedCofek, GainWithYahBoiSelfie, IWantAPhoneThatCan, njooro, Mahasidi, Fisi, JailAwaitsYou, GainWithVerifiedCofek, paulkiarie001, ngathokaranja, AJEnglish, SonkoTheDrunk, ngathokaranja, AJEnglish, SafaricomLtd, DeportBobCollymore, IWantAPhoneThatCan]                                                                                                                                                                                                                                                                                                                                                                                                                                                                                                                                                                                                                                                                                                                                                                    \n",
       "007darB        [Colossis2, dllynnnnn, amyschumer, twitter, LauraJSilverman, FLOTUS, JaclynGlenn, JaclynGlenn, JaclynGlenn, GMA, YouTube, NRO, SarahKSilverman, Forbes, LeslieMarshall, JtMobleyFla, bawesome84, SouthwestAir, KABCRadio, GMA, Colossis2, dllynnnnn, NRO, KennedyNation, HillaryClinton, YouTube, SouthwestAir, FullFrontalSamB, JaclynGlenn, greggutfeld, DanScavino, realDonaldTrump, jonathanadler, DamienHirst, HuffingtonPost, LeslieMarshall, realDonaldTrump, JaclynGlenn, JoeNBC, tl1golf, SmaldinoLou, DebTate, Mikefa123, Jenn_Abrams, JaredWyand, JaclynGlenn, moisemorancy, rjjulia, JaclynGlenn, debra_tate9, Mikefa123, VP, Jenn_Abrams, JaredWyand, JaclynGlenn, Jenn_Abrams, JaredWyand, NRO, NRO, Shaddai289, dllynnnnn, iFunny, Colossis2, dllynnnnn, JaclynGlenn, JaredWyand, realDonaldTrump, Jenn_Abrams, JaredWyand, NRO, ABC, JaclynGlenn, JaclynGlenn, tyleroakley, ABC, Jenn_Abrams, JaredWyand, Jenn_Abrams, JaredWyand, KevinJacksonTBS, amyschumer, Jenn_Abrams, JaredWyand, alfranken, megynkelly, newtgingrich]                                                                                                                                                                                                                                                                                                                                           \n",
       "0101limey0101  [wikileaks, bearkilgore, hiphop247, BowieHutcheson, TCDwriter, hiphop247help, FoxNews, infowars, Project_Veritas, nia4_trump, bfraser747, JCArgentum, PodestaEmails18, Teri423, TrumpMartel, MichaelCohen212, realamerican, LenaMessick, medellinemil, Pamela_Moore13, newtgingrich, realDonaldTrump, infowars, kcphaeton, AussiesInTheUSA, infowars, dailyexpressuk, VictorB123, MattsonTina, mynameislauraca, seanhannity, BowieHutcheson, PiratePigeon, OliMauritania, WDFx2EU7, Morning_Joe, JoeNBC, peterschweizer, rudygiulianiGOP, peterdukephoto, JaredWyand, realDonaldTrump, AmericanSoWoke, bakedalaska, JoshLeCash, RealJamesWoods]                                                                                                                                                                                                                                                                                                                                                                                                                                                                                                                                                                                                                                                                                                                                         \n",
       "01801icecream  [Cronikeys, ScottAdamsSays, gfallar, KimDotcom, thomasonphx, JudgeJeanine, DonaldJTrumpJr, WSJ, JakobWakuzi, geoffkeene, jasoninthehouse, ScottAdamsSays, christe4, Snowden, Jeff__Yang, realDonaldTrump, jamescoleman07, HunterHRC2016, S0N0FDAD, DannyKean, SebastianCONFOR, dj74hutch, SandyHermannJ, alishabae69, CassandraRules, MMFlint, HumaAbedin, aaaaaaaaaaaronn, KimDotcom, politiclover1, DK_Dynamite86, PpollingNumbers, NateSilver538, politiclover1, JakobWakuzi, jamescoleman07, Alice_ShouHiro, HunterHRC2016, S0N0FDAD, MarkHarrisNYC, Snowden, ShirlsAdams, ddiddy171, AmericanVet3, ShirlsAdams, Phaltron, HunterHRC2016, Alice_ShouHiro, Jupiter13FD, therealmomofoc, gfallar, KimDotcom, JakobWakuzi, jasoninthehouse, ObamaMalik, Jupiter13FD, therealmomofoc, HillaryClinton, ScottAdamsSays, Dr_Memory, Snowden, Snowden, wikileaks, politiclover1, politiclover1, DrJillStein, MMFlint, ShirlsAdams, HunterHRC2016, ShirlsAdams, Phaltron, HunterHRC2016, Alice_ShouHiro, politiclover1, DK_Dynamite86, PpollingNumbers, NateSilver538, karlfrankjr, Snowden, PPact, ShirlsAdams, S0N0FDAD, HunterHRC2016, PpollingNumbers, auto_alliance, ESAGovAffairs, politiclover1, politiclover1, gfallar, KimDotcom, ShanChan_37, jasoninthehouse, irin, FabFreakaNature, thehawk1619, DannyKean, SebastianCONFOR, Jupiter13FD, CassandraRules, jasoninthehouse, ...]  \n",
       "0269Andy       [choochoo, sadmanonatrain, Accorhotels, networkrailbri, wshed, GWRUK, idanielblake, KenLoachSixteen, wshed, Number10gov, PostOffice, GWRHelp, exeterfire, wshed, picturehouses, Greg0wen, Greg0wen, GWRUKhelp, nationalrailenq, GWRUK, nationalrailenq, GWRHelp, networkrailBRI, spotthetourist, Greg0wen, StarbucksUk, kelwaysplants, Greg0wen, GWRUK]                                                                                                                                                                                                                                                                                                                                                                                                                                                                                                                                                                                                                                                                                                                                                                                                                                                                                                                                                                                                                                 "
      ]
     },
     "execution_count": 21,
     "metadata": {},
     "output_type": "execute_result"
    }
   ],
   "source": [
    "users_active.head()"
   ]
  },
  {
   "cell_type": "code",
   "execution_count": 24,
   "metadata": {},
   "outputs": [
    {
     "data": {
      "text/plain": [
       "(17066, 2)"
      ]
     },
     "execution_count": 24,
     "metadata": {},
     "output_type": "execute_result"
    }
   ],
   "source": [
    "users_active.shape"
   ]
  },
  {
   "cell_type": "code",
   "execution_count": 22,
   "metadata": {},
   "outputs": [],
   "source": [
    "import sklearn.feature_extraction.text as sk_text"
   ]
  },
  {
   "cell_type": "code",
   "execution_count": 23,
   "metadata": {},
   "outputs": [],
   "source": [
    "#vectorizer = sk_text.CountVectorizer(min_df=20)\n",
    "#matrix = vectorizer.fit_transform()"
   ]
  },
  {
   "cell_type": "code",
   "execution_count": null,
   "metadata": {},
   "outputs": [],
   "source": []
  }
 ],
 "metadata": {
  "kernelspec": {
   "display_name": "Python 3",
   "language": "python",
   "name": "python3"
  },
  "language_info": {
   "codemirror_mode": {
    "name": "ipython",
    "version": 3
   },
   "file_extension": ".py",
   "mimetype": "text/x-python",
   "name": "python",
   "nbconvert_exporter": "python",
   "pygments_lexer": "ipython3",
   "version": "3.5.3"
  }
 },
 "nbformat": 4,
 "nbformat_minor": 2
}
